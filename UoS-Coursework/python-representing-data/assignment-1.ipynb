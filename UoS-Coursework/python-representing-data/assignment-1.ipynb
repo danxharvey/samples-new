{
 "cells": [
  {
   "cell_type": "markdown",
   "metadata": {},
   "source": [
    "# University of Stirling\n",
    "\n",
    "# ITNPBD2, Representing and Manipulating Data\n",
    "\n",
    "# Assignment 2020\n",
    "\n",
    "# A Consultancy Job for JC Penny\n",
    "\n",
    "This notebook forms the assignment instructions and submission document of the  first assignment for ITNPBD2 in 2020. Read the instructions carefully and enter code into the cells as indicated.\n",
    "\n",
    "You will need to download five files. They are called:\n",
    "\n",
    "- jcpenney_reviewers.json\n",
    "- jcpenney_products.json\n",
    "- products.csv\n",
    "- reviews.csv\n",
    "- users.csv\n",
    "\n",
    "The data in these files describes products that have been sold by the American retail giant, JC Penny, and reviews by customers who bought them. Note that the product data is real, but the customer data is synthetic.\n",
    "\n",
    "Your job is to process the data, as requested in the instructions in the markdown cells in this notebook."
   ]
  },
  {
   "cell_type": "markdown",
   "metadata": {},
   "source": [
    "# Completing the Assignment\n",
    "\n",
    "Rename this file to be xxxxxx_BD2 where xxxxxx is your student number, then type your code into the boxes provided. Each question is given in a markdown call, and there is an empty box beneath each one where you enter your answer. These boxes should contain 2 things:\n",
    "\n",
    "- **The code that performs the required task**\n",
    "- **Comments that explain your code**\n",
    "\n",
    "Each question is worth 5 marks, making a total of 70. The remaining 30 marks are given for code style and comments. If you cannot get the code to work properly, you will still get some marks for correct comments."
   ]
  },
  {
   "cell_type": "markdown",
   "metadata": {},
   "source": [
    "# Submission and Other Notes\n",
    "\n",
    "- Submit your notebook to the Insendi platform when it is complete\n",
    "- Make sure the version you submit contains the results of running every cell. The output should be visible without the need to run the code again\n",
    "\n",
    "## Plagiarism\n",
    "\n",
    "Plagiarism is presenting somebody else’s work as your own. Plagiarism is a form of academic misconduct and is taken very seriously by the University. Students found to have plagiarised work can have marks deducted and, in serious cases, even be expelled from the University. Do not submit any work that is not entirely your own. \n",
    "\n",
    "The University’s full guidance on academic misconduct can be found here:\n",
    "\n",
    "http://stir.ac.uk/1x0\n"
   ]
  },
  {
   "cell_type": "markdown",
   "metadata": {},
   "source": [
    "# 1) Open both json files and read the contents of each into a string\n",
    "\n",
    "We will start with the JSON files. Open the two files:\n",
    "\n",
    "- jcpenney_reviewers.json\n",
    "- jcpenney_products.json\n",
    "\n",
    "and store the text they contain in two string variables called `reviewers_st` and `products_st`.\n",
    "Then print the first 500 characters of each string to get an idea of what is in the file"
   ]
  },
  {
   "cell_type": "code",
   "execution_count": 1,
   "metadata": {},
   "outputs": [
    {
     "name": "stdout",
     "output_type": "stream",
     "text": [
      "\n",
      "data type of reviewers_st: <class 'str'>\n",
      "First 500 characters of reviewers_st:\n",
      "{\"Username\": \"bkpn1412\", \"DOB\": \"31.07.1983\", \"State\": \"Oregon\", \"Reviewed\": [\"cea76118f6a9110a893de2b7654319c0\"]}\n",
      "{\"Username\": \"gqjs4414\", \"DOB\": \"27.07.1998\", \"State\": \"Massachusetts\", \"Reviewed\": [\"fa04fe6c0dd5189f54fe600838da43d3\"]}\n",
      "{\"Username\": \"eehe1434\", \"DOB\": \"08.08.1950\", \"State\": \"Idaho\", \"Reviewed\": []}\n",
      "{\"Username\": \"hkxj1334\", \"DOB\": \"03.08.1969\", \"State\": \"Florida\", \"Reviewed\": [\"f129b1803f447c2b1ce43508fb822810\", \"3b0c9bc0be65a3461893488314236116\"]}\n",
      "{\"Username\": \"jjbd1412\", \"DOB\":\n",
      "\n",
      "Data type of products_st: <class 'str'>\n",
      "First 500 characters of products_st:\n",
      "{\"uniq_id\": \"b6c0b6bea69c722939585baeac73c13d\", \"sku\": \"pp5006380337\", \"name_title\": \"Alfred Dunner\\u00ae Essential Pull On Capri Pant\", \"description\": \"You'll return to our Alfred Dunner pull-on capris again and again when you want an updated, casual look and all the comfort you love. \\u00a0 elastic waistband approx. 19-21\\\" inseam slash pockets polyester washable imported \\u00a0 \\u00a0 \\u00a0\", \"list_price\": \"41.09\", \"sale_price\": \"24.16\", \"category\": \"alfred dunner\", \"category_tree\": \"jcpenne\n",
      "\n",
      "\n",
      "End of code block\n"
     ]
    }
   ],
   "source": [
    "# import modules\n",
    "import os\n",
    "\n",
    "# Assume files are in current working directory\n",
    "# If different set path for file location: path = 'C:\\\\Downloads' for example\n",
    "path = os.getcwd()\n",
    "review_file = 'jcpenney_reviewers.json'\n",
    "product_file = 'jcpenney_products.json'\n",
    "\n",
    "# Import reviewers file\n",
    "try:\n",
    "    with open(review_file,'r') as json_file:\n",
    "        reviewers_st = json_file.read()\n",
    "except:\n",
    "    print(\"ERROR! Reviewers file not found. Please check working directory or set path accordingly (line 6)\")\n",
    "else:\n",
    "    # Import data from reviewers file\n",
    "    with open(review_file,'r') as json_file:\n",
    "        reviewers_st = json_file.read()\n",
    "\n",
    "    # Check variable is string\n",
    "        print(f\"\\ndata type of reviewers_st: {type(reviewers_st)}\")\n",
    "\n",
    "    # Print first 500 characters\n",
    "    print(f\"First 500 characters of reviewers_st:\\n{reviewers_st[0:500]}\")\n",
    "\n",
    "# Import products file\n",
    "try:\n",
    "    with open(product_file,'r') as json_file:\n",
    "        products_st = json_file.read()\n",
    "except:\n",
    "    print(\"\\nERROR! Products file not found. Please check working directory or set path accordingly (line 6)\")\n",
    "else:\n",
    "    # Import data from reviewers file\n",
    "    with open(product_file,'r') as json_file:\n",
    "        products_st = json_file.read()\n",
    "\n",
    "    # Check variable is string\n",
    "    print(f\"\\nData type of products_st: {type(products_st)}\")\n",
    "    \n",
    "    # Print first 500 characters\n",
    "    print(f\"First 500 characters of products_st:\\n{products_st[0:500]}\")\n",
    "\n",
    "# Inform end of code block\n",
    "print(\"\\n\\nEnd of code block\")"
   ]
  },
  {
   "cell_type": "markdown",
   "metadata": {},
   "source": [
    "# 2) Read the files into lists of rows\n",
    "\n",
    "Read each file again, this time putting the data from each into a list where each entry in the list is a single row from the file. You should have two variables. Call them `reviewers_list` and `products_list`.\n",
    "\n",
    "Print the first three entries of each array."
   ]
  },
  {
   "cell_type": "code",
   "execution_count": 2,
   "metadata": {},
   "outputs": [
    {
     "name": "stdout",
     "output_type": "stream",
     "text": [
      "Data type for reviewers_list: <class 'list'>\n",
      "Data type for item in reviewers_list: <class 'str'>\n",
      "Print first 3 entries:\n",
      "['{\"Username\": \"bkpn1412\", \"DOB\": \"31.07.1983\", \"State\": \"Oregon\", \"Reviewed\": [\"cea76118f6a9110a893de2b7654319c0\"]}', '{\"Username\": \"gqjs4414\", \"DOB\": \"27.07.1998\", \"State\": \"Massachusetts\", \"Reviewed\": [\"fa04fe6c0dd5189f54fe600838da43d3\"]}', '{\"Username\": \"eehe1434\", \"DOB\": \"08.08.1950\", \"State\": \"Idaho\", \"Reviewed\": []}']\n",
      "\n",
      "Data type for productss_list: <class 'list'>\n",
      "Data type for item in products_list: <class 'str'>\n",
      "Print first 3 entries:\n",
      "['{\"uniq_id\": \"b6c0b6bea69c722939585baeac73c13d\", \"sku\": \"pp5006380337\", \"name_title\": \"Alfred Dunner\\\\u00ae Essential Pull On Capri Pant\", \"description\": \"You\\'ll return to our Alfred Dunner pull-on capris again and again when you want an updated, casual look and all the comfort you love. \\\\u00a0 elastic waistband approx. 19-21\\\\\" inseam slash pockets polyester washable imported \\\\u00a0 \\\\u00a0 \\\\u00a0\", \"list_price\": \"41.09\", \"sale_price\": \"24.16\", \"category\": \"alfred dunner\", \"category_tree\": \"jcpenney|women|alfred dunner\", \"average_product_rating\": 2.625, \"product_url\": \"http://www.jcpenney.com/alfred-dunner-essential-pull-on-capri-pant/prod.jump?ppId=pp5006380337&catId=cat1002110079&&_dyncharset=UTF-8&urlState=/women/shop-brands/alfred-dunner/yellow/_/N-gkmp33Z132/cat.jump\", \"product_image_urls\": \"http://s7d9.scene7.com/is/image/JCPenney/DP1228201517142050M.tif?hei=380&amp;wid=380&op_usm=.4,.8,0,0&resmode=sharp2&op_usm=1.5,.8,0,0&resmode=sharp\", \"brand\": \"Alfred Dunner\", \"total_number_reviews\": 8, \"Reviews\": [{\"User\": \"fsdv4141\", \"Review\": \"You never have to worry about the fit...Alfred Dunner clothing sizes are true to size and fits perfectly. Great value for the money.\", \"Score\": 2}, {\"User\": \"krpz1113\", \"Review\": \"Good quality fabric. Perfect fit. Washed very well no iron.\", \"Score\": 4}, {\"User\": \"mbmg3241\", \"Review\": \"I do not normally wear pants or capris that have an elastic waist, but I decided to try these since they were on sale and I loved the color. I was very surprised at how comfortable they are and wear really well even wearing all day. I will buy this style again!\", \"Score\": 4}, {\"User\": \"zeqg1222\", \"Review\": \"I love these capris! They fit true to size and are so comfortable to wear. I am planning to order more of them.\", \"Score\": 1}, {\"User\": \"nvfn3212\", \"Review\": \"This product is very comfortable and the fabric launders very well\", \"Score\": 1}, {\"User\": \"aajh3423\", \"Review\": \"I did not like the fabric. It is 100% polyester I thought it was different.I bought one at the store apprx two monts ago, and I thought it was just like it\", \"Score\": 5}, {\"User\": \"usvp2142\", \"Review\": \"What a great deal. Beautiful Pants. Its more than I expected.\", \"Score\": 3}, {\"User\": \"yemw3321\", \"Review\": \"Alfred Dunner has great pants, good fit and very comfortable\", \"Score\": 1}], \"Bought With\": [\"898e42fe937a33e8ce5e900ca7a4d924\", \"8c02c262567a2267cd207e35637feb1c\", \"b62dd54545cdc1a05d8aaa2d25aed996\", \"0da4c2dcc8cfa0e71200883b00d22b30\", \"90c46b841e2eeece992c57071387899c\"]}', '{\"uniq_id\": \"93e5272c51d8cce02597e3ce67b7ad0a\", \"sku\": \"pp5006380337\", \"name_title\": \"Alfred Dunner\\\\u00ae Essential Pull On Capri Pant\", \"description\": \"You\\'ll return to our Alfred Dunner pull-on capris again and again when you want an updated, casual look and all the comfort you love. \\\\u00a0 elastic waistband approx. 19-21\\\\\" inseam slash pockets polyester washable imported \\\\u00a0 \\\\u00a0 \\\\u00a0\", \"list_price\": \"41.09\", \"sale_price\": \"24.16\", \"category\": \"alfred dunner\", \"category_tree\": \"jcpenney|women|alfred dunner\", \"average_product_rating\": 3.0, \"product_url\": \"http://www.jcpenney.com/alfred-dunner-essential-pull-on-capri-pant/prod.jump?ppId=pp5006380337&catId=cat1002310017&&_dyncharset=UTF-8&urlState=/women/specialty-sizing/petites/shop-brands/alfred-dunner/10-petite/_/N-gkqzcxZ1z1407s/cat.jump\", \"product_image_urls\": \"http://s7d9.scene7.com/is/image/JCPenney/DP1228201517142050M.tif?hei=380&amp;wid=380&op_usm=.4,.8,0,0&resmode=sharp2&op_usm=1.5,.8,0,0&resmode=sharp\", \"brand\": \"Alfred Dunner\", \"total_number_reviews\": 8, \"Reviews\": [{\"User\": \"tpcu2211\", \"Review\": \"You never have to worry about the fit...Alfred Dunner clothing sizes are true to size and fits perfectly. Great value for the money.\", \"Score\": 1}, {\"User\": \"vutl2421\", \"Review\": \"Good quality fabric. Perfect fit. Washed very well no iron.\", \"Score\": 3}, {\"User\": \"ixlo1324\", \"Review\": \"I do not normally wear pants or capris that have an elastic waist, but I decided to try these since they were on sale and I loved the color. I was very surprised at how comfortable they are and wear really well even wearing all day. I will buy this style again!\", \"Score\": 3}, {\"User\": \"dued2313\", \"Review\": \"I love these capris! They fit true to size and are so comfortable to wear. I am planning to order more of them.\", \"Score\": 3}, {\"User\": \"nkmn4113\", \"Review\": \"This product is very comfortable and the fabric launders very well\", \"Score\": 5}, {\"User\": \"tyfr4414\", \"Review\": \"I did not like the fabric. It is 100% polyester I thought it was different.I bought one at the store apprx two monts ago, and I thought it was just like it\", \"Score\": 2}, {\"User\": \"hyhy1222\", \"Review\": \"What a great deal. Beautiful Pants. Its more than I expected.\", \"Score\": 4}, {\"User\": \"oofb2342\", \"Review\": \"Alfred Dunner has great pants, good fit and very comfortable\", \"Score\": 3}], \"Bought With\": [\"bc9ab3406dcaa84a123b9da862e6367d\", \"18eb69e8fc27e9c79b3209b672317f5b\", \"52c6e0ee4e9f1f2389510d46d0405c1f\", \"a610cd02e529a837b54e83cef5064146\", \"a1cba5df721a1b35f2c706ddb6b889a0\"]}', '{\"uniq_id\": \"013e320f2f2ec0cf5b3ff5418d688528\", \"sku\": \"pp5006380337\", \"name_title\": \"Alfred Dunner\\\\u00ae Essential Pull On Capri Pant\", \"description\": \"You\\'ll return to our Alfred Dunner pull-on capris again and again when you want an updated, casual look and all the comfort you love. \\\\u00a0 elastic waistband approx. 19-21\\\\\" inseam slash pockets polyester washable imported \\\\u00a0 \\\\u00a0 \\\\u00a0\", \"list_price\": \"41.09\", \"sale_price\": \"24.16\", \"category\": \"view all\", \"category_tree\": \"jcpenney|women|view all\", \"average_product_rating\": 2.625, \"product_url\": \"http://www.jcpenney.com/alfred-dunner-essential-pull-on-capri-pant/prod.jump?ppId=pp5006380337&catId=cat1004110004&&_dyncharset=UTF-8&urlState=/women/specialty-sizing/petites/shop-brands/alfred-dunner/view-all/16/_/N-gltk8kZ9m/cat.jump\", \"product_image_urls\": \"http://s7d9.scene7.com/is/image/JCPenney/DP1228201517142050M.tif?hei=380&amp;wid=380&op_usm=.4,.8,0,0&resmode=sharp2&op_usm=1.5,.8,0,0&resmode=sharp\", \"brand\": \"Alfred Dunner\", \"total_number_reviews\": 8, \"Reviews\": [{\"User\": \"pcfg3234\", \"Review\": \"You never have to worry about the fit...Alfred Dunner clothing sizes are true to size and fits perfectly. Great value for the money.\", \"Score\": 3}, {\"User\": \"yark3323\", \"Review\": \"Good quality fabric. Perfect fit. Washed very well no iron.\", \"Score\": 1}, {\"User\": \"vbii4342\", \"Review\": \"I do not normally wear pants or capris that have an elastic waist, but I decided to try these since they were on sale and I loved the color. I was very surprised at how comfortable they are and wear really well even wearing all day. I will buy this style again!\", \"Score\": 5}, {\"User\": \"yegt2433\", \"Review\": \"I love these capris! They fit true to size and are so comfortable to wear. I am planning to order more of them.\", \"Score\": 1}, {\"User\": \"zqga3121\", \"Review\": \"This product is very comfortable and the fabric launders very well\", \"Score\": 1}, {\"User\": \"poql1141\", \"Review\": \"I did not like the fabric. It is 100% polyester I thought it was different.I bought one at the store apprx two monts ago, and I thought it was just like it\", \"Score\": 5}, {\"User\": \"zvyd3312\", \"Review\": \"What a great deal. Beautiful Pants. Its more than I expected.\", \"Score\": 4}, {\"User\": \"iukw3244\", \"Review\": \"Alfred Dunner has great pants, good fit and very comfortable\", \"Score\": 1}], \"Bought With\": [\"3ce70f519a9cfdd85cdbdecd358e5347\", \"b0295c96d2b1bb87be4eac9604b3b3d3\", \"4dcb4ca8eaeff5531c4a4c217e760ec7\", \"ed05ab49d0b09e9d16982eebad5c6f9f\", \"91370968f3f556de4c8d5cfbb543b23c\"]}']\n",
      "\n",
      "\n",
      "End of code block\n"
     ]
    }
   ],
   "source": [
    "# Files assumed to be present and correct after Q1\n",
    "\n",
    "# Import reviewers file again\n",
    "# Create empty list ready for import\n",
    "reviewers_list = []\n",
    "\n",
    "# Import reviewers file as list of strings\n",
    "with open('jcpenney_reviewers.json','r') as json_file:\n",
    "    for row in json_file:\n",
    "        data = json_file.read()\n",
    "        reviewers_list.append(data)\n",
    "\n",
    "# Create list of strings without \\n as separator\n",
    "reviewers_list = reviewers_st.split('\\n')\n",
    "# Clean list by removing any empty items (spotted at end of recordset)\n",
    "reviewers_list = [item for item in reviewers_list if item != '']\n",
    "\n",
    "# Check data for reviewers list\n",
    "print(f\"Data type for reviewers_list: {type(reviewers_list)}\")\n",
    "print(f\"Data type for item in reviewers_list: {type(reviewers_list[0])}\")\n",
    "print(f\"Print first 3 entries:\\n{reviewers_list[0:3]}\")\n",
    "\n",
    "\n",
    "# Import products file again\n",
    "# Create empty list ready for import\n",
    "products_list = []\n",
    "\n",
    "# Import reviewers file as list of strings\n",
    "with open('jcpenney_products.json','r') as json_file:\n",
    "    for row in json_file:\n",
    "        data = json_file.read()\n",
    "        products_list.append(data)\n",
    "\n",
    "# Create list of strings without \\n as separator\n",
    "products_list = products_st.split('\\n')\n",
    "# Clean list by removing any empty items (spotted at end of recordset)\n",
    "products_list = [item for item in products_list if item != '']\n",
    "\n",
    "# Check data for products list\n",
    "print(f\"\\nData type for productss_list: {type(products_list)}\")\n",
    "print(f\"Data type for item in products_list: {type(products_list[0])}\")\n",
    "print(f\"Print first 3 entries:\\n{products_list[0:3]}\")\n",
    "\n",
    "# Inform end of code block\n",
    "print(\"\\n\\nEnd of code block\")"
   ]
  },
  {
   "cell_type": "code",
   "execution_count": 15,
   "metadata": {
    "scrolled": true
   },
   "outputs": [
    {
     "name": "stdout",
     "output_type": "stream",
     "text": [
      "Data type for reviewers_list: <class 'list'>\n",
      "Data type for item in reviewers_list: <class 'str'>\n",
      "Print first 3 entries:\n",
      "['{\"Username\": \"bkpn1412\", \"DOB\": \"31.07.1983\", \"State\": \"Oregon\", \"Reviewed\": [\"cea76118f6a9110a893de2b7654319c0\"]}', '{\"Username\": \"gqjs4414\", \"DOB\": \"27.07.1998\", \"State\": \"Massachusetts\", \"Reviewed\": [\"fa04fe6c0dd5189f54fe600838da43d3\"]}', '{\"Username\": \"eehe1434\", \"DOB\": \"08.08.1950\", \"State\": \"Idaho\", \"Reviewed\": []}']\n",
      "\n",
      "Data type for products_list: <class 'list'>\n",
      "Data type for item in products_list: <class 'str'>\n",
      "Print first 3 entries:\n",
      "['{\"uniq_id\": \"b6c0b6bea69c722939585baeac73c13d\", \"sku\": \"pp5006380337\", \"name_title\": \"Alfred Dunner\\\\u00ae Essential Pull On Capri Pant\", \"description\": \"You\\'ll return to our Alfred Dunner pull-on capris again and again when you want an updated, casual look and all the comfort you love. \\\\u00a0 elastic waistband approx. 19-21\\\\\" inseam slash pockets polyester washable imported \\\\u00a0 \\\\u00a0 \\\\u00a0\", \"list_price\": \"41.09\", \"sale_price\": \"24.16\", \"category\": \"alfred dunner\", \"category_tree\": \"jcpenney|women|alfred dunner\", \"average_product_rating\": 2.625, \"product_url\": \"http://www.jcpenney.com/alfred-dunner-essential-pull-on-capri-pant/prod.jump?ppId=pp5006380337&catId=cat1002110079&&_dyncharset=UTF-8&urlState=/women/shop-brands/alfred-dunner/yellow/_/N-gkmp33Z132/cat.jump\", \"product_image_urls\": \"http://s7d9.scene7.com/is/image/JCPenney/DP1228201517142050M.tif?hei=380&amp;wid=380&op_usm=.4,.8,0,0&resmode=sharp2&op_usm=1.5,.8,0,0&resmode=sharp\", \"brand\": \"Alfred Dunner\", \"total_number_reviews\": 8, \"Reviews\": [{\"User\": \"fsdv4141\", \"Review\": \"You never have to worry about the fit...Alfred Dunner clothing sizes are true to size and fits perfectly. Great value for the money.\", \"Score\": 2}, {\"User\": \"krpz1113\", \"Review\": \"Good quality fabric. Perfect fit. Washed very well no iron.\", \"Score\": 4}, {\"User\": \"mbmg3241\", \"Review\": \"I do not normally wear pants or capris that have an elastic waist, but I decided to try these since they were on sale and I loved the color. I was very surprised at how comfortable they are and wear really well even wearing all day. I will buy this style again!\", \"Score\": 4}, {\"User\": \"zeqg1222\", \"Review\": \"I love these capris! They fit true to size and are so comfortable to wear. I am planning to order more of them.\", \"Score\": 1}, {\"User\": \"nvfn3212\", \"Review\": \"This product is very comfortable and the fabric launders very well\", \"Score\": 1}, {\"User\": \"aajh3423\", \"Review\": \"I did not like the fabric. It is 100% polyester I thought it was different.I bought one at the store apprx two monts ago, and I thought it was just like it\", \"Score\": 5}, {\"User\": \"usvp2142\", \"Review\": \"What a great deal. Beautiful Pants. Its more than I expected.\", \"Score\": 3}, {\"User\": \"yemw3321\", \"Review\": \"Alfred Dunner has great pants, good fit and very comfortable\", \"Score\": 1}], \"Bought With\": [\"898e42fe937a33e8ce5e900ca7a4d924\", \"8c02c262567a2267cd207e35637feb1c\", \"b62dd54545cdc1a05d8aaa2d25aed996\", \"0da4c2dcc8cfa0e71200883b00d22b30\", \"90c46b841e2eeece992c57071387899c\"]}', '{\"uniq_id\": \"93e5272c51d8cce02597e3ce67b7ad0a\", \"sku\": \"pp5006380337\", \"name_title\": \"Alfred Dunner\\\\u00ae Essential Pull On Capri Pant\", \"description\": \"You\\'ll return to our Alfred Dunner pull-on capris again and again when you want an updated, casual look and all the comfort you love. \\\\u00a0 elastic waistband approx. 19-21\\\\\" inseam slash pockets polyester washable imported \\\\u00a0 \\\\u00a0 \\\\u00a0\", \"list_price\": \"41.09\", \"sale_price\": \"24.16\", \"category\": \"alfred dunner\", \"category_tree\": \"jcpenney|women|alfred dunner\", \"average_product_rating\": 3.0, \"product_url\": \"http://www.jcpenney.com/alfred-dunner-essential-pull-on-capri-pant/prod.jump?ppId=pp5006380337&catId=cat1002310017&&_dyncharset=UTF-8&urlState=/women/specialty-sizing/petites/shop-brands/alfred-dunner/10-petite/_/N-gkqzcxZ1z1407s/cat.jump\", \"product_image_urls\": \"http://s7d9.scene7.com/is/image/JCPenney/DP1228201517142050M.tif?hei=380&amp;wid=380&op_usm=.4,.8,0,0&resmode=sharp2&op_usm=1.5,.8,0,0&resmode=sharp\", \"brand\": \"Alfred Dunner\", \"total_number_reviews\": 8, \"Reviews\": [{\"User\": \"tpcu2211\", \"Review\": \"You never have to worry about the fit...Alfred Dunner clothing sizes are true to size and fits perfectly. Great value for the money.\", \"Score\": 1}, {\"User\": \"vutl2421\", \"Review\": \"Good quality fabric. Perfect fit. Washed very well no iron.\", \"Score\": 3}, {\"User\": \"ixlo1324\", \"Review\": \"I do not normally wear pants or capris that have an elastic waist, but I decided to try these since they were on sale and I loved the color. I was very surprised at how comfortable they are and wear really well even wearing all day. I will buy this style again!\", \"Score\": 3}, {\"User\": \"dued2313\", \"Review\": \"I love these capris! They fit true to size and are so comfortable to wear. I am planning to order more of them.\", \"Score\": 3}, {\"User\": \"nkmn4113\", \"Review\": \"This product is very comfortable and the fabric launders very well\", \"Score\": 5}, {\"User\": \"tyfr4414\", \"Review\": \"I did not like the fabric. It is 100% polyester I thought it was different.I bought one at the store apprx two monts ago, and I thought it was just like it\", \"Score\": 2}, {\"User\": \"hyhy1222\", \"Review\": \"What a great deal. Beautiful Pants. Its more than I expected.\", \"Score\": 4}, {\"User\": \"oofb2342\", \"Review\": \"Alfred Dunner has great pants, good fit and very comfortable\", \"Score\": 3}], \"Bought With\": [\"bc9ab3406dcaa84a123b9da862e6367d\", \"18eb69e8fc27e9c79b3209b672317f5b\", \"52c6e0ee4e9f1f2389510d46d0405c1f\", \"a610cd02e529a837b54e83cef5064146\", \"a1cba5df721a1b35f2c706ddb6b889a0\"]}', '{\"uniq_id\": \"013e320f2f2ec0cf5b3ff5418d688528\", \"sku\": \"pp5006380337\", \"name_title\": \"Alfred Dunner\\\\u00ae Essential Pull On Capri Pant\", \"description\": \"You\\'ll return to our Alfred Dunner pull-on capris again and again when you want an updated, casual look and all the comfort you love. \\\\u00a0 elastic waistband approx. 19-21\\\\\" inseam slash pockets polyester washable imported \\\\u00a0 \\\\u00a0 \\\\u00a0\", \"list_price\": \"41.09\", \"sale_price\": \"24.16\", \"category\": \"view all\", \"category_tree\": \"jcpenney|women|view all\", \"average_product_rating\": 2.625, \"product_url\": \"http://www.jcpenney.com/alfred-dunner-essential-pull-on-capri-pant/prod.jump?ppId=pp5006380337&catId=cat1004110004&&_dyncharset=UTF-8&urlState=/women/specialty-sizing/petites/shop-brands/alfred-dunner/view-all/16/_/N-gltk8kZ9m/cat.jump\", \"product_image_urls\": \"http://s7d9.scene7.com/is/image/JCPenney/DP1228201517142050M.tif?hei=380&amp;wid=380&op_usm=.4,.8,0,0&resmode=sharp2&op_usm=1.5,.8,0,0&resmode=sharp\", \"brand\": \"Alfred Dunner\", \"total_number_reviews\": 8, \"Reviews\": [{\"User\": \"pcfg3234\", \"Review\": \"You never have to worry about the fit...Alfred Dunner clothing sizes are true to size and fits perfectly. Great value for the money.\", \"Score\": 3}, {\"User\": \"yark3323\", \"Review\": \"Good quality fabric. Perfect fit. Washed very well no iron.\", \"Score\": 1}, {\"User\": \"vbii4342\", \"Review\": \"I do not normally wear pants or capris that have an elastic waist, but I decided to try these since they were on sale and I loved the color. I was very surprised at how comfortable they are and wear really well even wearing all day. I will buy this style again!\", \"Score\": 5}, {\"User\": \"yegt2433\", \"Review\": \"I love these capris! They fit true to size and are so comfortable to wear. I am planning to order more of them.\", \"Score\": 1}, {\"User\": \"zqga3121\", \"Review\": \"This product is very comfortable and the fabric launders very well\", \"Score\": 1}, {\"User\": \"poql1141\", \"Review\": \"I did not like the fabric. It is 100% polyester I thought it was different.I bought one at the store apprx two monts ago, and I thought it was just like it\", \"Score\": 5}, {\"User\": \"zvyd3312\", \"Review\": \"What a great deal. Beautiful Pants. Its more than I expected.\", \"Score\": 4}, {\"User\": \"iukw3244\", \"Review\": \"Alfred Dunner has great pants, good fit and very comfortable\", \"Score\": 1}], \"Bought With\": [\"3ce70f519a9cfdd85cdbdecd358e5347\", \"b0295c96d2b1bb87be4eac9604b3b3d3\", \"4dcb4ca8eaeff5531c4a4c217e760ec7\", \"ed05ab49d0b09e9d16982eebad5c6f9f\", \"91370968f3f556de4c8d5cfbb543b23c\"]}']\n",
      "\n",
      "\n",
      "End of code block\n"
     ]
    }
   ],
   "source": [
    "# **************************************************************************************************\n",
    "# Completed as per Teams - Take Q1 and convert to list of strings - Q3 calculated from previous cell\n",
    "# **************************************************************************************************\n",
    "\n",
    "# Create lists using string variables from Q1 - split by new line separator\n",
    "reviewers_list = reviewers_st.split('\\n')\n",
    "products_list = products_st.split('\\n')\n",
    "\n",
    "# Clean list by removing any empty items (spotted at end of recordset)\n",
    "reviewers_list = [item for item in reviewers_list if item != '']\n",
    "products_list =  [item for item in products_list if item != '']\n",
    "\n",
    "# Check data for reviewers list\n",
    "print(f\"Data type for reviewers_list: {type(reviewers_list)}\")\n",
    "print(f\"Data type for item in reviewers_list: {type(reviewers_list[0])}\")\n",
    "print(f\"Print first 3 entries:\\n{reviewers_list[0:3]}\")\n",
    "\n",
    "# Check data for products list\n",
    "print(f\"\\nData type for products_list: {type(products_list)}\")\n",
    "print(f\"Data type for item in products_list: {type(products_list[0])}\")\n",
    "print(f\"Print first 3 entries:\\n{products_list[0:3]}\")\n",
    "\n",
    "# Inform end of code block\n",
    "print(\"\\n\\nEnd of code block\")"
   ]
  },
  {
   "cell_type": "markdown",
   "metadata": {},
   "source": [
    "# 3) Read each entry in the string arrays into dictionary objects to create two lists of dictionaries\n",
    "\n",
    "Iterate over the two lists, `reviewers_list` and `products_list` one at a time and produce two new lists of dictionaries. Call them `reviewers_dicts` and `products_dicts`.\n",
    "\n",
    "For full marks, do this with a list comprehension.\n",
    "\n",
    "Print the first 2 entries in each list."
   ]
  },
  {
   "cell_type": "code",
   "execution_count": 3,
   "metadata": {},
   "outputs": [
    {
     "name": "stdout",
     "output_type": "stream",
     "text": [
      "Data type for reviewers_dicts:<class 'list'>\n",
      "Data type for item in reviewers_dicts: <class 'dict'>\n",
      "Print first 2 entries:\n",
      "[{'Username': 'bkpn1412', 'DOB': '31.07.1983', 'State': 'Oregon', 'Reviewed': ['cea76118f6a9110a893de2b7654319c0']}, {'Username': 'gqjs4414', 'DOB': '27.07.1998', 'State': 'Massachusetts', 'Reviewed': ['fa04fe6c0dd5189f54fe600838da43d3']}]\n",
      "\n",
      "\n",
      "Data type for products_dicts: <class 'list'>\n",
      "Data type for item in products_dicts: <class 'dict'>\n",
      "Print first 2 entries:\n",
      "[{'uniq_id': 'b6c0b6bea69c722939585baeac73c13d', 'sku': 'pp5006380337', 'name_title': 'Alfred Dunner® Essential Pull On Capri Pant', 'description': 'You\\'ll return to our Alfred Dunner pull-on capris again and again when you want an updated, casual look and all the comfort you love. \\xa0 elastic waistband approx. 19-21\" inseam slash pockets polyester washable imported \\xa0 \\xa0 \\xa0', 'list_price': '41.09', 'sale_price': '24.16', 'category': 'alfred dunner', 'category_tree': 'jcpenney|women|alfred dunner', 'average_product_rating': 2.625, 'product_url': 'http://www.jcpenney.com/alfred-dunner-essential-pull-on-capri-pant/prod.jump?ppId=pp5006380337&catId=cat1002110079&&_dyncharset=UTF-8&urlState=/women/shop-brands/alfred-dunner/yellow/_/N-gkmp33Z132/cat.jump', 'product_image_urls': 'http://s7d9.scene7.com/is/image/JCPenney/DP1228201517142050M.tif?hei=380&amp;wid=380&op_usm=.4,.8,0,0&resmode=sharp2&op_usm=1.5,.8,0,0&resmode=sharp', 'brand': 'Alfred Dunner', 'total_number_reviews': 8, 'Reviews': [{'User': 'fsdv4141', 'Review': 'You never have to worry about the fit...Alfred Dunner clothing sizes are true to size and fits perfectly. Great value for the money.', 'Score': 2}, {'User': 'krpz1113', 'Review': 'Good quality fabric. Perfect fit. Washed very well no iron.', 'Score': 4}, {'User': 'mbmg3241', 'Review': 'I do not normally wear pants or capris that have an elastic waist, but I decided to try these since they were on sale and I loved the color. I was very surprised at how comfortable they are and wear really well even wearing all day. I will buy this style again!', 'Score': 4}, {'User': 'zeqg1222', 'Review': 'I love these capris! They fit true to size and are so comfortable to wear. I am planning to order more of them.', 'Score': 1}, {'User': 'nvfn3212', 'Review': 'This product is very comfortable and the fabric launders very well', 'Score': 1}, {'User': 'aajh3423', 'Review': 'I did not like the fabric. It is 100% polyester I thought it was different.I bought one at the store apprx two monts ago, and I thought it was just like it', 'Score': 5}, {'User': 'usvp2142', 'Review': 'What a great deal. Beautiful Pants. Its more than I expected.', 'Score': 3}, {'User': 'yemw3321', 'Review': 'Alfred Dunner has great pants, good fit and very comfortable', 'Score': 1}], 'Bought With': ['898e42fe937a33e8ce5e900ca7a4d924', '8c02c262567a2267cd207e35637feb1c', 'b62dd54545cdc1a05d8aaa2d25aed996', '0da4c2dcc8cfa0e71200883b00d22b30', '90c46b841e2eeece992c57071387899c']}, {'uniq_id': '93e5272c51d8cce02597e3ce67b7ad0a', 'sku': 'pp5006380337', 'name_title': 'Alfred Dunner® Essential Pull On Capri Pant', 'description': 'You\\'ll return to our Alfred Dunner pull-on capris again and again when you want an updated, casual look and all the comfort you love. \\xa0 elastic waistband approx. 19-21\" inseam slash pockets polyester washable imported \\xa0 \\xa0 \\xa0', 'list_price': '41.09', 'sale_price': '24.16', 'category': 'alfred dunner', 'category_tree': 'jcpenney|women|alfred dunner', 'average_product_rating': 3.0, 'product_url': 'http://www.jcpenney.com/alfred-dunner-essential-pull-on-capri-pant/prod.jump?ppId=pp5006380337&catId=cat1002310017&&_dyncharset=UTF-8&urlState=/women/specialty-sizing/petites/shop-brands/alfred-dunner/10-petite/_/N-gkqzcxZ1z1407s/cat.jump', 'product_image_urls': 'http://s7d9.scene7.com/is/image/JCPenney/DP1228201517142050M.tif?hei=380&amp;wid=380&op_usm=.4,.8,0,0&resmode=sharp2&op_usm=1.5,.8,0,0&resmode=sharp', 'brand': 'Alfred Dunner', 'total_number_reviews': 8, 'Reviews': [{'User': 'tpcu2211', 'Review': 'You never have to worry about the fit...Alfred Dunner clothing sizes are true to size and fits perfectly. Great value for the money.', 'Score': 1}, {'User': 'vutl2421', 'Review': 'Good quality fabric. Perfect fit. Washed very well no iron.', 'Score': 3}, {'User': 'ixlo1324', 'Review': 'I do not normally wear pants or capris that have an elastic waist, but I decided to try these since they were on sale and I loved the color. I was very surprised at how comfortable they are and wear really well even wearing all day. I will buy this style again!', 'Score': 3}, {'User': 'dued2313', 'Review': 'I love these capris! They fit true to size and are so comfortable to wear. I am planning to order more of them.', 'Score': 3}, {'User': 'nkmn4113', 'Review': 'This product is very comfortable and the fabric launders very well', 'Score': 5}, {'User': 'tyfr4414', 'Review': 'I did not like the fabric. It is 100% polyester I thought it was different.I bought one at the store apprx two monts ago, and I thought it was just like it', 'Score': 2}, {'User': 'hyhy1222', 'Review': 'What a great deal. Beautiful Pants. Its more than I expected.', 'Score': 4}, {'User': 'oofb2342', 'Review': 'Alfred Dunner has great pants, good fit and very comfortable', 'Score': 3}], 'Bought With': ['bc9ab3406dcaa84a123b9da862e6367d', '18eb69e8fc27e9c79b3209b672317f5b', '52c6e0ee4e9f1f2389510d46d0405c1f', 'a610cd02e529a837b54e83cef5064146', 'a1cba5df721a1b35f2c706ddb6b889a0']}]\n",
      "\n",
      "\n",
      "End of code block\n"
     ]
    }
   ],
   "source": [
    "# import modules\n",
    "import os\n",
    "import json\n",
    "\n",
    "# REVIEWERS LIST\n",
    "# Read strings items from list into json format to create list of lists\n",
    "# Create empty list for populating\n",
    "list_lists = []\n",
    "for row in reviewers_list:\n",
    "    data = json.loads(row)\n",
    "    list_lists.append([data])\n",
    "\n",
    "# Check for step 1 desired outcome (list of lists)\n",
    "# print(type(list_lists))\n",
    "# print(type(list_lists[1]))\n",
    "\n",
    "# Convert to list of dictionaries with list comprehension\n",
    "reviewers_dicts = [inner for outer in list_lists for inner in outer]\n",
    "\n",
    "# Check data types and print first 2 records\n",
    "print(f\"Data type for reviewers_dicts:{type(reviewers_dicts)}\")\n",
    "print(f\"Data type for item in reviewers_dicts: {type(reviewers_dicts[0])}\")\n",
    "print(f\"Print first 2 entries:\\n{reviewers_dicts[0:2]}\")\n",
    "\n",
    "\n",
    "# PRODUCTS LIST\n",
    "# Read strings items from list into json format to create list of lists\n",
    "# Create empty list for population\n",
    "list_lists = []\n",
    "for row in products_list:\n",
    "    data = json.loads(row)\n",
    "    list_lists.append([data])\n",
    "\n",
    "# Check for step 1 desired outcome (list of lists)\n",
    "# print(type(list_lists))\n",
    "# print(type(list_lists[1]))\n",
    "\n",
    "# Convert to list of dictionaries with list comprehension\n",
    "products_dicts = [inner for outer in list_lists for inner in outer]\n",
    "\n",
    "# Check data types and print first 2 records\n",
    "print(f\"\\n\\nData type for products_dicts: {type(products_dicts)}\")\n",
    "print(f\"Data type for item in products_dicts: {type(products_dicts[0])}\")\n",
    "print(f\"Print first 2 entries:\\n{products_dicts[0:2]}\")\n",
    "# Display would be a more readable option, not used to conserve space\n",
    "\n",
    "# Inform end of code block\n",
    "print(\"\\n\\nEnd of code block\")"
   ]
  },
  {
   "cell_type": "markdown",
   "metadata": {},
   "source": [
    "# 4) Prove that the type of the first entry in each list is a dictionary"
   ]
  },
  {
   "cell_type": "code",
   "execution_count": 4,
   "metadata": {},
   "outputs": [
    {
     "name": "stdout",
     "output_type": "stream",
     "text": [
      "Data type for first item in reviewers_dicts: <class 'dict'>\n",
      "Data type for first item in products_dicts: <class 'dict'>\n",
      "\n",
      "\n",
      "End of code block\n"
     ]
    }
   ],
   "source": [
    "# Prove first entry for each list is a dictionary\n",
    "print(f\"Data type for first item in reviewers_dicts: {type(reviewers_dicts[0])}\")\n",
    "print(f\"Data type for first item in products_dicts: {type(products_dicts[0])}\")\n",
    "\n",
    "# Inform end of code block\n",
    "print(\"\\n\\nEnd of code block\")"
   ]
  },
  {
   "cell_type": "markdown",
   "metadata": {},
   "source": [
    "# 5) List the keys for both the reviewers dictionary structure and the products dictionary structure\n",
    "\n",
    "Every entry in the reviewers list has the same structure, and the same is true for the products. Use Python code to display the names of the keys in each structure.\n",
    "\n",
    "Don't print any values at this point."
   ]
  },
  {
   "cell_type": "code",
   "execution_count": 5,
   "metadata": {},
   "outputs": [
    {
     "name": "stdout",
     "output_type": "stream",
     "text": [
      "Keys for reviewers_dicts:\n",
      "dict_keys(['Username', 'DOB', 'State', 'Reviewed'])\n",
      "\n",
      "Keys for products_dicts:\n",
      "dict_keys(['uniq_id', 'sku', 'name_title', 'description', 'list_price', 'sale_price', 'category', 'category_tree', 'average_product_rating', 'product_url', 'product_image_urls', 'brand', 'total_number_reviews', 'Reviews', 'Bought With'])\n",
      "\n",
      "Keys for products_dicts inner dictionary under 'Reviews' key:\n",
      "dict_keys(['User', 'Review', 'Score'])\n",
      "\n",
      "\n",
      "End of code block\n"
     ]
    }
   ],
   "source": [
    "# Print keys for each list of dictionaries\n",
    "print(f\"Keys for reviewers_dicts:\\n{reviewers_dicts[0].keys()}\")\n",
    "print(f\"\\nKeys for products_dicts:\\n{products_dicts[0].keys()}\")\n",
    "print(f\"\\nKeys for products_dicts inner dictionary under 'Reviews' key:\\n{products_dicts[0]['Reviews'][0].keys()}\")\n",
    "\n",
    "# Inform end of code block\n",
    "print(\"\\n\\nEnd of code block\")"
   ]
  },
  {
   "cell_type": "markdown",
   "metadata": {},
   "source": [
    "# 6) Extract the reviews list from the first product and display it\n",
    "\n",
    "Each product has a field called `Reviews`. Use some Python code to extract the detail and structure of this field from the first product in `products_dicts`. Write code to say as much as you can about the data in that field.\n",
    "\n",
    "In the comments, write about what the data represent and which parts of it your code is extracting."
   ]
  },
  {
   "cell_type": "code",
   "execution_count": 6,
   "metadata": {},
   "outputs": [
    {
     "name": "stdout",
     "output_type": "stream",
     "text": [
      "Content of 'Reviews' field for first product in products_dicts:\n",
      "[{'User': 'fsdv4141', 'Review': 'You never have to worry about the fit...Alfred Dunner clothing sizes are true to size and fits perfectly. Great value for the money.', 'Score': 2}, {'User': 'krpz1113', 'Review': 'Good quality fabric. Perfect fit. Washed very well no iron.', 'Score': 4}, {'User': 'mbmg3241', 'Review': 'I do not normally wear pants or capris that have an elastic waist, but I decided to try these since they were on sale and I loved the color. I was very surprised at how comfortable they are and wear really well even wearing all day. I will buy this style again!', 'Score': 4}, {'User': 'zeqg1222', 'Review': 'I love these capris! They fit true to size and are so comfortable to wear. I am planning to order more of them.', 'Score': 1}, {'User': 'nvfn3212', 'Review': 'This product is very comfortable and the fabric launders very well', 'Score': 1}, {'User': 'aajh3423', 'Review': 'I did not like the fabric. It is 100% polyester I thought it was different.I bought one at the store apprx two monts ago, and I thought it was just like it', 'Score': 5}, {'User': 'usvp2142', 'Review': 'What a great deal. Beautiful Pants. Its more than I expected.', 'Score': 3}, {'User': 'yemw3321', 'Review': 'Alfred Dunner has great pants, good fit and very comfortable', 'Score': 1}]\n",
      "\n",
      "Content of first review:\n",
      "{'User': 'fsdv4141', 'Review': 'You never have to worry about the fit...Alfred Dunner clothing sizes are true to size and fits perfectly. Great value for the money.', 'Score': 2}\n",
      "\n",
      "Keys of 'Reviews' sub-dictionary:\n",
      "dict_keys(['User', 'Review', 'Score'])\n",
      "\n",
      "Data types of review values:\n",
      "[<class 'str'>, <class 'str'>, <class 'int'>]\n",
      "\n",
      "Values from first review:\n",
      "dict_values(['fsdv4141', 'You never have to worry about the fit...Alfred Dunner clothing sizes are true to size and fits perfectly. Great value for the money.', 2])\n",
      "\n",
      "Expected number of reviews from 'total_number_reviews': 8\n",
      "Calculated number of reviews within 'Reviews' sub-dictionary: 8\n",
      "\n",
      "\n",
      "Data tells us that multiple reviews are stored within each product dictionary\n",
      "\n",
      "\n",
      "End of code block\n"
     ]
    }
   ],
   "source": [
    "# Extract data associated with 'Reviews' field for first product\n",
    "print(f\"Content of 'Reviews' field for first product in products_dicts:\\n{products_dicts[0]['Reviews']}\")\n",
    "\n",
    "# Extract first review to analyse structure at individual level\n",
    "print(f\"\\nContent of first review:\\n{products_dicts[0]['Reviews'][0]}\")\n",
    "\n",
    "# Extract keys from 'Reviews' sub-dictionary (same structure for each review)\n",
    "print(f\"\\nKeys of 'Reviews' sub-dictionary:\\n{products_dicts[0]['Reviews'][0].keys()}\")\n",
    "\n",
    "# Analyse data types of each value with first review (constant across all reviews)\n",
    "print(f\"\\nData types of review values:\\n{[type(i) for i in list(products_dicts[0]['Reviews'][0].values())]}\")\n",
    "\n",
    "# View values from first review\n",
    "print(f\"\\nValues from first review:\\n{products_dicts[0]['Reviews'][0].values()}\")\n",
    "\n",
    "# Number of reviews is given in the main dictionary entry, verify match by counting 'Reviews' dictionary entries\n",
    "print(f\"\\nExpected number of reviews from 'total_number_reviews': {products_dicts[0]['total_number_reviews']}\")\n",
    "print(f\"Calculated number of reviews within 'Reviews' sub-dictionary: {len(products_dicts[0]['Reviews'])}\")\n",
    "\n",
    "print(f\"\\n\\nData tells us that multiple reviews are stored within each product dictionary\")\n",
    "\n",
    "# Inform end of code block\n",
    "print(\"\\n\\nEnd of code block\")"
   ]
  },
  {
   "cell_type": "markdown",
   "metadata": {},
   "source": [
    "# 7) Write a function that takes a username and returns the full dictionary for that username\n",
    "\n",
    "The function should take one argument and return the dictionary from `reviewers_dicts` that contains the given username in its `Username` field. If the username is not found, it should return `None`.\n",
    "\n",
    "Name the function `find_user`\n",
    "\n",
    "Test it by calling it with `krpz1113` and `rtm3422`"
   ]
  },
  {
   "cell_type": "code",
   "execution_count": 7,
   "metadata": {},
   "outputs": [
    {
     "name": "stdout",
     "output_type": "stream",
     "text": [
      "Dictionary for user 'rtm3442':\n",
      "None\n",
      "\n",
      "Dictionary for user 'krpz1113':\n",
      "{'Username': 'krpz1113', 'DOB': '30.07.1987', 'State': 'Virginia', 'Reviewed': ['9ce30016f492e7cc09e4554d4c67230d', 'b28e5508c1b0022f47ae8c6f92c4cb6c', '0042bd96f5792677f1db0eb222972752']}\n",
      "\n",
      "\n",
      "End of code block\n"
     ]
    }
   ],
   "source": [
    "# Function to return dictionary entry from list that matches the supplied user\n",
    "def find_user(user):\n",
    "    try:\n",
    "        # Execute search code and return result if no error\n",
    "        [item for item in reviewers_dicts if item['Username'] == user][0]\n",
    "    except:\n",
    "        # If error found return None for display to user \n",
    "        return None\n",
    "    else:\n",
    "        return [item for item in reviewers_dicts if item['Username'] == user][0]\n",
    "\n",
    "    \n",
    "# Search for user rtm3442 (Deliberately printing None so users knows record was not found)\n",
    "print(f\"Dictionary for user \\'rtm3442\\':\\n{find_user('rtm3422')}\")\n",
    "\n",
    "# Search for user krpz1113\n",
    "print(f\"\\nDictionary for user \\'krpz1113\\':\\n{find_user('krpz1113')}\")\n",
    "\n",
    "# Inform end of code block\n",
    "print(\"\\n\\nEnd of code block\")"
   ]
  },
  {
   "cell_type": "markdown",
   "metadata": {},
   "source": [
    "# 8) Write another function that takes a product id and returns the full dictionary for the associated product\n",
    "\n",
    "The function should take one argument and return the dictionary from `products_dicts` that contains the given product id in its `uniq_id` field. If the product id is not found, it should return `None`.\n",
    "\n",
    "Name the function `find_product`\n",
    "\n",
    "Test it by calling it with `b28e5508c1b0022f47ae8c6f92c4cb6c`"
   ]
  },
  {
   "cell_type": "code",
   "execution_count": 8,
   "metadata": {},
   "outputs": [
    {
     "name": "stdout",
     "output_type": "stream",
     "text": [
      "Dictionary for product 'b28e5508c1b0022f47ae8c6f92c4cb6c':\n",
      "{'uniq_id': 'b28e5508c1b0022f47ae8c6f92c4cb6c', 'sku': 'pp5003910607', 'name_title': 'Island Shores™ Graphic Tee', 'description': 'Soft, graphic tee speaks the language of relaxed with your choice of fun, island-themed sayings. \\xa0 crewneck cotton washable imported', 'list_price': '26.59', 'sale_price': '12.07', 'category': 'clearance', 'category_tree': 'jcpenney|clearance', 'average_product_rating': 3.3333333333333335, 'product_url': 'http://www.jcpenney.com/island-shores-graphic-tee/prod.jump?ppId=pp5003910607&catId=cat100560018&&_dyncharset=UTF-8&urlState=/men/shop-sale-clearance/clearance/island-shores/_/N-1nvcluZpi/cat.jump', 'product_image_urls': 'http://s7d2.scene7.com/is/image/JCPenney/DP1226201318155278C.tif?wid=65&hei=65&fmt=jpg&op_usm=.4,.8,0,0&resmode=sharp2', 'brand': 'Island Shores', 'total_number_reviews': 3, 'Reviews': [{'User': 'xxlw3134', 'Review': 'Pros: Cotton is one of the softest I have ever purchased, top quality.Cons: Primary colors and average graphics.', 'Score': 1}, {'User': 'zdoz3242', 'Review': 'The fit is somewhat loose, and I could not discern the difference between med and large (fortunately I wear large). Definitely one of the most comfortable Ts out there. I would like to see a greater color selection. Most have an alcohol theme on the graphics.', 'Score': 5}, {'User': 'krpz1113', 'Review': 'I bought this for my brother and he loves it.Nice quality and unbeatable price.', 'Score': 4}], 'Bought With': ['2931bdb25d7e2fc4fe2eaf9d60146340', '2ad7c8ebba173261fc22d005ca16f622', '97e6cca8ce13b548e0fc8859e856e800', '36a7c928f30501ca7ef8ca0fba8602cb', '4c55b08cfe91eed857569bcc45bcafd4']}\n",
      "\n",
      "\n",
      "End of code block\n"
     ]
    }
   ],
   "source": [
    "# Function to return dictionary entry from list that matches the supplied product\n",
    "def find_product(uniqid):\n",
    "    try:\n",
    "        # Execute search code and return result if no error\n",
    "        [item for item in products_dicts if item['uniq_id'] == uniqid][0]\n",
    "    except:\n",
    "        # If error found return None for display to user \n",
    "        return None\n",
    "    else:\n",
    "        return [item for item in products_dicts if item['uniq_id'] == uniqid][0]\n",
    "\n",
    "# Search for product - display() would show that simple beautification of results is possible\n",
    "print(f\"Dictionary for product \\'b28e5508c1b0022f47ae8c6f92c4cb6c\\':\\n{find_product('b28e5508c1b0022f47ae8c6f92c4cb6c')}\")\n",
    "\n",
    "# Inform end of code block\n",
    "print(\"\\n\\nEnd of code block\")"
   ]
  },
  {
   "cell_type": "markdown",
   "metadata": {},
   "source": [
    "# 9) Now use the functions you have just written to list a user's reviews\n",
    "\n",
    "Write a *generator* function that takes a username and yields all the reviews the person with that username has written, one at a time.\n",
    "\n",
    "Call the function to get a generator object and then iterate over it to list the reviews written by username `krpz1113`."
   ]
  },
  {
   "cell_type": "code",
   "execution_count": 9,
   "metadata": {},
   "outputs": [
    {
     "name": "stdout",
     "output_type": "stream",
     "text": [
      "1/3 reviews by user: krpz1113\n",
      "-----------------------------\n",
      "\n",
      "Product ID: 9ce30016f492e7cc09e4554d4c67230d\n",
      "Product Description: Foreo Luna™ Mini\n",
      "Product Review: I am completely in love with this device...my skin looks seriously flawless after less than 2 weeks use. I wasnt going to write a review this soon, but I am just that impressed and it has made a difference very quickly. I havent had major acne or anything, but I do have clogged pores and some hyper pigmentation on my temples. I have normal to combination skin. Because I use chemical exfoliants (most recently the Drunk Elephant TLC Glycolic Night Serum with BHA & AHA) I felt like using a Clarisonic would be too aggressive on my skin and overexfoliate. So when I read a ton of good reviews and watched a video on YouTube of a Beautypedia review of this product (check it out, it has some helpful info...they say it doesnt matter which device you get the $99 or $169 one the results are the same) I had to try it since it supposed to be gentler on your skin than the Clarisonic. I was VERY skeptical it would work, and actually thought the silicone bristles would actually impact my pores and make them more clogged. I was impressed after the first use. My face was super soft and it did bring up some of the gunk that had been in my pores that my BHA could not get out. Really impressive because I swear by chemical exfoliants. Initially the first few days my skin did go through a minor purging period where it was bringing up debris from my pores that had been deep in my skin. But after those few days my skin is literally glowing. I have seen the edges around my dark spots start to fade because I believe it helps my serum and other treatments sink in deeper than they normally would. I even use it around my eyes which usually get drier than the rest of my face and my makeup settles into my squinting lines under my eyes. After using this for almost two weeks my eyes look much smoother with makeup on mainly because I think my moisturizer and serum is able to penetrate deeper. I noticed last night that I had a milia bump by my eye (a stubborn little whitehead that are impossible to get fid of) and it is completely gone! I am still able to use my Drunk Elephant Glycolic Serum with no problems or sensitivity. This is very gentle, I dont feel like I am scrubbing off my face. I do only use it at night though. It is very easy to use and keep clean. The way it is made it fits easily into your palm and can get into the crevices of your face and around and under your eyes. It feels nice to use, I even have my hubby using it also! I cant compare it to the Clarisonic but just because this is a gentle cleansing device it packs a mighty punch in getting your face cleaner than you have ever seen, seriously. Sorry for the long review, but this is an investment you should research before buying so I hope this was helpful! This little gem was worth every penny!\n",
      "\n",
      "\n",
      "2/3 reviews by user: krpz1113\n",
      "-----------------------------\n",
      "\n",
      "Product ID: b28e5508c1b0022f47ae8c6f92c4cb6c\n",
      "Product Description: Island Shores™ Graphic Tee\n",
      "Product Review: I bought this for my brother and he loves it.Nice quality and unbeatable price.\n",
      "\n",
      "\n",
      "3/3 reviews by user: krpz1113\n",
      "-----------------------------\n",
      "\n",
      "Product ID: 0042bd96f5792677f1db0eb222972752\n",
      "Product Description: My Michelle® Strapless Embellished-Bodice Party Dress\n",
      "Product Review: Saw the same dress at another dept store for over twice the price. this material just as nice beautiful details looks elegant highly reccommend\n",
      "\n",
      "\n",
      "\n",
      "\n",
      "End of code block\n"
     ]
    }
   ],
   "source": [
    "# Function to extract reviews made by a given users\n",
    "def find_reviews(user):\n",
    "    try:\n",
    "        # Ensure user is found\n",
    "        find_user(user)['Reviewed']\n",
    "        # Ensure products and reviews are found\n",
    "        for i in find_user(user)['Reviewed']:\n",
    "            [item['Review'] for item in find_product(i)['Reviews'] if item['User'] == user]\n",
    "    except:\n",
    "        # If error found return None for display to user \n",
    "        return print(f\"Reviews found: {None}\")\n",
    "    else:\n",
    "        # Find products reviewed by user\n",
    "        user_reviews = find_user(user)['Reviewed']\n",
    "\n",
    "        # Produce output\n",
    "        # Set count for identifying which review generator displays\n",
    "        count = 1\n",
    "        # Loop through reviews\n",
    "        for i in user_reviews:\n",
    "            print(f\"{count}/{len(user_reviews)} reviews by user: {user}\")\n",
    "            print(\"-----------------------------\")\n",
    "            print(f\"\\nProduct ID: {i}\")\n",
    "            print(f\"Product Description: {find_product(i)['name_title']}\")\n",
    "            # Extract all user reviews from target product with list comprehension\n",
    "            prod_reviews = [item['Review'] for item in find_product(i)['Reviews'] if item['User'] == user]\n",
    "            # Use \"\".join() to remove [] from list output\n",
    "            print(\"Product Review:\", \"\".join(prod_reviews))\n",
    "            # increase count\n",
    "            count += 1\n",
    "            print(\"\\n\")\n",
    "            yield(\"Execute code block again for next review\")\n",
    "        # Display message to end review list\n",
    "        yield(\"You have read all reviews by this user\")\n",
    "\n",
    "        \n",
    "# Create generator instance\n",
    "find_reviews_gen = find_reviews('krpz1113')\n",
    "\n",
    "# loop through generator values\n",
    "for i in find_reviews_gen:\n",
    "    next(find_reviews_gen)\n",
    "\n",
    "# Inform end of code block\n",
    "print(\"\\n\\nEnd of code block\")"
   ]
  },
  {
   "cell_type": "markdown",
   "metadata": {},
   "source": [
    "# 10) List all the unique product categories\n",
    "\n",
    "Find all the unique product categories mentioned in the `category` field of the products data and store them in a set. Print the contents of the set."
   ]
  },
  {
   "cell_type": "code",
   "execution_count": 10,
   "metadata": {},
   "outputs": [
    {
     "name": "stdout",
     "output_type": "stream",
     "text": [
      "Unique categories from products_dicts:\n",
      "['', '$20-$30 boots', '$24.99 dresses', '$25 and under', '$30 & under', '$30-$50 handbags & wallets', '$40-$50 boots', '$50 and over boots', '$50 and under', '$9.99 select items', '2-day deals', '3-stone rings', 'ENERGY STAR certified', 'EXPLORE THE CATALOG', 'HIDDEN CATEGORIES', 'My Little Pony', 'Stafford belts, suspenders, & wallets', 'Stafford pajamas, robes, & slippers', 'Stafford pants', 'Stafford shirts', 'Stafford socks & underwear', 'Stafford suits & sportcoats', 'Stafford ties & accessories', 'Star Wars', 'a.n.a', 'a.n.a.', 'accent furniture', 'accent pillows', 'accessories', 'active', 'active jackets', 'activewear', 'add your items', 'adidas', 'adidas climacool apparel', 'adidas joggers', 'akademiks', 'alfred dunner', 'all athletic shoes', 'all boots', 'all brands', 'all christmas decor', 'all comfort shoes', 'all dress shoes', 'all extended sizes', 'all fashion jewelry', 'all fine jewelry', 'all guys pants', 'all juniors shoes', 'all kids shoes', \"all men's shoes\", 'all modern bride', 'all sandals & flip flops', 'all sneakers', 'all watches', \"all women's shoes\", 'all work shoes', 'alyx', 'ambrielle', 'animals & critters', 'ankle boots & booties', 'ankle, crops & capris', 'appliance packages', 'aprons & kitchen towels', 'area rugs', 'aris by treska', 'arizona', 'armitron', 'arts & crafts', 'assets red hot label by spanx', 'athleisure', 'athletic', 'athletic clothes', 'athletic jogger pants', 'athletic sandals', 'athletic shirts', 'athletic shoes', 'athletic shorts', 'azul', 'baby', 'baby & toddler clothing', 'baby bedding', 'baby boy clothes 0-24 months', 'baby essentials', 'baby furniture', 'baby gifts', 'baby girl 0-24 months', 'baby girl clothes 0-24 months', 'baby monitors', 'baby shower', \"baby's coats & jackets\", \"baby's shorts\", \"baby's sleepwear\", \"baby's swimwear\", 'backpacks', 'backpacks & bags', 'bags and backpacks', 'bakeware', 'balconette bras', 'bali', 'ballet flats', 'bar stools', 'barware + stemware', 'basic t-shirts', 'basketball', 'bath furniture', 'bath rugs & bath mats', 'bath rugs & mats', 'bath storage', 'bath towels', 'bath towels & decor', 'bath towels sizes & care tips', 'bathroom accessories', 'batman vs. superman', 'bb & cc creams', 'beach towels', 'bean bag chairs', 'bed & bath', 'bed frames', 'bed head', 'bed skirts', 'bedding', 'bedding sets', 'bedroom curtains & decor', 'bedroom sets', 'beds', 'beds & bedroom sets', 'bedspreads', 'belle + sky', 'belts', 'belts & accessories', 'belts & suspenders', 'benches', 'benches & ottomans', 'bermuda', 'big & tall', 'big kid (6-20)', 'bijoux bar @ jcp', 'birthstone jewelry', 'bisou bisou', 'black label by evan picone', 'blackout curtains & shades', 'blankets & throws', 'blazers', 'blenders & juicers', 'blinds & shades', 'blush', 'boat shoes', 'body lotions & body oils', 'body wash & shower gel', 'boho', 'bomber jackets', 'bonus pack socks', 'bootcut', 'boots', 'bottoms', 'boutique+', \"boy's jeans\", \"boy's pants\", \"boy's shorts\", 'boyfriend', 'boys', 'boys 2t-5t', 'boys 4-7', 'boys 8-20', 'boys athletic shoes', 'boys casual shoes', 'boys husky', 'boys shoes', 'boys slim', 'boys sneakers', 'boys uniform shoes', 'bracelets', 'braided', 'bras', 'bras $10-$13', 'bras $30 & under', 'bras & accessories', 'bras & panties', 'bras under $20', 'bras, underwear & socks', 'breast cancer awareness ties', 'bridal lingerie', 'bridesmaid dresses', 'brushes & applicators', 'buffets & storage', 'bulova', 'business & laptop', 'button-down', 'button-front', 'buy more & save', 'buy more and save', 'by & by', 'by category', 'by recipient', 'call it spring', 'calphalon', 'camisoles & tanks', 'canisters', 'canvas & boat shoes', 'capris & crops', 'car seats', 'cardigan', 'cardigans', 'cardigans & shrugs', 'cargo pants', 'cargo shorts', 'cargos', 'carry-ons', 'cars', \"carter's\", 'carts & islands', 'casio', 'casual', 'casual boots', 'casual button-down shirts', 'casual dinnerware', 'casual flats', 'casual sandals', 'casual shirts', 'casual shoes', 'chair cushions', 'chair cushions & covers', 'chairs', 'chairs & recliners', 'champion', 'checked bags', 'chests & cabinets', 'chi', 'christmas bedding & bath', 'christmas pajamas & slippers', 'christmas shop', 'christmas sweaters', 'christmas tabletop', 'church dresses', 'cinderella', 'citizen', 'city fit', 'clarks', 'cleansers', 'clearance', 'clocks & mirrors', 'closeouts', 'clothing', 'clothing sets', 'clutches & evening bags', 'coats', 'coats & jackets', 'coats + jackets', 'cocktail glasses', 'coffee', 'coffee & tea', 'coffee mugs', 'coffeemakers', 'cold weather & rain boots', 'cold weather bedding', 'collared & button-front', 'collection by michael strahan', 'collections', 'college & dorm bedding', 'college kitchen essentials', 'colored diamonds', 'columbia', 'comfort clogs & mules', 'comfort dress shoes', 'comfort flats', 'comfort sandals', 'comfort shoes', 'comfort sneakers', 'comforters', 'comforters & bedding sets', 'converse', 'cooks', 'cooktops', 'cookware', 'costumes & dress up', 'costumes & dress-up', 'costumes and accessories', 'cotton', 'couristan', 'cover-ups', 'coveralls & overalls', 'coverlets', 'croscill classics', 'crossbody bags', 'cuisinart', 'curling irons', 'curtain rods & hardware', 'curtains & drapes', 'cushioned socks', 'cushions & pillows', 'customer favorites', 'cutlery & cutting boards', 'dale tiffany', 'deals', 'deco glow', 'decorative objects', 'decorative pillows & shams', 'decree', 'demi & plunge bras', 'denim jackets', 'denim shorts', 'designer pick 2', 'designer picks', 'desks', 'desks & chairs', 'desktop & electronics', 'diamonart', 'diamond jewelry', 'diamond rings', 'diaper bags', 'dickies', 'dining room chairs', 'dining room tables', 'dining sets', 'dinnerware', 'dishes', 'dishwashers', 'disney', 'disney apparel by okie dokie', 'disney princess', 'dockers', 'dolls & doll houses', 'doorbuster', 'dorm room decor', 'down & down-alt comforters', 'down comforters', 'dream on collection', 'dress boots', 'dress clothes', 'dress pants', 'dress sandals', 'dress shirts', 'dress shirts & ties', 'dress shoes', 'dressers & chests', 'dressers & nightstands', 'dresses', 'dresses & dress clothes', 'dresses & skirts', 'drink dispensers', 'drinkware sets', 'dryers', 'dutch ovens', 'duvets', 'earrings', 'easter', 'ecko unltd', 'eclo™ earth-friendly pants', 'electric blankets', 'emma', 'energy efficient & blackout', 'entertaining shop', 'epicurious', 'essential mens pants', 'essentials', 'eva longoria home', 'evening and cocktail dresses', 'evening separates', 'extended sizes', 'extra wide widths', 'eye brushes', 'eye care', 'eye makeup', 'eyebrows', 'eyeliner', 'face brushes', 'face makeup', 'face oils', 'face powder', 'face primer', 'face serum & treatments', 'face wash & cleanser', 'face wash for men', 'fall harvest & thanksgiving', 'false eyelashes', 'family travel', 'farberware', 'fashion', 'fashion accessories', 'fashion jewelry', 'fashion jewelry & watches', 'fashion rings', 'fashion tops', 'fashion watches', 'faux fur boots', 'faux wood blinds', 'fila', 'fine jewelry for bride', 'fine watches', 'fit and flare', 'fit and flare dresses', 'fit secrets', 'fitness', 'fitness accessories', 'flannel shirts', 'flat front pants', 'flat front shorts', 'flats & ballet', 'flats & loafers', 'flatware', 'fleece', 'fleece jackets', 'flip flops', 'flirtitude', 'food storage', 'footwear', 'for baby', 'for juniors', 'for kids', 'for men', 'for the bride', 'for the home', 'for women', 'formal table setting', 'foundation', 'fourth of july', 'free country', 'freezers & ice makers', 'french country', 'french toast', 'full figure bras', 'full figure minimizer bras', 'full figure racerback bras', 'full figure sports bras', 'full figure strapless & convertible bras', 'full figure t-shirt bras', 'full figure underwire bras', 'full figure wireless bras', 'furniture', 'furniture & decor', 'furniture sets', 'gadgets', 'gadgets, games & outdoor', 'games & puzzles', 'ge', 'gemstone jewelry', 'gemstone rings', 'gifts & accessories', 'gifts over $100', 'gifts under $100', 'gifts under $15', 'gifts under $25', 'gifts under $50', \"girl's jeans\", \"girl's pants\", \"girl's school uniforms\", \"girl's shorts\", \"girl's swimwear\", 'girls', 'girls 2t-5t', 'girls 4-6x', 'girls 7-16', 'girls athletic shoes', 'girls casual shoes', 'girls dress shoes', 'girls one piece swimsuits', 'girls plus', 'girls shoes', 'girls slim', 'girls view all', \"girls' graphic tees\", 'glamorise', 'glassware & mugs', 'glassware + mugs', 'gliders & rockers', 'gloria vanderbilt', 'gold jewelry', 'gold toe', 'gold tone jewelry', 'golf', 'golf apparel', 'golf jackets', 'golf shop', 'graduation', 'graduation dresses', 'graphic t-shirts', 'graphic tees', 'grills & griddles', 'groom accessories', 'groom, groomsmen & fathers', \"guy's coats & jackets\", \"guy's jeans\", \"guy's pants\", \"guy's school uniforms\", \"guy's shorts\", \"guy's sleepwear\", \"guy's swimwear\", 'guys', 'guys prom shop', 'haggar', 'hair brushes & combs', 'hair care', 'hair color & root touch up', 'hair oil', 'hairspray & styling products', 'hamilton beach', 'handbags', 'handbags & accessories', 'hanes', 'hangers', 'hardside luggage', 'hardware', 'hats, scarves & gloves', 'health & wellness', 'henley shirts', 'high tech tools', 'highlighter', 'hipster', 'hobo bags', 'holiday decor', 'home', 'home decor', 'home decor & rugs', 'home environment', 'home expressions', 'home improvement', 'home office', 'homecoming dresses', 'hoodies & fleece', 'hoodies & sweaters', 'hoodies & sweatshirts', 'hoover', 'housewarming', 'hypoallergenic earrings', 'i heart ronson', 'i jeans by buffalo', 'i said yes', 'ice cream & beverage', 'industrial', 'infant & toddler', 'infant & toddler shoes', 'inspirational jewelry', 'irons & laundry care', 'izod', 'jacket dresses', 'jackets & blazers', 'jackets & hoodies', 'jamaica bay', \"january's birthstone\", 'jcpenney', 'jcpenney black friday sale', 'jcpenney home', 'jean jackets', 'jeans', 'jeans & pants', 'jegging', 'jewelry', 'jewelry & watches', 'jewelry boxes & armoires', 'jewelry sets', 'jf j.ferrar', 'jockey', 'jogger pants', \"july's birthstone\", 'jumpsuits & rompers', \"june's birthstone\", \"june's birthstone: pearl\", \"junior's graphic tees\", 'juniors', 'juniors jewelry', 'juniors lingerie', 'juniors plus', \"juniors' jeans\", \"juniors' school uniforms\", \"juniors' shorts\", \"juniors' sweaters\", \"juniors' swimwear\", 'keracare', 'kid', \"kid's apparel\", \"kid's coats & jackets\", \"kid's crafts\", \"kid's shoes\", \"kid's sleepwear\", \"kid's sneakers\", 'kids', 'kids & teen rooms', 'kids & teens', 'kids & teens bath', 'kids & teens bedding', 'kids & teens furniture', 'kids & teens room decor', 'kids & teens rugs', 'kids athletic shoes', 'kids bedding', 'kids boots', 'kids casual shoes', 'kids chairs', 'kids character shoes', 'kids in the kitchen', 'kids sandals', 'kids sneakers', 'kids watches', \"kids' jewelry\", 'kimonos & ponchos', 'king mattresses', 'kitchen & dining', 'kitchen curtains', 'kitchen furniture', 'kitchen gadgets & utensils', 'kitchen packages', 'kitchen rugs', 'kitchen storage & organization', 'kitchenaid', 'knee & thigh highs', 'krups', 'kubo collection', 'lace dresses', 'large sizes 13 & over', 'larger sizes', 'laundry & cleaning', 'laundry care & storage', 'leather & faux leather jackets', 'leather bags', 'leather strap watches', 'lee', 'leggings', \"levi's\", \"levi's 501 original fit-big tall\", \"levi's 501® original\", \"levi's 501® shrink to fit\", 'levi’s', 'levi’s 511™ slim', 'levi’s 513™ slim straight', 'levi’s 514™ straight', 'levi’s 560™ comfort', 'levi’s 569™ loose straight', 'lg', 'lighting & lamps', 'lightweight jackets', 'linens', 'lingerie', 'lingerie sets', 'lip', 'living room', 'living room sets', 'liz claiborne', 'liz claiborne (copy)', 'loafers', 'loafers & slip-ons', 'long underwear & thermals', 'loungewear', 'luggage & backpacks', 'luggage collections', 'luminaire', 'made for life', 'madison park', 'maidenform', 'makeup brush sets', 'makeup palettes', 'makeup palettes & sets', 'martha stewart', 'marvel shop', 'mascara', 'matching jewelry', 'maternity', 'mattress pads', 'mattress pads & toppers', 'mattresses', 'maxi dresses', 'mcklein', 'media', 'media & storage furniture', 'media seating', 'memory foam', 'men', \"men's apparel\", \"men's coats & jackets\", \"men's fleece\", \"men's graphic tees\", \"men's jeans\", \"men's jewelry\", \"men's pants\", \"men's shorts\", \"men's sleepwear\", \"men's sneakers\", \"men's sweaters\", \"men's swimwear\", \"men's watches\", 'mens', 'mens thermals', 'mi zone', 'mickey mouse and friends', 'mid-calf boots', 'mixit', 'mobile & tablet', 'modern fit', 'moisture wicking underwear', 'monogram shop', 'mosaica', 'mother of bride/groom', 'mother-of-the-bride/groom', 'nail base coats & top coats', 'nail polish', 'nails', 'name & initial jewelry', 'natural comfort & cotton', 'nautical', 'necklaces & pendants', 'neckties', 'new arrivals', 'new balance', \"new year's eve dresses\", 'nicole by nicole miller', 'night creams', 'nike', 'nike base layer', 'nike elite socks', 'ninja', 'nordicware', 'nourison', 'nursing', 'nursing & feeding', 'nursing bras', 'nursing bras & tank tops', 'okie dokie', 'oliver collection', 'one piece', 'one piece & bodysuits', 'one pieces', 'open toe & peep toe', 'original fit', \"oshkosh b'gosh\", 'ottomans', 'outdoor curtains & shades', 'outdoor grilling', 'outdoor rugs & door mats', 'outdoor rugs & doormats', \"outfits you'll love\", 'oxford shirts', 'pajama separates', 'pajama sets', 'pajamas', 'pajamas & nightgowns', 'pajamas & robes', 'pajamas and robes', 'pajamas and slippers', 'panties', 'pants', 'pants & bottoms', 'pants & capris', 'pants & jeans', 'pants & leggings', 'pants & skirts', 'pants and joggers', 'pantyhose', 'patio', 'patio & outdoor living', 'patio furniture', 'pattern', 'pearl jewelry', 'peasant', 'perfume', 'persian & oriental', 'personal care', 'personalized', 'personalized gifts for him', 'personalized wedding bands', 'pet care', 'petite', 'pfaltzgraff', 'pga tour', 'pillow cases & protectors', 'pillows', 'pillows & throws', 'platform', 'playtex', 'pleated pants', 'plus size', 'plus size lingerie', 'plus sizes', 'polos', 'possibilities collection', 'pots & pans', 'preschool (4-7x)', 'pretend play', 'prom dresses', 'promise rings', 'pumps', 'pumps & heels', 'quilts', 'quilts & bedspreads', 'racer back bras', 'rachael ray', 'red kap', 'reebok', 'refrigerators', 'reinforced toe & heel socks', 'relic', 'reversible belts', 'rice cookers & steamers', 'riding boots', 'ring bearer', 'rings', 'roasting pans', 'robby len', 'robes & wraps', 'roller shades', 'rollerballs & travel size', 'roman shades', 'room decor', 'rosetti', 'royal velvet', 'rugs', 'runners', 'running', 'rustic', 'sale', 'salon', 'samsung', 'sandals $20-$30', 'sandals $30-$40', 'sandals & flip flops', 'sandals over $40', 'sandals under $20', 'satchels', 'sauce & saute pans', 'scalp & hair treatment', 'school uniforms', 'scrubs & lab coats', 'sealy', 'search-results', 'sectionals', 'seiko', 'self-tanner for body', 'self-tanner for face', \"september's birthstone\", 'serveware', 'sets', 'seventeen', 'sexy lingerie', 'shapewear', 'shapewear & girdles', 'sheath dresses', 'sheer curtains', 'sheets', 'shift dresses', 'shirts', 'shirts & blouses', 'shirts & tees', 'shirts & tops', 'shirts and tops', 'shoe, handbag & accessories sale', 'shoes', 'shop all characters', 'shop all_dummy', 'shop by shoe width', 'shop now', 'shorts', 'shorts & capris', 'shorts & crops', 'shorts & swim', 'shorts & swimwear', 'shoulder bags', 'shower curtains', 'shrugs', 'signature khakis', 'simplehuman', 'single serve brewers', 'skate shop', 'skechers', 'skeleton watches', 'skillets & frying pans', 'skincare sets', 'skinny', 'skirts', 'skirts & scooters', 'skorts', 'sleep essentials', 'sleepwear', 'slim fit', 'slim fit tees', 'slingbacks', 'slippers', 'slips', 'slow cookers & warmers', 'small appliances', 'small sizes 5 1/2 & under', 'small sizes 7 1/2 & under', 'smaller sizes', 'sneakers', 'socks', 'socks, hosiery & tights', 'socks, leggings & tights', 'sofas', 'sofas & sectionals', 'sofia cultured pearls', 'sofia the first', 'soft pants', 'solitaire rings', 'spa tools', 'special occasion', 'special occasion shoes', 'specialty appliances', 'specialty electrics', 'speedo', 'spinner luggage', 'sponges & applicators', 'sport coats', 'sporting goods & outdoor play', 'sports apparel', 'sports bras', 'spring break shop', \"st. john's bay\", 'stackable rings', 'stafford', 'star wars', 'sterling silver & silver plated', 'sterling silver jewelry', 'sterling silver rings', 'storage & organization', 'storage furniture', 'straight', 'strapless & convertible', 'stud earrings', 'study essentials', 'stuffed animals', 'styling products', 'stylus', 'suit separates', 'suited separates', 'suits & separates', 'suits & sport coats', 'suits & sportcoats', 'suits & suit separates', 'suits and sport coats', 'summer infant', 'sunbeam', 'sundresses', 'sunscreen', 'sure fit', 'sweater dresses', 'sweaters', 'sweaters & cardigans', 'sweatshirts & hoodies', 'swim', 'swim bottoms', 'swim dress', 'swim shirts', 'swim shorts', 'swim tops', 'swim trunks', 'swimsuits', 'swimsuits & cover-ups', 'swimwear', 't-shirt bras', 't-shirts', 't-shirts & knit tops', 't-shirts & polos', 't-shirts & tanks', 'table & desk lamps', 'table linens', 'tables', 'tabletop', 'tag free underwear', 'tall', 'tall boots', 'tankinis', 'tanks', 'tanks & camis', 'tapout', 'teen bedding', \"teens' rooms\", 'tfal', 'the bijoux bar @ jcp', 'the christmas shop', 'the essential shop', 'the foundry supply co.', 'the getaway shop', 'the outdoor shop', 'the vacation shop', 'the wedding shop', 'thermal underwear', 'thermals', 'thermals & henleys', 'three stone rings', 'throw rugs & accent rugs', 'tie accessories & more', 'ties & accessories', 'timex', 'tinted moisturizer', 'toasters & ovens', 'toddler bedding', 'toddler furniture', 'top gifts', 'top gifts under $25', 'top gifts under $50', 'top picks', 'topcoats & overcoats', 'tops', 'tops & t-shirts', 'tops & tees', 'tops,tanks & camis', 'total girl', 'totes', 'tough duck', 'track-arm', 'training', 'travel & coffee mugs', 'travel accessories', 'trending now', 'trendy  tops', 'trendy collections', 'trendy dresses', 'trendy plus', 'trendy sweaters', 'trendy tops', 'trimshaper', 'tunic', 'tuxedos & formal wear', 'twin load washers', 'twin mattresses', 'u.s. polo assn.', 'umbra', 'umbrellas & covers', 'under $10', 'under $100', 'under $20', 'under $20 boots', 'under $25', 'under $30', 'under $50', 'underwear', 'underwear & socks', 'underwire bras', 'vacuums & floorcare', 'valances', \"valentine's day\", 'value & gift sets', 'value sets', 'van heusen', 'vanity fair', 'vans', 'vest', 'vests', 'view all', 'view all Stafford', 'view all accessories', 'view all active', 'view all adidas', 'view all arizona', 'view all baby gear', 'view all baby toddler clothing', 'view all bath & shower', 'view all bedding', 'view all bedroom furniture', 'view all big & tall shirts', 'view all big & tall underwear & socks', 'view all big & tall workout clothes', 'view all boys 4-7', 'view all boys 8-20', 'view all brands', 'view all clothing', 'view all coats', 'view all collections', 'view all cook & dine', 'view all decor', 'view all diamond jewelry', 'view all dining & entertaining', 'view all dockers', 'view all eye makeup', 'view all face makeup', 'view all fine jewelry', 'view all furniture', 'view all gadgets, games & outdoor', 'view all gemstones', 'view all golf apparel', 'view all graphic tees', 'view all guys', 'view all guys clearance', 'view all guys levis', 'view all guys shirts', 'view all guys underwear & socks', 'view all handbags & wallets', 'view all hoodies & sweatshirts', 'view all jeans', 'view all kids & teens rooms', 'view all kitchen', 'view all kitchen & dining furniture', 'view all lee', 'view all lip treatments', 'view all living room furniture', 'view all luggage', 'view all maternity', \"view all men's watches\", 'view all mens clearance', 'view all mens shirts', 'view all mens shorts', 'view all moisturizers', 'view all nike apparel', 'view all panties', 'view all pants', 'view all petite', 'view all rings', 'view all sale', 'view all scarves & wraps', 'view all shorts', 'view all suits & sport coats', 'view all t-shirts', 'view all ties & accessories', 'view all toddler girls 2t-5t', 'view all toys', 'view all treatments', 'view all watches', \"view all women's\", \"view all women's watches\", 'vintage chic', 'wall decor', 'wall ovens', 'wallets', 'wallets & accessories', 'wallets & wristlets', 'washable rugs', 'watches', 'watches under $100', 'wear to work', 'wear to work pants', 'wedding', 'wedding bands', 'wedding dresses', 'wedding guest dresses', 'wedge boots', 'wedge sandals', 'wedges', 'weekend wear', 'wide calf boots', 'wide width shoes', 'wide widths', 'wides', 'window', 'window treatments', 'windows', 'wine & bar accessories', 'winter & rain boots', 'winter hats, scarves, gloves', 'wireless bras', 'women', \"women's apparel\", \"women's clothing\", \"women's coats & jackets\", \"women's cold weather accessories\", \"women's graphic tees\", \"women's jeans\", \"women's pants\", \"women's shoes\", \"women's shorts\", \"women's sleepwear\", \"women's sweaters\", \"women's swimwear\", \"women's watches\", 'womens', 'womens scrubs & workwear', 'womens sneakers', 'wool blend coats', 'wool coats', 'work boots', 'work shoes', 'workout clothes', 'workwear & scrubs', 'workwear shirts', 'workwear t-shirts', 'worthington', 'wrangler', 'xersion', 'yoga', 'young men', 'zeroxposur', 'zoo york']\n",
      "\n",
      "\n",
      "End of code block\n"
     ]
    }
   ],
   "source": [
    "# Create a set to extract only unique category entries and convert to list for sorting purposes\n",
    "unique = list(set(i['category'] for i in products_dicts))\n",
    "unique.sort()\n",
    "\n",
    "# print results\n",
    "print(f\"Unique categories from products_dicts:\\n{unique}\")\n",
    "\n",
    "# Inform end of code block\n",
    "print(\"\\n\\nEnd of code block\")"
   ]
  },
  {
   "cell_type": "markdown",
   "metadata": {},
   "source": [
    "# 11) Read the csv files into Pandas\n",
    "\n",
    "Read the three csv files:\n",
    "\n",
    "- products.csv\n",
    "- reviews.csv\n",
    "- users.csv\n",
    "\n",
    "into pandas data frames called `products_pd`, `reviews_pd` and `users_pd`. Note that they all have a header row with field names.\n",
    "\n",
    "Print the first 3 lines of each."
   ]
  },
  {
   "cell_type": "code",
   "execution_count": 11,
   "metadata": {},
   "outputs": [
    {
     "data": {
      "text/html": [
       "<div>\n",
       "<style scoped>\n",
       "    .dataframe tbody tr th:only-of-type {\n",
       "        vertical-align: middle;\n",
       "    }\n",
       "\n",
       "    .dataframe tbody tr th {\n",
       "        vertical-align: top;\n",
       "    }\n",
       "\n",
       "    .dataframe thead th {\n",
       "        text-align: right;\n",
       "    }\n",
       "</style>\n",
       "<table border=\"1\" class=\"dataframe\">\n",
       "  <thead>\n",
       "    <tr style=\"text-align: right;\">\n",
       "      <th></th>\n",
       "      <th>SKU</th>\n",
       "      <th>Name</th>\n",
       "      <th>Description</th>\n",
       "      <th>Price</th>\n",
       "      <th>Av_Score</th>\n",
       "    </tr>\n",
       "    <tr>\n",
       "      <th>Uniq_id</th>\n",
       "      <th></th>\n",
       "      <th></th>\n",
       "      <th></th>\n",
       "      <th></th>\n",
       "      <th></th>\n",
       "    </tr>\n",
       "  </thead>\n",
       "  <tbody>\n",
       "    <tr>\n",
       "      <th>b6c0b6bea69c722939585baeac73c13d</th>\n",
       "      <td>pp5006380337</td>\n",
       "      <td>Alfred Dunner® Essential Pull On Capri Pant</td>\n",
       "      <td>Youll return to our Alfred Dunner pull-on capr...</td>\n",
       "      <td>41.09</td>\n",
       "      <td>2.625</td>\n",
       "    </tr>\n",
       "    <tr>\n",
       "      <th>93e5272c51d8cce02597e3ce67b7ad0a</th>\n",
       "      <td>pp5006380337</td>\n",
       "      <td>Alfred Dunner® Essential Pull On Capri Pant</td>\n",
       "      <td>Youll return to our Alfred Dunner pull-on capr...</td>\n",
       "      <td>41.09</td>\n",
       "      <td>3.000</td>\n",
       "    </tr>\n",
       "    <tr>\n",
       "      <th>013e320f2f2ec0cf5b3ff5418d688528</th>\n",
       "      <td>pp5006380337</td>\n",
       "      <td>Alfred Dunner® Essential Pull On Capri Pant</td>\n",
       "      <td>Youll return to our Alfred Dunner pull-on capr...</td>\n",
       "      <td>41.09</td>\n",
       "      <td>2.625</td>\n",
       "    </tr>\n",
       "  </tbody>\n",
       "</table>\n",
       "</div>"
      ],
      "text/plain": [
       "                                           SKU  \\\n",
       "Uniq_id                                          \n",
       "b6c0b6bea69c722939585baeac73c13d  pp5006380337   \n",
       "93e5272c51d8cce02597e3ce67b7ad0a  pp5006380337   \n",
       "013e320f2f2ec0cf5b3ff5418d688528  pp5006380337   \n",
       "\n",
       "                                                                         Name  \\\n",
       "Uniq_id                                                                         \n",
       "b6c0b6bea69c722939585baeac73c13d  Alfred Dunner® Essential Pull On Capri Pant   \n",
       "93e5272c51d8cce02597e3ce67b7ad0a  Alfred Dunner® Essential Pull On Capri Pant   \n",
       "013e320f2f2ec0cf5b3ff5418d688528  Alfred Dunner® Essential Pull On Capri Pant   \n",
       "\n",
       "                                                                        Description  \\\n",
       "Uniq_id                                                                               \n",
       "b6c0b6bea69c722939585baeac73c13d  Youll return to our Alfred Dunner pull-on capr...   \n",
       "93e5272c51d8cce02597e3ce67b7ad0a  Youll return to our Alfred Dunner pull-on capr...   \n",
       "013e320f2f2ec0cf5b3ff5418d688528  Youll return to our Alfred Dunner pull-on capr...   \n",
       "\n",
       "                                  Price  Av_Score  \n",
       "Uniq_id                                            \n",
       "b6c0b6bea69c722939585baeac73c13d  41.09     2.625  \n",
       "93e5272c51d8cce02597e3ce67b7ad0a  41.09     3.000  \n",
       "013e320f2f2ec0cf5b3ff5418d688528  41.09     2.625  "
      ]
     },
     "metadata": {},
     "output_type": "display_data"
    },
    {
     "data": {
      "text/html": [
       "<div>\n",
       "<style scoped>\n",
       "    .dataframe tbody tr th:only-of-type {\n",
       "        vertical-align: middle;\n",
       "    }\n",
       "\n",
       "    .dataframe tbody tr th {\n",
       "        vertical-align: top;\n",
       "    }\n",
       "\n",
       "    .dataframe thead th {\n",
       "        text-align: right;\n",
       "    }\n",
       "</style>\n",
       "<table border=\"1\" class=\"dataframe\">\n",
       "  <thead>\n",
       "    <tr style=\"text-align: right;\">\n",
       "      <th></th>\n",
       "      <th>Username</th>\n",
       "      <th>Score</th>\n",
       "      <th>Review</th>\n",
       "    </tr>\n",
       "    <tr>\n",
       "      <th>Uniq_id</th>\n",
       "      <th></th>\n",
       "      <th></th>\n",
       "      <th></th>\n",
       "    </tr>\n",
       "  </thead>\n",
       "  <tbody>\n",
       "    <tr>\n",
       "      <th>b6c0b6bea69c722939585baeac73c13d</th>\n",
       "      <td>fsdv4141</td>\n",
       "      <td>2</td>\n",
       "      <td>You never have to worry about the fit...Alfred...</td>\n",
       "    </tr>\n",
       "    <tr>\n",
       "      <th>b6c0b6bea69c722939585baeac73c13d</th>\n",
       "      <td>krpz1113</td>\n",
       "      <td>1</td>\n",
       "      <td>Good quality fabric. Perfect fit. Washed very ...</td>\n",
       "    </tr>\n",
       "    <tr>\n",
       "      <th>b6c0b6bea69c722939585baeac73c13d</th>\n",
       "      <td>mbmg3241</td>\n",
       "      <td>2</td>\n",
       "      <td>I do not normally wear pants or capris that ha...</td>\n",
       "    </tr>\n",
       "  </tbody>\n",
       "</table>\n",
       "</div>"
      ],
      "text/plain": [
       "                                  Username  Score  \\\n",
       "Uniq_id                                             \n",
       "b6c0b6bea69c722939585baeac73c13d  fsdv4141      2   \n",
       "b6c0b6bea69c722939585baeac73c13d  krpz1113      1   \n",
       "b6c0b6bea69c722939585baeac73c13d  mbmg3241      2   \n",
       "\n",
       "                                                                             Review  \n",
       "Uniq_id                                                                              \n",
       "b6c0b6bea69c722939585baeac73c13d  You never have to worry about the fit...Alfred...  \n",
       "b6c0b6bea69c722939585baeac73c13d  Good quality fabric. Perfect fit. Washed very ...  \n",
       "b6c0b6bea69c722939585baeac73c13d  I do not normally wear pants or capris that ha...  "
      ]
     },
     "metadata": {},
     "output_type": "display_data"
    },
    {
     "data": {
      "text/html": [
       "<div>\n",
       "<style scoped>\n",
       "    .dataframe tbody tr th:only-of-type {\n",
       "        vertical-align: middle;\n",
       "    }\n",
       "\n",
       "    .dataframe tbody tr th {\n",
       "        vertical-align: top;\n",
       "    }\n",
       "\n",
       "    .dataframe thead th {\n",
       "        text-align: right;\n",
       "    }\n",
       "</style>\n",
       "<table border=\"1\" class=\"dataframe\">\n",
       "  <thead>\n",
       "    <tr style=\"text-align: right;\">\n",
       "      <th></th>\n",
       "      <th>DOB</th>\n",
       "      <th>State</th>\n",
       "    </tr>\n",
       "    <tr>\n",
       "      <th>Username</th>\n",
       "      <th></th>\n",
       "      <th></th>\n",
       "    </tr>\n",
       "  </thead>\n",
       "  <tbody>\n",
       "    <tr>\n",
       "      <th>bkpn1412</th>\n",
       "      <td>31.07.1983</td>\n",
       "      <td>Oregon</td>\n",
       "    </tr>\n",
       "    <tr>\n",
       "      <th>gqjs4414</th>\n",
       "      <td>27.07.1998</td>\n",
       "      <td>Massachusetts</td>\n",
       "    </tr>\n",
       "    <tr>\n",
       "      <th>eehe1434</th>\n",
       "      <td>08.08.1950</td>\n",
       "      <td>Idaho</td>\n",
       "    </tr>\n",
       "  </tbody>\n",
       "</table>\n",
       "</div>"
      ],
      "text/plain": [
       "                 DOB          State\n",
       "Username                           \n",
       "bkpn1412  31.07.1983         Oregon\n",
       "gqjs4414  27.07.1998  Massachusetts\n",
       "eehe1434  08.08.1950          Idaho"
      ]
     },
     "metadata": {},
     "output_type": "display_data"
    },
    {
     "name": "stdout",
     "output_type": "stream",
     "text": [
      "\n",
      "\n",
      "End of code block\n"
     ]
    }
   ],
   "source": [
    "import pandas as pd\n",
    "\n",
    "#Import files as requested (and assign Uniq_id as index column)\n",
    "products_pd = pd.read_csv(\"products.csv\", index_col=0)\n",
    "reviews_pd = pd.read_csv(\"reviews.csv\", index_col=0)\n",
    "users_pd = pd.read_csv(\"users.csv\", index_col=0)\n",
    "\n",
    "# Display first 3 lines of each\n",
    "display(products_pd.head(3))\n",
    "display(reviews_pd.head(3))\n",
    "display(users_pd.head(3))\n",
    "\n",
    "# Inform end of code block\n",
    "print(\"\\n\\nEnd of code block\")"
   ]
  },
  {
   "cell_type": "markdown",
   "metadata": {},
   "source": [
    "# 12) Convert the Date of Birth field\n",
    "\n",
    "Convert the DOB field in the users dataframe to a Pandas date object, rather than the string that it currently is stored as.\n",
    "\n",
    "Re-display the top 3 rows of `users_pd`"
   ]
  },
  {
   "cell_type": "code",
   "execution_count": 12,
   "metadata": {},
   "outputs": [
    {
     "name": "stdout",
     "output_type": "stream",
     "text": [
      "DOB data type is now: datetime64[ns]\n"
     ]
    },
    {
     "data": {
      "text/html": [
       "<div>\n",
       "<style scoped>\n",
       "    .dataframe tbody tr th:only-of-type {\n",
       "        vertical-align: middle;\n",
       "    }\n",
       "\n",
       "    .dataframe tbody tr th {\n",
       "        vertical-align: top;\n",
       "    }\n",
       "\n",
       "    .dataframe thead th {\n",
       "        text-align: right;\n",
       "    }\n",
       "</style>\n",
       "<table border=\"1\" class=\"dataframe\">\n",
       "  <thead>\n",
       "    <tr style=\"text-align: right;\">\n",
       "      <th></th>\n",
       "      <th>DOB</th>\n",
       "      <th>State</th>\n",
       "    </tr>\n",
       "    <tr>\n",
       "      <th>Username</th>\n",
       "      <th></th>\n",
       "      <th></th>\n",
       "    </tr>\n",
       "  </thead>\n",
       "  <tbody>\n",
       "    <tr>\n",
       "      <th>bkpn1412</th>\n",
       "      <td>1983-07-31</td>\n",
       "      <td>Oregon</td>\n",
       "    </tr>\n",
       "    <tr>\n",
       "      <th>gqjs4414</th>\n",
       "      <td>1998-07-27</td>\n",
       "      <td>Massachusetts</td>\n",
       "    </tr>\n",
       "    <tr>\n",
       "      <th>eehe1434</th>\n",
       "      <td>1950-08-08</td>\n",
       "      <td>Idaho</td>\n",
       "    </tr>\n",
       "  </tbody>\n",
       "</table>\n",
       "</div>"
      ],
      "text/plain": [
       "                DOB          State\n",
       "Username                          \n",
       "bkpn1412 1983-07-31         Oregon\n",
       "gqjs4414 1998-07-27  Massachusetts\n",
       "eehe1434 1950-08-08          Idaho"
      ]
     },
     "metadata": {},
     "output_type": "display_data"
    },
    {
     "name": "stdout",
     "output_type": "stream",
     "text": [
      "\n",
      "\n",
      "End of code block\n"
     ]
    }
   ],
   "source": [
    "# Convert DOB from string to date object\n",
    "users_pd['DOB'] = pd.to_datetime(users_pd['DOB'], format='%d.%m.%Y')\n",
    "\n",
    "# Check data type\n",
    "print(f\"DOB data type is now: {users_pd['DOB'].dtypes}\")\n",
    "\n",
    "# Display first 3 rows\n",
    "display(users_pd.head(3))\n",
    "\n",
    "# Inform end of code block\n",
    "print(\"\\n\\nEnd of code block\")"
   ]
  },
  {
   "cell_type": "markdown",
   "metadata": {},
   "source": [
    "# 13) Add a new user age column\n",
    "\n",
    "Add a new column to `users_pd` that is the result of calculating their age today. Call the column `Age`"
   ]
  },
  {
   "cell_type": "code",
   "execution_count": 13,
   "metadata": {
    "scrolled": true
   },
   "outputs": [
    {
     "data": {
      "text/html": [
       "<div>\n",
       "<style scoped>\n",
       "    .dataframe tbody tr th:only-of-type {\n",
       "        vertical-align: middle;\n",
       "    }\n",
       "\n",
       "    .dataframe tbody tr th {\n",
       "        vertical-align: top;\n",
       "    }\n",
       "\n",
       "    .dataframe thead th {\n",
       "        text-align: right;\n",
       "    }\n",
       "</style>\n",
       "<table border=\"1\" class=\"dataframe\">\n",
       "  <thead>\n",
       "    <tr style=\"text-align: right;\">\n",
       "      <th></th>\n",
       "      <th>DOB</th>\n",
       "      <th>State</th>\n",
       "      <th>Age</th>\n",
       "    </tr>\n",
       "    <tr>\n",
       "      <th>Username</th>\n",
       "      <th></th>\n",
       "      <th></th>\n",
       "      <th></th>\n",
       "    </tr>\n",
       "  </thead>\n",
       "  <tbody>\n",
       "    <tr>\n",
       "      <th>xojb4334</th>\n",
       "      <td>1968-08-03</td>\n",
       "      <td>Nebraska</td>\n",
       "      <td>52</td>\n",
       "    </tr>\n",
       "    <tr>\n",
       "      <th>vtye4133</th>\n",
       "      <td>2001-07-26</td>\n",
       "      <td>Arkansas</td>\n",
       "      <td>19</td>\n",
       "    </tr>\n",
       "    <tr>\n",
       "      <th>fufh4131</th>\n",
       "      <td>1952-08-07</td>\n",
       "      <td>Florida</td>\n",
       "      <td>68</td>\n",
       "    </tr>\n",
       "    <tr>\n",
       "      <th>xnna1112</th>\n",
       "      <td>1998-07-27</td>\n",
       "      <td>Guam</td>\n",
       "      <td>22</td>\n",
       "    </tr>\n",
       "    <tr>\n",
       "      <th>kkgo1424</th>\n",
       "      <td>1961-08-05</td>\n",
       "      <td>California</td>\n",
       "      <td>59</td>\n",
       "    </tr>\n",
       "    <tr>\n",
       "      <th>mfnn1212</th>\n",
       "      <td>1997-07-27</td>\n",
       "      <td>Delaware</td>\n",
       "      <td>23</td>\n",
       "    </tr>\n",
       "    <tr>\n",
       "      <th>ejnb3414</th>\n",
       "      <td>1976-08-01</td>\n",
       "      <td>Minnesota</td>\n",
       "      <td>44</td>\n",
       "    </tr>\n",
       "    <tr>\n",
       "      <th>pdzw1433</th>\n",
       "      <td>1994-07-28</td>\n",
       "      <td>Ohio</td>\n",
       "      <td>26</td>\n",
       "    </tr>\n",
       "    <tr>\n",
       "      <th>npha1342</th>\n",
       "      <td>1953-08-07</td>\n",
       "      <td>Montana</td>\n",
       "      <td>67</td>\n",
       "    </tr>\n",
       "    <tr>\n",
       "      <th>yuoc2324</th>\n",
       "      <td>1975-08-02</td>\n",
       "      <td>South Dakota</td>\n",
       "      <td>45</td>\n",
       "    </tr>\n",
       "  </tbody>\n",
       "</table>\n",
       "</div>"
      ],
      "text/plain": [
       "                DOB         State  Age\n",
       "Username                              \n",
       "xojb4334 1968-08-03      Nebraska   52\n",
       "vtye4133 2001-07-26      Arkansas   19\n",
       "fufh4131 1952-08-07       Florida   68\n",
       "xnna1112 1998-07-27          Guam   22\n",
       "kkgo1424 1961-08-05    California   59\n",
       "mfnn1212 1997-07-27      Delaware   23\n",
       "ejnb3414 1976-08-01     Minnesota   44\n",
       "pdzw1433 1994-07-28          Ohio   26\n",
       "npha1342 1953-08-07       Montana   67\n",
       "yuoc2324 1975-08-02  South Dakota   45"
      ]
     },
     "metadata": {},
     "output_type": "display_data"
    },
    {
     "name": "stdout",
     "output_type": "stream",
     "text": [
      "\n",
      "\n",
      "End of code block\n"
     ]
    }
   ],
   "source": [
    "import numpy as np\n",
    "\n",
    "# Create column Age, round down days difference and convert to integer. Takes account of leap years.\n",
    "# Debug: Replace pd.to_datetime('today') with pd.to_datetime('2020-07-08') and adjust to test boundaries in tail\n",
    "users_pd['Age'] = ((pd.to_datetime('today') - users_pd['DOB'])\\\n",
    "                    / np.timedelta64(1, 'Y')).apply(np.floor).astype(int)\n",
    "\n",
    "# Check tail\n",
    "display(users_pd.tail(10))\n",
    "\n",
    "# Inform end of code block\n",
    "print(\"\\n\\nEnd of code block\")"
   ]
  },
  {
   "cell_type": "markdown",
   "metadata": {},
   "source": [
    "# 14) Display the reviews for a t-shirt\n",
    "\n",
    "Use the Pandas `merge` function to find all the reviews for the product with the unique id of `b28e5508c1b0022f47ae8c6f92c4cb6c`.\n",
    "\n",
    "Display only the Username of the person who gave the review and the review text itself. There are three reviews for this product.\n"
   ]
  },
  {
   "cell_type": "code",
   "execution_count": 14,
   "metadata": {},
   "outputs": [
    {
     "data": {
      "text/html": [
       "<table border=\"1\" class=\"dataframe\">\n",
       "  <thead>\n",
       "    <tr style=\"text-align: right;\">\n",
       "      <th>Name</th>\n",
       "      <th>Username</th>\n",
       "      <th>Review</th>\n",
       "    </tr>\n",
       "  </thead>\n",
       "  <tbody>\n",
       "    <tr>\n",
       "      <td>Island Shores™ Graphic Tee</td>\n",
       "      <td>xxlw3134</td>\n",
       "      <td>Pros: Cotton is one of the softest I have ever purchased, top quality.Cons: Primary colors and average graphics.</td>\n",
       "    </tr>\n",
       "    <tr>\n",
       "      <td>Island Shores™ Graphic Tee</td>\n",
       "      <td>zdoz3242</td>\n",
       "      <td>The fit is somewhat loose, and I could not discern the difference between med and large (fortunately I wear large). Definitely one of the most comfortable Ts out there. I would like to see a greater color selection. Most have an alcohol theme on the graphics.</td>\n",
       "    </tr>\n",
       "    <tr>\n",
       "      <td>Island Shores™ Graphic Tee</td>\n",
       "      <td>krpz1113</td>\n",
       "      <td>I bought this for my brother and he loves it.Nice quality and unbeatable price.</td>\n",
       "    </tr>\n",
       "  </tbody>\n",
       "</table>"
      ],
      "text/plain": [
       "<IPython.core.display.HTML object>"
      ]
     },
     "metadata": {},
     "output_type": "display_data"
    },
    {
     "name": "stdout",
     "output_type": "stream",
     "text": [
      "\n",
      "\n",
      "End of code block\n"
     ]
    }
   ],
   "source": [
    "# Merge products and reviews and select target Uniq_id and target columns\n",
    "# Included product name as recall Dr. Swingler mentioning it was an oversight not to include it\n",
    "final_pd = pd.merge(products_pd, reviews_pd, how='inner', on='Uniq_id')\\\n",
    "                .loc['b28e5508c1b0022f47ae8c6f92c4cb6c', ['Name', 'Username', 'Review']]\n",
    "\n",
    "# Tell Pandas to show full column width for no truncation of review\n",
    "pd.set_option('display.max_colwidth', None)\n",
    "\n",
    "# Display final output with nice formatting (i.e. lose index)\n",
    "from IPython.display import display, HTML\n",
    "display(HTML(final_pd.to_html(index=False)))\n",
    "\n",
    "# Regular display with index\n",
    "# display(final_pd)\n",
    "\n",
    "# Inform end of code block\n",
    "print(\"\\n\\nEnd of code block\")"
   ]
  }
 ],
 "metadata": {
  "kernelspec": {
   "display_name": "Python 3",
   "language": "python",
   "name": "python3"
  },
  "language_info": {
   "codemirror_mode": {
    "name": "ipython",
    "version": 3
   },
   "file_extension": ".py",
   "mimetype": "text/x-python",
   "name": "python",
   "nbconvert_exporter": "python",
   "pygments_lexer": "ipython3",
   "version": "3.8.3"
  }
 },
 "nbformat": 4,
 "nbformat_minor": 2
}
