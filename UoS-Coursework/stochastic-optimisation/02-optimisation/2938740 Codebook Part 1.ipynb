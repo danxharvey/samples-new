{
 "cells": [
  {
   "cell_type": "markdown",
   "metadata": {},
   "source": [
    "# Student 2938740\n",
    "## Part 1 Maximising a Function"
   ]
  },
  {
   "cell_type": "code",
   "execution_count": 1,
   "metadata": {},
   "outputs": [],
   "source": [
    "# Import libraries\n",
    "import numpy as np\n",
    "from random import uniform, randint\n",
    "from math import sin, cos, exp\n",
    "import csv"
   ]
  },
  {
   "cell_type": "code",
   "execution_count": 5,
   "metadata": {},
   "outputs": [
    {
     "name": "stdout",
     "output_type": "stream",
     "text": [
      "xbest 0    ybest 0    zbest 0    fbest 11.121167674537757\n"
     ]
    }
   ],
   "source": [
    "# Initialise variables - Hard constraint of -2 <= (x, y, z) <= 2\n",
    "#x, y, z = uniform(-2, 2), uniform(-2, 2), uniform(-2, 2)\n",
    "x, y, z = uniform(1.61, 1.65), uniform(1.92, 1.93), uniform(1.40, 1.42)\n",
    "#x, y, z = uniform(1.62, 1.64), uniform(-1.83, -1.86), uniform(1.40, 1.42)\n",
    "xb, yb, zb, fb = 0, 0, 0, 11.121167674537757\n",
    "\n",
    "# Function to maximise\n",
    "f = exp(sin(10*z)) + exp(sin(40*y)) + sin(20*exp(x)) + sin(70*sin(x)) - sin(30*cos(z)) + sin(sin(30*y)) - sin(10*(x+y)) + ((x**2 + y**2 + z**2)/6)\n",
    "\n",
    "# Number of steps to take\n",
    "steps = 100000\n",
    "\n",
    "for i in range(100):\n",
    "    for j in range(steps):\n",
    "\n",
    "        # Calculate new values for each random step\n",
    "        #xn, yn, zn = uniform(-2, 2), uniform(-2, 2), uniform(-2, 2)\n",
    "#        xn, yn, zn = uniform(1.61, 1.65), uniform(1.92, 1.93), uniform(1.40, 1.42)\n",
    "        xn, yn, zn = uniform(1.62, 1.64), uniform(-1.83, -1.86), uniform(1.40, 1.42)\n",
    "        fn = exp(sin(10*zn)) + exp(sin(40*yn)) + sin(20*exp(xn)) + sin(70*sin(xn)) - sin(30*cos(zn)) + sin(sin(30*yn)) - sin(10*(xn+yn)) + ((xn**2 + yn**2 + zn**2)/6)\n",
    "\n",
    "        # Store new values if fb > fn\n",
    "        fb, xb, yb, zb = ([fb, xb, yb, zb], [fn, xn, yn, zn])[fn > fb]\n",
    "\n",
    "# Print results\n",
    "print ('xbest' , xb, '   ybest' , yb, '   zbest' , zb, '   fbest', fb,)\n"
   ]
  },
  {
   "cell_type": "markdown",
   "metadata": {},
   "source": [
    "#### 10 million step Random Search\n",
    "xbest 1.6277277624763795 &nbsp;&nbsp;&nbsp;ybest 1.925139570975671 &nbsp;&nbsp;&nbsp;zbest 1.4136797153075489 &nbsp;&nbsp;&nbsp;fbest 11.121167674537757<br>\n",
    "xbest 1.6301032152319035 &nbsp;&nbsp;&nbsp;ybest -1.8446490928625146 &nbsp;&nbsp;&nbsp;zbest 1.4092369651934455 &nbsp;&nbsp;&nbsp;fbest 11.100442067460936<br>\n"
   ]
  },
  {
   "cell_type": "markdown",
   "metadata": {},
   "source": [
    "#### Investigation of negative y peak\n",
    "xbest 1.6305269219386034    ybest -1.8433026943037414    zbest 1.4135913575395813    fbest 11.116756522326625<br>\n",
    "This increase is 0.015 and is still not as high as the positive y peak over 100 x 100,000 step searches.<br>Ruled out"
   ]
  },
  {
   "cell_type": "markdown",
   "metadata": {},
   "source": [
    "#### 100,000 step Random Search (manual simulated annealing) with fbest increasing for chosen positive Y peak\n",
    "xbest 1.6304899071223595    ybest 1.9269640323247221    zbest 1.4136096104985219    fbest 11.169197810508956<br>\n",
    "xbest 1.6305629228060048    ybest 1.926890344619497    zbest 1.4136564176828688    fbest 11.169211262338742<br>\n",
    "xbest 1.6304703767203235    ybest 1.9268188082645907    zbest 1.413643965445168    fbest 11.169227917530646"
   ]
  },
  {
   "cell_type": "markdown",
   "metadata": {},
   "source": [
    "### Ran a couple of late checks but no improvement"
   ]
  },
  {
   "cell_type": "code",
   "execution_count": null,
   "metadata": {},
   "outputs": [],
   "source": []
  }
 ],
 "metadata": {
  "kernelspec": {
   "display_name": "Python 3",
   "language": "python",
   "name": "python3"
  },
  "language_info": {
   "codemirror_mode": {
    "name": "ipython",
    "version": 3
   },
   "file_extension": ".py",
   "mimetype": "text/x-python",
   "name": "python",
   "nbconvert_exporter": "python",
   "pygments_lexer": "ipython3",
   "version": "3.8.3"
  }
 },
 "nbformat": 4,
 "nbformat_minor": 4
}
