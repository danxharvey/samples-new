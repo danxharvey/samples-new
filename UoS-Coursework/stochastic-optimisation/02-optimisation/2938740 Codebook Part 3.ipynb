{
 "cells": [
  {
   "cell_type": "markdown",
   "metadata": {},
   "source": [
    "# Student 2938740\n",
    "## Part 3 Optimisation Assigment"
   ]
  },
  {
   "cell_type": "code",
   "execution_count": 2,
   "metadata": {
    "id": "6DFxO_OFCzUC"
   },
   "outputs": [],
   "source": [
    "import random\n",
    "import numpy as np\n",
    "from time import perf_counter"
   ]
  },
  {
   "cell_type": "code",
   "execution_count": 3,
   "metadata": {
    "id": "NN-QLoQ5CtoS"
   },
   "outputs": [],
   "source": [
    "dist = np.array([[0,84,29,12,64,62,20,40,78,54,38,33,56,20,68,85,54,63,81,66,81,38,32,72,71],\n",
    "[84,0,93,81,62,31,65,43,47,91,64,61,29,68,56,22,65,33,52,44,15,52,83,42,37],\n",
    "[29,93,0,19,90,64,42,54,71,83,64,32,70,28,93,101,41,64,104,88,95,60,61,67,91],\n",
    "[12,81,19,0,71,56,23,39,69,65,45,25,55,14,74,86,43,57,86,70,80,42,43,64,74],\n",
    "[64,62,90,71,0,67,48,46,92,34,26,68,43,63,8,46,89,71,21,17,48,32,40,85,25],\n",
    "[62,31,64,56,67,0,46,26,26,86,56,32,24,43,64,47,34,4,67,53,39,42,72,18,50],\n",
    "[20,65,42,23,48,46,0,22,67,49,23,26,37,16,51,66,49,49,63,47,61,19,29,60,51],\n",
    "[40,43,54,39,46,26,22,0,50,61,31,24,16,26,46,47,43,29,54,38,41,17,46,42,39],\n",
    "[78,47,71,69,92,26,67,50,0,111,81,45,50,58,89,67,31,21,92,79,60,67,95,8,74],\n",
    "[54,91,83,65,34,86,49,61,111,0,30,74,66,64,42,79,98,90,55,49,79,44,22,103,57],\n",
    "[38,64,64,45,26,56,23,31,81,30,0,47,37,39,31,57,70,60,44,31,55,15,19,73,38],\n",
    "[33,61,32,25,68,32,26,24,45,74,47,0,39,13,69,70,23,33,79,62,63,37,55,39,63],\n",
    "[56,29,70,55,43,24,37,16,50,66,37,39,0,42,40,31,53,29,44,29,25,23,55,42,27],\n",
    "[20,68,28,14,63,43,16,26,58,64,39,13,42,0,65,73,36,44,76,60,67,32,43,52,63],\n",
    "[68,56,93,74,8,64,51,46,89,42,31,69,40,65,0,39,89,68,14,11,41,33,47,82,18],\n",
    "[85,22,101,86,46,47,66,47,67,79,57,70,31,73,39,0,80,50,32,29,8,48,76,61,21],\n",
    "[54,65,41,43,89,34,49,43,31,98,70,23,53,36,89,80,0,32,96,80,73,58,78,29,79],\n",
    "[63,33,64,57,71,4,49,29,21,90,60,33,29,44,68,50,32,0,72,57,42,46,75,14,54],\n",
    "[81,52,104,86,21,67,63,54,92,55,44,79,44,76,14,32,96,72,0,16,37,44,61,85,18],\n",
    "[66,44,88,70,17,53,47,38,79,49,31,62,29,60,11,29,80,57,16,0,31,28,49,71,8],\n",
    "[81,15,95,80,48,39,61,41,60,79,55,63,25,67,41,8,73,42,37,31,0,45,74,53,23],\n",
    "[38,52,60,42,32,42,19,17,67,44,15,37,23,32,33,48,58,46,44,28,45,0,32,59,33],\n",
    "[32,83,61,43,40,72,29,46,95,22,19,55,55,43,47,76,78,75,61,49,74,32,0,87,57],\n",
    "[72,42,67,64,85,18,60,42,8,103,73,39,42,52,82,61,29,14,85,71,53,59,87,0,67],\n",
    "[71,37,91,74,25,50,51,39,74,57,38,63,27,63,18,21,79,54,18,8,23,33,57,67,0]])"
   ]
  },
  {
   "cell_type": "code",
   "execution_count": 4,
   "metadata": {
    "id": "VA1OKb_7Cu5l"
   },
   "outputs": [],
   "source": [
    "# OPTIMAl FUNCTION\n",
    "def tsp_hc2(data, number_of_steps):\n",
    "\n",
    "    # Start timer\n",
    "    tik = perf_counter()\n",
    "    \n",
    "    # Create initial solution\n",
    "    size = len(data)-1                  # Gives the number of stores excluding warehouse\n",
    "    best_path = []\n",
    "    for i in data[0:size]:\n",
    "        best_path.append(i)             # Buids up a vector of 1,2,3,4...,n    \n",
    "    random.shuffle(best_path)           # Randomise path to get initial solution\n",
    "    best_path.insert(0, data[-1])          # Inser start\n",
    "    best_path.append(data[-1])             # Insert end\n",
    "\n",
    "    # Find distance of initial solution\n",
    "    best_distance = 0\n",
    "    for i in range(len(best_path)-1):\n",
    "        best_distance += dist[best_path[i]-1][best_path[i+1]-1]\n",
    "    #print(\"Best distance: \", best_distance, best_path)\n",
    "\n",
    "    # Hill-climb Algorithm\n",
    "    for x in range(number_of_steps):\n",
    "        ##### Create a new path\n",
    "        entry1 = random.randint(1, size)   # randomly choose first entry\n",
    "        entry2 = random.randint(1, size)   # randomly choose second entry\n",
    "        new_path = best_path.copy() \n",
    "        new_path[entry1], new_path[entry2] = new_path[entry2], new_path[entry1] #changes the vector given the two random entries to swap\n",
    "\n",
    "        # Calculate distance\n",
    "        new_distance = 0\n",
    "        for i in range(len(new_path)-1):\n",
    "            new_distance += dist[new_path[i]-1][new_path[i+1]-1]\n",
    "\n",
    "        #print(\"New distance: \", new_distance, new_path)\n",
    "        # Check if new path is shorter than best path  \n",
    "        if new_distance < best_distance:\n",
    "            best_path = new_path.copy()\n",
    "            best_distance = new_distance\n",
    "\n",
    "    tok = perf_counter()\n",
    "    elapsed = tok-tik\n",
    "    #print (best_path,best_distance, elapsed)\n",
    "\n",
    "    return (best_path, best_distance, elapsed)"
   ]
  },
  {
   "cell_type": "code",
   "execution_count": null,
   "metadata": {},
   "outputs": [],
   "source": []
  },
  {
   "cell_type": "markdown",
   "metadata": {},
   "source": [
    "### 2 Lorry Solution\n",
    "2 Lorries are deployed, one from each warehouse. Certain stores have been assigned to each warehouse on the basis that it makes clear and obvious sense to have them assigned due to extreme proximity or proximity relative other locations "
   ]
  },
  {
   "cell_type": "code",
   "execution_count": 5,
   "metadata": {
    "id": "wbX8d6WbC7R6"
   },
   "outputs": [],
   "source": [
    "distsub = np.array([1, 3, 4, 7, 8, 10, 11, 12, 13, 14, 22, 23])\n",
    "dist24 = np.array([6, 9, 17, 18, 24])\n",
    "dist25 = np.array([2, 5, 15, 16, 19, 20, 21, 25])"
   ]
  },
  {
   "cell_type": "code",
   "execution_count": 10,
   "metadata": {
    "colab": {
     "base_uri": "https://localhost:8080/"
    },
    "id": "_dfDYWrmC8U8",
    "outputId": "9ff77c6e-2b94-4612-e187-19f3aa34b526"
   },
   "outputs": [
    {
     "name": "stdout",
     "output_type": "stream",
     "text": [
      "Lorry1 Warehouse 23 - Best path: [24, 18, 6, 13, 10, 7, 8, 12, 4, 3, 17, 9, 24]\n",
      "Best disance: 327 in 183.19 seconds\n",
      "Lorry2 Warehouse 24 - Best path: [25, 20, 11, 23, 1, 14, 22, 5, 15, 19, 16, 2, 21, 25]\n",
      "Best disance: 288 in 195.36 seconds\n",
      "Total distance covered is 615 at a cost of £1845\n"
     ]
    }
   ],
   "source": [
    "# OPTIMAL ROUTES\n",
    "\n",
    "#Import libraries\n",
    "from sklearn.model_selection import train_test_split\n",
    "\n",
    "# Split data into two subsets for 2 Lorries\n",
    "route1, route2 = train_test_split(distsub, test_size=0.5)\n",
    "# Merge data\n",
    "route1 = np.append(route1, dist24, axis=0)\n",
    "route2 = np.append(route2, dist25, axis=0)\n",
    "\n",
    "# One lorry will depart from warehouse1, the other from warehouse2\n",
    "bpath1, bdist1, elapsed1 = tsp_hc2(route1, 1000000)\n",
    "bpath2, bdist2, elapsed2 = tsp_hc2(route2, 1000000)\n",
    "miles = bdist1 + bdist2\n",
    "cost = bdist1*3 + bdist2*3\n",
    "\n",
    "print(f\"Lorry1 Warehouse 23 - Best path: {bpath1}\\nBest disance: {bdist1} in {round(elapsed1, 2)} seconds\")\n",
    "print(f\"Lorry2 Warehouse 24 - Best path: {bpath2}\\nBest disance: {bdist2} in {round(elapsed2, 2)} seconds\")\n",
    "print(f\"Total distance covered is {miles} at a cost of £{cost}\")"
   ]
  },
  {
   "cell_type": "code",
   "execution_count": null,
   "metadata": {
    "id": "qjVdUdaIK-yR"
   },
   "outputs": [],
   "source": [
    "# BEST SOLUTION FOUND\n",
    "# 2 Lorries (test split = 0.55)\n",
    "Lorry1 Warehouse 23 - Best path: [24, 9, 18, 6, 8, 12, 14, 1, 4, 17, 24]\n",
    "Best disance: 200 in 1.67 seconds\n",
    "Lorry2 Warehouse 24 - Best path: [25, 20, 15, 19, 16, 21, 2, 13, 22, 11, 5, 10, 23, 3, 7, 25]\n",
    "Best disance: 391 in 2.26 seconds\n",
    "Total distance covered is 591 at a cost of £1773"
   ]
  },
  {
   "cell_type": "code",
   "execution_count": null,
   "metadata": {
    "id": "MOFFoEDRK-8x"
   },
   "outputs": [],
   "source": []
  },
  {
   "cell_type": "markdown",
   "metadata": {},
   "source": [
    "### 1 Lorry and 3 Vans Solution\n",
    "In this variation, 3 vans cover the 3 clusters that are close to the warehouses and the lorry is sent out to the further out stores north of the warehouses.  The solution looks at whether the lorries are better sent from W1 or W2"
   ]
  },
  {
   "cell_type": "code",
   "execution_count": 32,
   "metadata": {
    "id": "h5ZzBcneK_Fe"
   },
   "outputs": [],
   "source": [
    "lorry24 = np.array([1, 3, 4, 7, 8, 10, 11, 12, 13, 14, 22, 23, 24])\n",
    "lorry25 = np.array([1, 3, 4, 7, 8, 10, 11, 12, 13, 14, 22, 23, 25])\n",
    "van24 = np.array([6, 9, 17, 18, 24])\n",
    "van125 = np.array([5, 15, 19, 20, 25])\n",
    "van225 = np.array([2, 16, 21, 25])"
   ]
  },
  {
   "cell_type": "code",
   "execution_count": 33,
   "metadata": {
    "colab": {
     "base_uri": "https://localhost:8080/"
    },
    "id": "ElzDWOHuE6fp",
    "outputId": "4310f5b6-4522-4ea5-a918-1032b981d13e"
   },
   "outputs": [
    {
     "name": "stdout",
     "output_type": "stream",
     "text": [
      "Lorry24 Warehouse 24 - Best path: [24, 3, 4, 1, 23, 10, 13, 8, 22, 11, 7, 14, 12, 24]\n",
      "Best disance: 357 in 195.65 seconds\n",
      "Lorry25 Warehouse 25 - Best path: [25, 13, 8, 1, 4, 3, 12, 14, 7, 22, 11, 23, 10, 25]\n",
      "Best disance: 307 in 194.36 seconds\n",
      "van24 Warehouse 24 - Best path: [24, 9, 17, 6, 18, 24]\n",
      "Best disance: 91 in 10.02 seconds\n",
      "Van125 Warehouse 125 - Best path: [25, 20, 5, 15, 19, 25]\n",
      "Best disance: 65 in 9.91 seconds\n",
      "Van225 Warehouse 225 - Best path: [25, 16, 21, 2, 25]\n",
      "Best disance: 81 in 8.49 seconds\n",
      "Total distance1 covered is 594 at a cost of £1308\n",
      "Total distance2 covered is 544 at a cost of £1158\n"
     ]
    }
   ],
   "source": [
    "# 3 Vans + 1 Lorry (2 scenarios run concurrently with the lorry departing from W1 and W2 and the 3 vans applied to each)\n",
    "\n",
    "#Import libraries\n",
    "from sklearn.model_selection import train_test_split\n",
    "\n",
    "# Merge data\n",
    "bpath1, bdist1, elapsed1 = tsp_hc2(lorry24, 10000000)\n",
    "bpath2, bdist2, elapsed2 = tsp_hc2(lorry25, 10000000)\n",
    "bpath3, bdist3, elapsed3 = tsp_hc2(van24, 1000000)\n",
    "bpath4, bdist4, elapsed4 = tsp_hc2(van125, 1000000)\n",
    "bpath5, bdist5, elapsed5 = tsp_hc2(van225, 1000000)\n",
    "miles1 = bdist1 + bdist3 + bdist4 + bdist5\n",
    "cost1 = bdist1*3 + bdist3*1 + bdist4*1 + bdist5*1\n",
    "miles2 = bdist2 + bdist3 + bdist4 + bdist5\n",
    "cost2 = bdist2*3 + bdist3*1 + bdist4*1 + bdist5*1\n",
    "\n",
    "print(f\"Lorry24 Warehouse 24 - Best path: {bpath1}\\nBest disance: {bdist1} in {round(elapsed1, 2)} seconds\")\n",
    "print(f\"Lorry25 Warehouse 25 - Best path: {bpath2}\\nBest disance: {bdist2} in {round(elapsed2, 2)} seconds\")\n",
    "print(f\"van24 Warehouse 24 - Best path: {bpath3}\\nBest disance: {bdist3} in {round(elapsed3, 2)} seconds\")\n",
    "print(f\"Van125 Warehouse 125 - Best path: {bpath4}\\nBest disance: {bdist4} in {round(elapsed4, 2)} seconds\")\n",
    "print(f\"Van225 Warehouse 225 - Best path: {bpath5}\\nBest disance: {bdist5} in {round(elapsed5, 2)} seconds\")\n",
    "print(f\"Total distance1 covered is {miles1} at a cost of £{cost1}\")\n",
    "print(f\"Total distance2 covered is {miles2} at a cost of £{cost2}\")"
   ]
  },
  {
   "cell_type": "code",
   "execution_count": null,
   "metadata": {
    "id": "hZ801SOjE8Mc"
   },
   "outputs": [],
   "source": [
    "# BEST SOLUTION\n",
    "Lorry24 Warehouse 24 - Best path: [24, 3, 4, 1, 23, 10, 13, 8, 22, 11, 7, 14, 12, 24]\n",
    "Best disance: 357 in 195.65 seconds\n",
    "Lorry25 Warehouse 25 - Best path: [25, 13, 8, 1, 4, 3, 12, 14, 7, 22, 11, 23, 10, 25]\n",
    "Best disance: 307 in 194.36 seconds\n",
    "van24 Warehouse 24 - Best path: [24, 9, 17, 6, 18, 24]\n",
    "Best disance: 91 in 10.02 seconds\n",
    "Van125 Warehouse 125 - Best path: [25, 20, 5, 15, 19, 25]\n",
    "Best disance: 65 in 9.91 seconds\n",
    "Van225 Warehouse 225 - Best path: [25, 16, 21, 2, 25]\n",
    "Best disance: 81 in 8.49 seconds\n",
    "Total distance1 covered is 594 at a cost of £1308\n",
    "Total distance2 covered is 544 at a cost of £1158"
   ]
  },
  {
   "cell_type": "code",
   "execution_count": null,
   "metadata": {
    "id": "eiUvWh46PJ8h"
   },
   "outputs": [],
   "source": []
  },
  {
   "cell_type": "markdown",
   "metadata": {
    "id": "3fSd2hxmPKDs"
   },
   "source": [
    "### 5 Van Solution\n",
    "In this solution the 3 clusters close to the warehouse are expanded and 2 more vans recruited to deliver to the further stores in the upper section of the graph."
   ]
  },
  {
   "cell_type": "code",
   "execution_count": 35,
   "metadata": {
    "id": "KnefYcoMPKLI"
   },
   "outputs": [],
   "source": [
    "van124 = np.array([6, 9, 12, 17, 18, 24])\n",
    "van224 = np.array([1, 3, 4, 7, 14, 24])\n",
    "van125 = np.array([5, 15, 19, 20, 25])\n",
    "van225 = np.array([2, 13, 16, 21, 25])\n",
    "van325 = np.array([8, 10, 11, 22, 23, 25])\n"
   ]
  },
  {
   "cell_type": "code",
   "execution_count": 36,
   "metadata": {
    "colab": {
     "base_uri": "https://localhost:8080/"
    },
    "id": "QkOELpnPPOZ6",
    "outputId": "f24c5915-dc62-43c6-9eae-4502ea214046"
   },
   "outputs": [
    {
     "name": "stdout",
     "output_type": "stream",
     "text": [
      "van124 Warehouse 124 - Best path: [24, 9, 18, 6, 12, 17, 24]\n",
      "Best disance: 117 in 110.55 seconds\n",
      "van224 Warehouse 224 - Best path: [24, 7, 1, 4, 3, 14, 24]\n",
      "Best disance: 191 in 110.08 seconds\n",
      "van125 Warehouse 125 - Best path: [25, 19, 15, 5, 20, 25]\n",
      "Best disance: 65 in 98.76 seconds\n",
      "Van225 Warehouse 225 - Best path: [25, 16, 21, 2, 13, 25]\n",
      "Best disance: 100 in 98.73 seconds\n",
      "Van325 Warehouse 325 - Best path: [25, 10, 23, 11, 22, 8, 25]\n",
      "Best disance: 169 in 109.84 seconds\n",
      "Total distance1 covered is 642 at a cost of £642\n"
     ]
    }
   ],
   "source": [
    "# 3 Vans + 1 Lorry\n",
    "\n",
    "#Import libraries\n",
    "from sklearn.model_selection import train_test_split\n",
    "\n",
    "# Calculate distances\n",
    "bpath1, bdist1, elapsed1 = tsp_hc2(van124, 10000000)\n",
    "bpath2, bdist2, elapsed2 = tsp_hc2(van224, 10000000)\n",
    "bpath3, bdist3, elapsed3 = tsp_hc2(van125, 10000000)\n",
    "bpath4, bdist4, elapsed4 = tsp_hc2(van225, 10000000)\n",
    "bpath5, bdist5, elapsed5 = tsp_hc2(van325, 10000000)\n",
    "miles = bdist1 + bdist2 + bdist3 + bdist4 + bdist5\n",
    "cost = bdist1*1 + bdist2*1 + bdist3*1 + bdist4*1 + bdist5*1\n",
    "\n",
    "print(f\"van124 Warehouse 124 - Best path: {bpath1}\\nBest disance: {bdist1} in {round(elapsed1, 2)} seconds\")\n",
    "print(f\"van224 Warehouse 224 - Best path: {bpath2}\\nBest disance: {bdist2} in {round(elapsed2, 2)} seconds\")\n",
    "print(f\"van125 Warehouse 125 - Best path: {bpath3}\\nBest disance: {bdist3} in {round(elapsed3, 2)} seconds\")\n",
    "print(f\"Van225 Warehouse 225 - Best path: {bpath4}\\nBest disance: {bdist4} in {round(elapsed4, 2)} seconds\")\n",
    "print(f\"Van325 Warehouse 325 - Best path: {bpath5}\\nBest disance: {bdist5} in {round(elapsed5, 2)} seconds\")\n",
    "print(f\"Total distance1 covered is {miles} at a cost of £{cost}\")\n"
   ]
  },
  {
   "cell_type": "code",
   "execution_count": null,
   "metadata": {
    "id": "2a8vQ8RePKT9"
   },
   "outputs": [],
   "source": [
    "# BEST SOLUTION\n",
    "van124 Warehouse 124 - Best path: [24, 9, 17, 12, 6, 18, 24]\n",
    "Best disance: 112 in 11.14 seconds\n",
    "van224 Warehouse 224 - Best path: [24, 14, 7, 1, 4, 3, 24]\n",
    "Best disance: 186 in 11.08 seconds\n",
    "van125 Warehouse 125 - Best path: [25, 19, 15, 5, 20, 25]\n",
    "Best disance: 65 in 9.98 seconds\n",
    "Van225 Warehouse 225 - Best path: [25, 16, 21, 2, 13, 25]\n",
    "Best disance: 100 in 9.97 seconds\n",
    "Van325 Warehouse 325 - Best path: [25, 8, 22, 11, 23, 10, 25]\n",
    "Best disance: 169 in 11.03 seconds\n",
    "Total distance1 covered is 632 at a cost of £632"
   ]
  },
  {
   "cell_type": "code",
   "execution_count": null,
   "metadata": {
    "id": "9R9ZEoUfPKXz"
   },
   "outputs": [],
   "source": []
  },
  {
   "cell_type": "markdown",
   "metadata": {},
   "source": [
    "### Late addition\n",
    "Retrying the 2 lorry approach with ended at the opposite warehouse to see if it helps reduce costs<br>\n",
    "Splitting the routes into a north and south path had little impact on the final solution but reduced costs on the 2 lorry solution by around £300 pounds"
   ]
  },
  {
   "cell_type": "code",
   "execution_count": 1,
   "metadata": {},
   "outputs": [],
   "source": [
    "import random\n",
    "import numpy as np\n",
    "from time import perf_counter"
   ]
  },
  {
   "cell_type": "code",
   "execution_count": 2,
   "metadata": {},
   "outputs": [],
   "source": [
    "dist = np.array([[0,84,29,12,64,62,20,40,78,54,38,33,56,20,68,85,54,63,81,66,81,38,32,72,71],\n",
    "[84,0,93,81,62,31,65,43,47,91,64,61,29,68,56,22,65,33,52,44,15,52,83,42,37],\n",
    "[29,93,0,19,90,64,42,54,71,83,64,32,70,28,93,101,41,64,104,88,95,60,61,67,91],\n",
    "[12,81,19,0,71,56,23,39,69,65,45,25,55,14,74,86,43,57,86,70,80,42,43,64,74],\n",
    "[64,62,90,71,0,67,48,46,92,34,26,68,43,63,8,46,89,71,21,17,48,32,40,85,25],\n",
    "[62,31,64,56,67,0,46,26,26,86,56,32,24,43,64,47,34,4,67,53,39,42,72,18,50],\n",
    "[20,65,42,23,48,46,0,22,67,49,23,26,37,16,51,66,49,49,63,47,61,19,29,60,51],\n",
    "[40,43,54,39,46,26,22,0,50,61,31,24,16,26,46,47,43,29,54,38,41,17,46,42,39],\n",
    "[78,47,71,69,92,26,67,50,0,111,81,45,50,58,89,67,31,21,92,79,60,67,95,8,74],\n",
    "[54,91,83,65,34,86,49,61,111,0,30,74,66,64,42,79,98,90,55,49,79,44,22,103,57],\n",
    "[38,64,64,45,26,56,23,31,81,30,0,47,37,39,31,57,70,60,44,31,55,15,19,73,38],\n",
    "[33,61,32,25,68,32,26,24,45,74,47,0,39,13,69,70,23,33,79,62,63,37,55,39,63],\n",
    "[56,29,70,55,43,24,37,16,50,66,37,39,0,42,40,31,53,29,44,29,25,23,55,42,27],\n",
    "[20,68,28,14,63,43,16,26,58,64,39,13,42,0,65,73,36,44,76,60,67,32,43,52,63],\n",
    "[68,56,93,74,8,64,51,46,89,42,31,69,40,65,0,39,89,68,14,11,41,33,47,82,18],\n",
    "[85,22,101,86,46,47,66,47,67,79,57,70,31,73,39,0,80,50,32,29,8,48,76,61,21],\n",
    "[54,65,41,43,89,34,49,43,31,98,70,23,53,36,89,80,0,32,96,80,73,58,78,29,79],\n",
    "[63,33,64,57,71,4,49,29,21,90,60,33,29,44,68,50,32,0,72,57,42,46,75,14,54],\n",
    "[81,52,104,86,21,67,63,54,92,55,44,79,44,76,14,32,96,72,0,16,37,44,61,85,18],\n",
    "[66,44,88,70,17,53,47,38,79,49,31,62,29,60,11,29,80,57,16,0,31,28,49,71,8],\n",
    "[81,15,95,80,48,39,61,41,60,79,55,63,25,67,41,8,73,42,37,31,0,45,74,53,23],\n",
    "[38,52,60,42,32,42,19,17,67,44,15,37,23,32,33,48,58,46,44,28,45,0,32,59,33],\n",
    "[32,83,61,43,40,72,29,46,95,22,19,55,55,43,47,76,78,75,61,49,74,32,0,87,57],\n",
    "[72,42,67,64,85,18,60,42,8,103,73,39,42,52,82,61,29,14,85,71,53,59,87,0,67],\n",
    "[71,37,91,74,25,50,51,39,74,57,38,63,27,63,18,21,79,54,18,8,23,33,57,67,0]])"
   ]
  },
  {
   "cell_type": "code",
   "execution_count": 5,
   "metadata": {},
   "outputs": [],
   "source": [
    "# OPTIMAl FUNCTION\n",
    "def tsp_hc3(data, number_of_steps, whnum):\n",
    "\n",
    "    # Start timer\n",
    "    tik = perf_counter()\n",
    "    \n",
    "    # Create initial solution\n",
    "    size = len(data)-1                  # Gives the number of stores excluding warehouse\n",
    "    best_path = []\n",
    "    for i in data[0:size]:\n",
    "        best_path.append(i)             # Buids up a vector of 1,2,3,4...,n    \n",
    "    random.shuffle(best_path)           # Randomise path to get initial solution\n",
    "    best_path.insert(0, data[-1])          # Inser start\n",
    "    best_path.append(whnum)             # Insert end\n",
    "\n",
    "    # Find distance of initial solution\n",
    "    best_distance = 0\n",
    "    for i in range(len(best_path)-1):\n",
    "        best_distance += dist[best_path[i]-1][best_path[i+1]-1]\n",
    "    #print(\"Best distance: \", best_distance, best_path)\n",
    "\n",
    "    # Hill-climb Algorithm\n",
    "    for x in range(number_of_steps):\n",
    "        ##### Create a new path\n",
    "        entry1 = random.randint(1, size)   # randomly choose first entry\n",
    "        entry2 = random.randint(1, size)   # randomly choose second entry\n",
    "        new_path = best_path.copy() \n",
    "        new_path[entry1], new_path[entry2] = new_path[entry2], new_path[entry1] #changes the vector given the two random entries to swap\n",
    "\n",
    "        # Calculate distance\n",
    "        new_distance = 0\n",
    "        for i in range(len(new_path)-1):\n",
    "            new_distance += dist[new_path[i]-1][new_path[i+1]-1]\n",
    "\n",
    "        #print(\"New distance: \", new_distance, new_path)\n",
    "        # Check if new path is shorter than best path  \n",
    "        if new_distance < best_distance:\n",
    "            best_path = new_path.copy()\n",
    "            best_distance = new_distance\n",
    "\n",
    "    tok = perf_counter()\n",
    "    elapsed = tok-tik\n",
    "    #print (best_path,best_distance, elapsed)\n",
    "\n",
    "    return (best_path, best_distance, elapsed)"
   ]
  },
  {
   "cell_type": "code",
   "execution_count": 13,
   "metadata": {},
   "outputs": [],
   "source": [
    "#distsub = np.array([1, 3, 4, 7, 8, 10, 11, 12, 13, 14, 22, 23])\n",
    "#dist24 = np.array([6, 9, 17, 18, 24])\n",
    "#dist25 = np.array([2, 5, 15, 16, 19, 20, 21, 25])\n",
    "#distsub = np.array([1, 2, 3, 4, 5, 6, 7, 8, 9, 10, 11, 12, 13, 14, 15, 16, 17, 18, 19, 20, 21, 22, 23])\n",
    "dist24 = np.array([9, 18, 6, 2, 21, 16, 19, 20, 15, 5, 13, 24])\n",
    "dist25 = np.array([10, 23, 11, 22, 8, 7, 1, 4, 3, 14, 12, 17, 25])"
   ]
  },
  {
   "cell_type": "code",
   "execution_count": 14,
   "metadata": {},
   "outputs": [
    {
     "name": "stdout",
     "output_type": "stream",
     "text": [
      "Lorry1 Warehouse 23 - Best path: [24, 9, 18, 6, 13, 5, 15, 19, 20, 2, 21, 16, 25]\n",
      "Best disance: 226 in 6.74 seconds\n",
      "Lorry2 Warehouse 24 - Best path: [25, 10, 23, 11, 22, 8, 7, 1, 4, 3, 14, 12, 17, 24]\n",
      "Best disance: 296 in 7.0 seconds\n",
      "Total distance covered is 522 at a cost of £1566\n"
     ]
    }
   ],
   "source": [
    "# OPTIMAL ROUTES\n",
    "\n",
    "#Import libraries\n",
    "from sklearn.model_selection import train_test_split\n",
    "\n",
    "# Split data into two subsets for 2 Lorries\n",
    "#route1, route2 = train_test_split(distsub, test_size=0.5)\n",
    "# Merge data\n",
    "route1 = dist24 #np.append(route1, dist24, axis=0)\n",
    "route2 = dist25 #np.append(route2, dist25, axis=0)\n",
    "\n",
    "# One lorry will depart from warehouse1, the other from warehouse2\n",
    "bpath1, bdist1, elapsed1 = tsp_hc3(route1, 100000, 25)\n",
    "bpath2, bdist2, elapsed2 = tsp_hc3(route2, 100000, 24)\n",
    "miles = bdist1 + bdist2\n",
    "cost = bdist1*3 + bdist2*3\n",
    "\n",
    "print(f\"Lorry1 Warehouse 23 - Best path: {bpath1}\\nBest disance: {bdist1} in {round(elapsed1, 2)} seconds\")\n",
    "print(f\"Lorry2 Warehouse 24 - Best path: {bpath2}\\nBest disance: {bdist2} in {round(elapsed2, 2)} seconds\")\n",
    "print(f\"Total distance covered is {miles} at a cost of £{cost}\")"
   ]
  },
  {
   "cell_type": "code",
   "execution_count": null,
   "metadata": {},
   "outputs": [],
   "source": []
  }
 ],
 "metadata": {
  "colab": {
   "collapsed_sections": [],
   "name": "Part 3 TSP.ipynb",
   "provenance": []
  },
  "kernelspec": {
   "display_name": "Python 3",
   "language": "python",
   "name": "python3"
  },
  "language_info": {
   "codemirror_mode": {
    "name": "ipython",
    "version": 3
   },
   "file_extension": ".py",
   "mimetype": "text/x-python",
   "name": "python",
   "nbconvert_exporter": "python",
   "pygments_lexer": "ipython3",
   "version": "3.8.3"
  }
 },
 "nbformat": 4,
 "nbformat_minor": 1
}
