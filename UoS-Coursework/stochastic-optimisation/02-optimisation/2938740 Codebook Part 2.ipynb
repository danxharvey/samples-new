{
 "cells": [
  {
   "cell_type": "markdown",
   "metadata": {},
   "source": [
    "# Student 2938740\n",
    "## Part 2.1 Single Objective Optimisation"
   ]
  },
  {
   "cell_type": "code",
   "execution_count": 1,
   "metadata": {},
   "outputs": [],
   "source": [
    "# Import libraries\n",
    "import numpy as np\n",
    "from random import randint\n",
    "import csv\n",
    "\n",
    "# Read file\n",
    "# Columns for option[0], return[1], investment[2]\n",
    "with open('Part2.csv', 'r', newline='') as f:\n",
    "    reader = csv.reader(f, delimiter=',')\n",
    "    data = [[int(row[0]), int(row[1]), int(row[2])] for row in reader if row]\n",
    "\n",
    "# Create individual vectors\n",
    "opportunities, returns, investments = [0]*100, [0]*100, [0]*100\n",
    "for i in range(100):\n",
    "    opportunities[i], returns[i], investments[i] = data[i][0], data[i][1], data[i][2]\n",
    "\n",
    "# Delete data\n",
    "del data\n",
    "\n",
    "# Andrew way (with text file working)\n",
    "# = open(\"Part2.txt\", \"r\")     #Opens txt file\n",
    "#items=f.readlines()            #Reads data from txt file\n",
    "#alues = []                     #Opens an empty vector\n",
    "#eights = []                    #Opens an empty vector\n",
    "#or x in nitems:                #Extracts the data to create separate lists\n",
    "#   numbers = x.split()         #Converts the string into a list\n",
    "#   values.append(int(numbers[1]))   # Extracts data from middle column for values  \n",
    "#   weights.append(int(numbers[2]))  # Extracts data from last column for values \n"
   ]
  },
  {
   "cell_type": "markdown",
   "metadata": {},
   "source": [
    "### Maximise return with hard limit of investment <= 50,000\n",
    "Currently, the optimal solution is active on line 9, comment and use line 8 to run code"
   ]
  },
  {
   "cell_type": "code",
   "execution_count": 2,
   "metadata": {},
   "outputs": [],
   "source": [
    "def knapsack_hc(limit, hc_type, steps=100):\n",
    "\n",
    "    # initialise variables (inv = investment value, ret = return value), solution = empty vector length(opportunities)\n",
    "    inv, ret, allowed, opps, solution = 0, 0, False, len(opportunities), [0]*len(opportunities)\n",
    "\n",
    "    # Generate repeated random solutions and calculate investment cost until under limit\n",
    "    while not allowed:\n",
    "#        solution = [randint(0,1) for item in solution] \n",
    "        solution = [1, 0, 1, 0, 1, 0, 1, 1, 1, 1, 0, 0, 1, 0, 0, 1, 1, 0, 1, 1, 0, 1, 1, 1, 1, 1, 0, 0, 0, 1, 1, 1, 1, 0, 0, 0, 0, 1, 0, 1, 0, 1, 1, 1, 0, 0, 1, 0, 1, 1, 1, 1, 0, 0, 1, 0, 1, 0, 0, 0, 1, 1, 1, 1, 1, 1, 1, 1, 0, 0, 1, 0, 0, 1, 1, 1, 1, 0, 1, 1, 1, 1, 1, 1, 0, 1, 0, 0, 1, 1, 1, 0, 1, 1, 0, 1, 0, 0, 1, 1]\n",
    "        inv = np.sum([investments[i] * solution[i] for i in range(opps)])\n",
    "        allowed = (inv <= limit)\n",
    "\n",
    "    # Calculate value of the allowed investments\n",
    "    ret = np.sum([returns[i] * solution[i] for i in range(opps)])\n",
    "    print(f\"Initial solution - Investment: {inv}, Return: {ret}\\n{'-'*51}\")\n",
    "\n",
    "    # Repeat hill climb, resetting allowed variable each time\n",
    "    for step in range(steps):\n",
    "        allowed = False\n",
    "\n",
    "        # Adjust current solution until a new valid solution is found (step_ret = return for current step)\n",
    "        while not allowed:\n",
    "            step_inv, step_ret, step_sol = 0, 0, solution.copy()  # .copy() avoid updates to original list\n",
    "\n",
    "            if hc_type == 1: # Randomly changes between included/excluded for one entry per step\n",
    "                entry = randint(0, opps-1)\n",
    "                step_sol[entry] = (1-step_sol[entry])\n",
    "\n",
    "            elif hc_type == 2: # For each entry has 2/opps probability of being switched (on->off / off->on)\n",
    "                for i in range(opps):\n",
    "                    if random() < 2/opps:   \n",
    "                        step_sol[i] = (1-step_sol[i]) \n",
    "\n",
    "            elif hc_type == 3: # Randomly swaps two entries (maybe same result or swap on/off and vice versa)\n",
    "                entry1 = randint(0, opps-1)\n",
    "                entry2 = randint(0, opps-1)\n",
    "                step_sol[entry1], step_sol[entry2] = step_sol[entry2], step_sol[entry1]\n",
    "\n",
    "            else:\n",
    "                print(\"Ensure hc_type is 1, 2 or 3\")\n",
    "                break\n",
    "\n",
    "\n",
    "            # Checks if the step solution under the limit\n",
    "            step_inv = np.sum([investments[i] * step_sol[i] for i in range(opps)])\n",
    "            allowed = (step_inv <= limit)\n",
    "\n",
    "        # Calculate value of the allowed step solution\n",
    "        step_ret = np.sum([returns[i] * step_sol[i] for i in range(opps)])\n",
    "        #print(f\"Step {step} - Inv: {step_inv}, Ret: {step_ret}, Improvement: {('No', 'Yes')[(step_ret > ret)]}\")\n",
    "\n",
    "\n",
    "        # If new step solution is better update solution vector\n",
    "        solution, ret, inv = ([solution, ret, inv], [step_sol, step_ret, step_inv])[(step_ret > ret)]\n",
    "\n",
    "    # Print results\n",
    "    print(f\"Optimal solution - Investment: {inv}, Return: {ret}\\n{'-'*51}\")\n",
    "    final = [x for i,x in enumerate(opportunities) if solution[i]]\n",
    "    print(f\"Opportunities selected:\\n{final}\\n{'-'*51}\")\n",
    "    print(f\"Solution vector:\\n{solution}\\n{'-'*51}\")\n",
    "    \n",
    "    return"
   ]
  },
  {
   "cell_type": "code",
   "execution_count": 3,
   "metadata": {
    "scrolled": true
   },
   "outputs": [
    {
     "name": "stdout",
     "output_type": "stream",
     "text": [
      "Initial solution - Investment: 50000, Return: 61400\n",
      "---------------------------------------------------\n"
     ]
    },
    {
     "name": "stderr",
     "output_type": "stream",
     "text": [
      "<ipython-input-2-b2e44cdbcb28>:54: DeprecationWarning: In future, it will be an error for 'np.bool_' scalars to be interpreted as an index\n",
      "  solution, ret, inv = ([solution, ret, inv], [step_sol, step_ret, step_inv])[(step_ret > ret)]\n"
     ]
    },
    {
     "name": "stdout",
     "output_type": "stream",
     "text": [
      "Optimal solution - Investment: 50000, Return: 61400\n",
      "---------------------------------------------------\n",
      "Opportunities selected:\n",
      "[1, 3, 5, 7, 8, 9, 10, 13, 16, 17, 19, 20, 22, 23, 24, 25, 26, 30, 31, 32, 33, 38, 40, 42, 43, 44, 47, 49, 50, 51, 52, 55, 57, 61, 62, 63, 64, 65, 66, 67, 68, 71, 74, 75, 76, 77, 79, 80, 81, 82, 83, 84, 86, 89, 90, 91, 93, 94, 96, 99, 100]\n",
      "---------------------------------------------------\n",
      "Solution vector:\n",
      "[1, 0, 1, 0, 1, 0, 1, 1, 1, 1, 0, 0, 1, 0, 0, 1, 1, 0, 1, 1, 0, 1, 1, 1, 1, 1, 0, 0, 0, 1, 1, 1, 1, 0, 0, 0, 0, 1, 0, 1, 0, 1, 1, 1, 0, 0, 1, 0, 1, 1, 1, 1, 0, 0, 1, 0, 1, 0, 0, 0, 1, 1, 1, 1, 1, 1, 1, 1, 0, 0, 1, 0, 0, 1, 1, 1, 1, 0, 1, 1, 1, 1, 1, 1, 0, 1, 0, 0, 1, 1, 1, 0, 1, 1, 0, 1, 0, 0, 1, 1]\n",
      "---------------------------------------------------\n"
     ]
    }
   ],
   "source": [
    "# Variables are limit, hc_type option, steps\n",
    "knapsack_hc(50000, 3, 10000)"
   ]
  },
  {
   "cell_type": "code",
   "execution_count": null,
   "metadata": {},
   "outputs": [],
   "source": []
  },
  {
   "cell_type": "markdown",
   "metadata": {},
   "source": [
    "### Various Results Saved"
   ]
  },
  {
   "cell_type": "code",
   "execution_count": null,
   "metadata": {},
   "outputs": [],
   "source": [
    "#### Initial solution - Investment: 41080, Return: 49080\n",
    "---------------------------------------------------\n",
    "#### Optimal solution - Investment: 49992, Return: 59692\n",
    "---------------------------------------------------\n",
    "Opportunities selected:\n",
    "[1, 6, 7, 8, 10, 12, 14, 16, 17, 18, 20, 22, 24, 26, 28, 29, 30, 31, 35, 36, 38, 40, 42, 44, 45, 46, 47, 49, 50, 52, 54, 56, 57, 61, 62, 63, 64, 67, 71, 72, 73, 75, 76, 77, 79, 80, 84, 86, 87, 88, 89, 90, 91, 93, 99, 100]"
   ]
  },
  {
   "cell_type": "markdown",
   "metadata": {},
   "source": [
    "&nbsp;"
   ]
  },
  {
   "cell_type": "code",
   "execution_count": null,
   "metadata": {},
   "outputs": [],
   "source": [
    "#### Initial solution - Investment: 49997, Return: 61397\n",
    "---------------------------------------------------\n",
    "#### Opportunities selected:\n",
    "[1, 3, 5, 7, 8, 9, 10, 13, 16, 17, 19, 20, 22, 23, 24, 25, 26, 30, 31, 32, 33, 38, 40, 42, 43, 44, 47, 49, 50, 51, 52, 55, 57, 61, 62, 63, 64, 65, 66, 67, 68, 71, 74, 75, 76, 77, 79, 80, 81, 82, 83, 84, 86, 89, 90, 91, 93, 94, 96, 99, 100]\n",
    "---------------------------------------------------\n",
    "Solution vector:\n",
    "[1, 0, 1, 0, 1, 0, 1, 1, 1, 1, 0, 0, 1, 0, 0, 1, 1, 0, 1, 1, 0, 1, 1, 1, 1, 1, 0, 0, 0, 1, 1, 1, 1, 0, 0, 0, 0, 1, 0, 1, 0, 1, 1, 1, 0, 0, 1, 0, 1, 1, 1, 1, 0, 0, 1, 0, 1, 0, 0, 0, 1, 1, 1, 1, 1, 1, 1, 1, 0, 0, 1, 0, 0, 1, 1, 1, 1, 0, 1, 1, 1, 1, 1, 1, 0, 1, 0, 0, 1, 1, 1, 0, 1, 1, 0, 1, 0, 0, 1, 1]\n",
    "---------------------------------------------------"
   ]
  },
  {
   "cell_type": "markdown",
   "metadata": {},
   "source": [
    "&nbsp;"
   ]
  },
  {
   "cell_type": "code",
   "execution_count": null,
   "metadata": {},
   "outputs": [],
   "source": [
    "Initial solution - Investment: 49615, Return: 58915\n",
    "---------------------------------------------------\n",
    "Optimal solution - Investment: 50000, Return: 60300\n",
    "---------------------------------------------------\n",
    "Opportunities selected:\n",
    "[1, 2, 3, 7, 8, 9, 15, 19, 22, 23, 24, 26, 32, 33, 34, 35, 37, 38, 40, 41, 42, 44, 47, 50, 52, 55, 56, 62, 63, 64, 65, 66, 67, 68, 70, 71, 76, 78, 79, 82, 83, 84, 86, 87, 88, 91, 93, 94, 96, 100]\n",
    "---------------------------------------------------"
   ]
  },
  {
   "cell_type": "markdown",
   "metadata": {},
   "source": [
    "&nbsp;"
   ]
  },
  {
   "cell_type": "markdown",
   "metadata": {},
   "source": [
    "&nbsp;"
   ]
  },
  {
   "cell_type": "markdown",
   "metadata": {},
   "source": [
    "## Part 2.2 Multi Objective Optimisation\n",
    "The task is as follows:\n",
    "\n",
    "1) Maximise the return\n",
    "2) Minismise the total number of investments\n",
    "\n",
    "Quick look at excel reveals:<br>\n",
    "- Lowest cost investments: 70 items, cost 49050, return 59450, profit 10400<br>\n",
    "- Highest return investments: 21 items, cost 49283, return 55983, profit 6700<br>\n",
    "- Profit ratio: 61 items, cost 49496, return 60996, profit 11500<br>\n",
    "- High profit: 32 items, cost 49791, return 59491, profit 9700<br>\n",
    "<br>\n",
    "This gives us some constraints:<br>\n",
    "- Max number of items = 61<br>\n",
    "- Min number of items = 32<br>"
   ]
  },
  {
   "cell_type": "code",
   "execution_count": 4,
   "metadata": {},
   "outputs": [],
   "source": [
    "# Import libraries\n",
    "import numpy as np\n",
    "from random import randint\n",
    "import csv\n",
    "from matplotlib import pyplot as plt"
   ]
  },
  {
   "cell_type": "code",
   "execution_count": 5,
   "metadata": {},
   "outputs": [],
   "source": [
    "# Read file\n",
    "# Columns for option[0], return[1], investment[2]\n",
    "with open('Part2.csv', 'r', newline='') as f:\n",
    "    reader = csv.reader(f, delimiter=',')\n",
    "    data = [[int(row[0]), int(row[1]), int(row[2])] for row in reader if row]\n",
    "\n",
    "# Create individual vectors\n",
    "opportunities, returns, investments = [0]*100, [0]*100, [0]*100\n",
    "for i in range(100):\n",
    "    opportunities[i], returns[i], investments[i] = data[i][0], data[i][1], data[i][2]\n",
    "\n",
    "# Delete data\n",
    "del data"
   ]
  },
  {
   "cell_type": "code",
   "execution_count": 10,
   "metadata": {},
   "outputs": [
    {
     "name": "stdout",
     "output_type": "stream",
     "text": [
      "Initial solution - Investment: 49791, Return: 59491, Profit: 9700\n",
      "------------------------------------------------------------------\n"
     ]
    },
    {
     "name": "stderr",
     "output_type": "stream",
     "text": [
      "<ipython-input-10-8addf5c5ce00>:108: DeprecationWarning: In future, it will be an error for 'np.bool_' scalars to be interpreted as an index\n",
      "  solution, inv, ret, prof = ([new_sol, new_inv, new_ret, new_prof], [step_sol, step_inv, step_ret, step_prof])[(step_prof >= new_prof)]\n"
     ]
    },
    {
     "name": "stdout",
     "output_type": "stream",
     "text": [
      "Best solution for 33 investments - Inv: 49495, Ret: 59095, Prof: 9600\n",
      "Best solution for 34 investments - Inv: 46955, Ret: 56355, Prof: 9400\n",
      "Best solution for 35 investments - Inv: 47158, Ret: 56658, Prof: 9500\n",
      "Best solution for 36 investments - Inv: 48730, Ret: 58430, Prof: 9700\n",
      "Best solution for 37 investments - Inv: 47921, Ret: 57521, Prof: 9600\n",
      "Best solution for 38 investments - Inv: 48310, Ret: 57910, Prof: 9600\n",
      "Best solution for 39 investments - Inv: 49213, Ret: 58913, Prof: 9700\n",
      "Best solution for 40 investments - Inv: 49284, Ret: 58884, Prof: 9600\n",
      "Best solution for 41 investments - Inv: 49373, Ret: 59073, Prof: 9700\n",
      "Best solution for 42 investments - Inv: 48538, Ret: 58238, Prof: 9700\n",
      "Best solution for 43 investments - Inv: 49479, Ret: 59279, Prof: 9800\n",
      "Best solution for 44 investments - Inv: 49785, Ret: 59385, Prof: 9600\n",
      "Best solution for 45 investments - Inv: 49899, Ret: 59499, Prof: 9600\n",
      "Best solution for 46 investments - Inv: 49534, Ret: 59034, Prof: 9500\n",
      "Best solution for 47 investments - Inv: 49018, Ret: 58418, Prof: 9400\n",
      "Best solution for 48 investments - Inv: 49626, Ret: 59126, Prof: 9500\n",
      "Best solution for 49 investments - Inv: 48901, Ret: 58501, Prof: 9600\n",
      "Best solution for 50 investments - Inv: 48345, Ret: 58045, Prof: 9700\n",
      "Best solution for 51 investments - Inv: 48110, Ret: 58010, Prof: 9900\n",
      "Best solution for 52 investments - Inv: 48739, Ret: 58739, Prof: 10000\n",
      "Best solution for 53 investments - Inv: 49182, Ret: 59282, Prof: 10100\n",
      "Best solution for 54 investments - Inv: 48315, Ret: 58515, Prof: 10200\n",
      "Best solution for 55 investments - Inv: 49584, Ret: 59984, Prof: 10400\n",
      "Best solution for 56 investments - Inv: 49314, Ret: 59714, Prof: 10400\n",
      "Best solution for 57 investments - Inv: 49990, Ret: 60590, Prof: 10600\n",
      "Best solution for 58 investments - Inv: 49826, Ret: 60426, Prof: 10600\n",
      "Best solution for 59 investments - Inv: 49671, Ret: 60371, Prof: 10700\n",
      "Best solution for 60 investments - Inv: 49086, Ret: 59586, Prof: 10500\n",
      "Best solution for 61 investments - Inv: 49934, Ret: 60534, Prof: 10600\n",
      "end\n"
     ]
    }
   ],
   "source": [
    "# Set variables\n",
    "limit = 50000\n",
    "switcher = 3\n",
    "steps = 1000\n",
    "\n",
    "# initialise variables (inv = investment value, ret = return value), solution = empty vector length(opportunities)\n",
    "inv, ret, prof, allowed, opps, solution = 0, 0, 0, False, len(opportunities), [0]*len(opportunities)\n",
    "\n",
    "# Min solution: number of investments = 32\n",
    "solution = [0, 1, 0, 0, 0, 0, 1, 1, 0, 0, 0, 0, 0, 0, 0, 0, 0, 0, 1, 0, 0, 0, 1, 1, 1, 0, 0, 0, 0, 0, 1, 1, 0, 0, 0, 0, 1, 1, 0, 1, 0, 0, 0, 0, 0, 0, 1, 0, 0, 0, 0, 0, 0, 0, 1, 0, 0, 0, 1, 1, 0, 0, 1, 1, 1, 1, 1, 0, 0, 1, 1, 0, 0, 1, 0, 0, 0, 0, 0, 0, 0, 0, 1, 1, 0, 1, 0, 0, 0, 0, 1, 0, 0, 1, 1, 0, 1, 1, 0, 0]\n",
    "final = [solution]\n",
    "inv = np.sum([investments[i] * solution[i] for i in range(opps)])\n",
    "ret = np.sum([returns[i] * solution[i] for i in range(opps)])\n",
    "prof = ret - inv\n",
    "print(f\"Initial solution - Investment: {inv}, Return: {ret}, Profit: {prof}\\n{'-'*66}\")\n",
    "\n",
    "# Loop through number of investment from min to max (part 2.1 results)\n",
    "for i in range(1,30):\n",
    "\n",
    "    # Generate repeated random solutions and calculate investment cost until under limit\n",
    "    allowed = False\n",
    "    endless = 0\n",
    "    while not allowed:\n",
    "        \n",
    "        # Initialise new variables\n",
    "        new_inv, new_ret, new_prof, new_sol = 0, 0, 0, [0]*len(opportunities)\n",
    "        \n",
    "        # Create new solution as per original\n",
    "        new_sol = solution.copy()\n",
    "        \n",
    "        # Drop random investment\n",
    "        for j in range(1):\n",
    "            r = [idx for idx, x in enumerate(new_sol) if x == True]\n",
    "            idx = randint(0, len(r)-1)\n",
    "            new_sol[r[idx]] = 0\n",
    "        #print(\"length of new_sol after drop:\", np.sum(new_sol))\n",
    "\n",
    "        # Add (i+1) new investments to inrement number of investments\n",
    "        for j in range(2):\n",
    "            r = [idx for idx, x in enumerate(new_sol) if x == False]\n",
    "            idx = randint(0, len(r)-1)\n",
    "            new_sol[r[idx]] = 1\n",
    "        #print(\"length of new_sol after add:\", np.sum(new_sol))\n",
    "\n",
    "        # Check new solution is valid\n",
    "        new_inv = np.sum([investments[i] * new_sol[i] for i in range(opps)])\n",
    "        if (new_inv <= limit):\n",
    "            new_ret = np.sum([returns[i] * new_sol[i] for i in range(opps)])\n",
    "            new_prof = new_ret - new_inv\n",
    "            #print(f\"New solution - Inv: {new_inv}, Ret: {new_ret}, Prof: {new_prof}, Improvement: {('No', 'Yes')[(new_prof > prof)]}\")\n",
    "            allowed = True\n",
    "        else:\n",
    "            endless += 1\n",
    "        \n",
    "        # Escape infinite loop if no new solution found in 10000 attempts\n",
    "        if (endless==10000):\n",
    "            break\n",
    "\n",
    "    # Repeat hill climb, resetting allowed variable each time\n",
    "    for step in range(steps):\n",
    "        allowed = False\n",
    "        endless = 0\n",
    "\n",
    "        # Adjust current solution until a new valid solution is found (step_ret = return for current step)\n",
    "        while not allowed:\n",
    "            step_inv, step_ret, step_prof, step_sol = 0, 0, 0, new_sol.copy()  # .copy() avoid updates to original list\n",
    "\n",
    "            if switcher == 1: # Randomly swaps two entries (maybe same result or swap on/off and vice versa)\n",
    "                entry1a = randint(0, opps-1)\n",
    "                entry1b = randint(0, opps-1)\n",
    "                step_sol[entry1a], step_sol[entry1b] = step_sol[entry1b], step_sol[entry1a]\n",
    "            elif switcher == 2: # Randomly swaps four entries\n",
    "                entry1a = randint(0, opps-1)\n",
    "                entry1b = randint(0, opps-1)\n",
    "                entry2a = randint(0, opps-1)\n",
    "                entry2b = randint(0, opps-1)\n",
    "                step_sol[entry1a], step_sol[entry1b] = step_sol[entry1b], step_sol[entry1a]\n",
    "                step_sol[entry2a], step_sol[entry2b] = step_sol[entry2b], step_sol[entry2a]\n",
    "            elif switcher == 3: # Randomly swaps six entries\n",
    "                entry1a = randint(0, opps-1)\n",
    "                entry1b = randint(0, opps-1)\n",
    "                entry2a = randint(0, opps-1)\n",
    "                entry2b = randint(0, opps-1)\n",
    "                entry3a = randint(0, opps-1)\n",
    "                entry3b = randint(0, opps-1)\n",
    "                step_sol[entry1a], step_sol[entry1b] = step_sol[entry1b], step_sol[entry1a]\n",
    "                step_sol[entry2a], step_sol[entry2b] = step_sol[entry2b], step_sol[entry2a]\n",
    "                step_sol[entry3a], step_sol[entry3b] = step_sol[entry3b], step_sol[entry3a]\n",
    "            else:\n",
    "                print(\"Ensure hc_type is 1, 2 or 3\")\n",
    "                allowed = True\n",
    "\n",
    "            # Checks if the step solution under the limit\n",
    "            step_inv = np.sum([investments[i] * step_sol[i] for i in range(opps)])\n",
    "            if (step_inv <= limit):\n",
    "                step_ret = np.sum([returns[i] * step_sol[i] for i in range(opps)])\n",
    "                step_prof = step_ret - step_inv\n",
    "                #print(f\"Step {step} - Inv: {step_inv}, Ret: {step_ret}, Prof: {step_prof}, Improvement: {('No', 'Yes')[(step_prof > new_prof)]}\")\n",
    "                allowed = True\n",
    "            else:\n",
    "                endless += 1\n",
    "\n",
    "            # Escape infinite loop if no new solution found in 10000 attempts\n",
    "            if (endless == 10000):\n",
    "                break  # Escape endless loop\n",
    "\n",
    "        # If new step solution is better update solution vector\n",
    "        solution, inv, ret, prof = ([new_sol, new_inv, new_ret, new_prof], [step_sol, step_inv, step_ret, step_prof])[(step_prof >= new_prof)]\n",
    "        \n",
    "            \n",
    "    print(f\"Best solution for {np.sum(solution)} investments - Inv: {inv}, Ret: {ret}, Prof: {prof}\")\n",
    "    final.append(solution)\n",
    "\n",
    "print(\"end\")"
   ]
  },
  {
   "cell_type": "code",
   "execution_count": 11,
   "metadata": {},
   "outputs": [
    {
     "data": {
      "image/png": "[encoded data removed]",
      "text/plain": [
       "<Figure size 432x288 with 1 Axes>"
      ]
     },
     "metadata": {
      "needs_background": "light"
     },
     "output_type": "display_data"
    }
   ],
   "source": [
    "# Prepare data for plotting\n",
    "numInv = [x for x in range(32, 62)]\n",
    "finCost, finRet, finProfit = [0]*30, [0]*30, [0]*30\n",
    "for x in range(30):\n",
    "    finCost[x] = np.sum([final[x][i] * investments[i] for i in range(opps)])\n",
    "    finRet[x] = np.sum([final[x][i] * returns[i] for i in range(opps)])\n",
    "    finProfit[x] = finRet[x] - finCost[x]\n",
    "\n",
    "plt.bar(numInv, finProfit)\n",
    "plt.title('Investments vs. Profits')\n",
    "plt.xlabel('Number of Investments')\n",
    "plt.ylabel('Profits (£)')\n",
    "plt.show()"
   ]
  },
  {
   "cell_type": "code",
   "execution_count": 12,
   "metadata": {},
   "outputs": [
    {
     "name": "stdout",
     "output_type": "stream",
     "text": [
      "[1, 3, 4, 5, 6, 8, 9, 13, 15, 19, 20, 22, 23, 24, 25, 26, 27, 30, 31, 32, 33, 36, 38, 39, 40, 42, 44, 45, 46, 47, 50, 51, 52, 53, 55, 56, 57, 59, 61, 63, 64, 66, 67, 68, 69, 71, 74, 76, 77, 78, 79, 80, 81, 83, 84, 86, 87, 89, 90, 93, 100]\n"
     ]
    }
   ],
   "source": [
    "# Display output for final row in results vector (30 rows from 32 items to 61 items)\n",
    "print([x for i,x in enumerate(opportunities) if final[29][i]])"
   ]
  },
  {
   "cell_type": "code",
   "execution_count": null,
   "metadata": {},
   "outputs": [],
   "source": []
  }
 ],
 "metadata": {
  "kernelspec": {
   "display_name": "Python 3",
   "language": "python",
   "name": "python3"
  },
  "language_info": {
   "codemirror_mode": {
    "name": "ipython",
    "version": 3
   },
   "file_extension": ".py",
   "mimetype": "text/x-python",
   "name": "python",
   "nbconvert_exporter": "python",
   "pygments_lexer": "ipython3",
   "version": "3.8.3"
  }
 },
 "nbformat": 4,
 "nbformat_minor": 4
}
