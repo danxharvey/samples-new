{
 "cells": [
  {
   "cell_type": "markdown",
   "metadata": {},
   "source": [
    "## Data Investigation"
   ]
  },
  {
   "cell_type": "code",
   "execution_count": 164,
   "metadata": {},
   "outputs": [
    {
     "data": {
      "text/html": [
       "<div>\n",
       "<style scoped>\n",
       "    .dataframe tbody tr th:only-of-type {\n",
       "        vertical-align: middle;\n",
       "    }\n",
       "\n",
       "    .dataframe tbody tr th {\n",
       "        vertical-align: top;\n",
       "    }\n",
       "\n",
       "    .dataframe thead th {\n",
       "        text-align: right;\n",
       "    }\n",
       "</style>\n",
       "<table border=\"1\" class=\"dataframe\">\n",
       "  <thead>\n",
       "    <tr style=\"text-align: right;\">\n",
       "      <th></th>\n",
       "      <th>Town</th>\n",
       "      <th>Country</th>\n",
       "      <th>Store ID</th>\n",
       "      <th>Manager name</th>\n",
       "      <th>Staff</th>\n",
       "      <th>Floor Space</th>\n",
       "      <th>Window</th>\n",
       "      <th>Car park</th>\n",
       "      <th>Demographic score</th>\n",
       "      <th>Location</th>\n",
       "      <th>40min population</th>\n",
       "      <th>30 min population</th>\n",
       "      <th>20 min population</th>\n",
       "      <th>10 min population</th>\n",
       "      <th>Store age</th>\n",
       "      <th>Clearance space</th>\n",
       "      <th>Competition number</th>\n",
       "      <th>Competition score</th>\n",
       "      <th>Performance</th>\n",
       "    </tr>\n",
       "  </thead>\n",
       "  <tbody>\n",
       "    <tr>\n",
       "      <th>0</th>\n",
       "      <td>Swinton (Greater Manchester)</td>\n",
       "      <td>UK</td>\n",
       "      <td>1437</td>\n",
       "      <td>Roger</td>\n",
       "      <td>9</td>\n",
       "      <td>18526</td>\n",
       "      <td>121</td>\n",
       "      <td>Yes</td>\n",
       "      <td>10</td>\n",
       "      <td>Retail Park</td>\n",
       "      <td>1288374</td>\n",
       "      <td>1138224</td>\n",
       "      <td>1006986</td>\n",
       "      <td>1002340</td>\n",
       "      <td>3</td>\n",
       "      <td>238</td>\n",
       "      <td>16</td>\n",
       "      <td>16</td>\n",
       "      <td>Good</td>\n",
       "    </tr>\n",
       "    <tr>\n",
       "      <th>1</th>\n",
       "      <td>Stamford</td>\n",
       "      <td>UK</td>\n",
       "      <td>1544</td>\n",
       "      <td>Ella</td>\n",
       "      <td>8</td>\n",
       "      <td>18569</td>\n",
       "      <td>121</td>\n",
       "      <td>Yes</td>\n",
       "      <td>11</td>\n",
       "      <td>Shopping Centre</td>\n",
       "      <td>1086225</td>\n",
       "      <td>1015321</td>\n",
       "      <td>1012182</td>\n",
       "      <td>1008436</td>\n",
       "      <td>4</td>\n",
       "      <td>384</td>\n",
       "      <td>15</td>\n",
       "      <td>19</td>\n",
       "      <td>Good</td>\n",
       "    </tr>\n",
       "    <tr>\n",
       "      <th>2</th>\n",
       "      <td>Skipton</td>\n",
       "      <td>UK</td>\n",
       "      <td>2039</td>\n",
       "      <td>Valentina</td>\n",
       "      <td>-2</td>\n",
       "      <td>12288</td>\n",
       "      <td>105</td>\n",
       "      <td>No</td>\n",
       "      <td>12</td>\n",
       "      <td>Retail Park</td>\n",
       "      <td>1595638</td>\n",
       "      <td>1281661</td>\n",
       "      <td>1104490</td>\n",
       "      <td>1011395</td>\n",
       "      <td>11</td>\n",
       "      <td>219</td>\n",
       "      <td>13</td>\n",
       "      <td>18</td>\n",
       "      <td>Bad</td>\n",
       "    </tr>\n",
       "    <tr>\n",
       "      <th>3</th>\n",
       "      <td>Stratton</td>\n",
       "      <td>UK</td>\n",
       "      <td>2055</td>\n",
       "      <td>Antonia</td>\n",
       "      <td>7</td>\n",
       "      <td>17092</td>\n",
       "      <td>117</td>\n",
       "      <td>No</td>\n",
       "      <td>14</td>\n",
       "      <td>High Street</td>\n",
       "      <td>1179395</td>\n",
       "      <td>1022959</td>\n",
       "      <td>1009496</td>\n",
       "      <td>1002169</td>\n",
       "      <td>5</td>\n",
       "      <td>261</td>\n",
       "      <td>15</td>\n",
       "      <td>12</td>\n",
       "      <td>Bad</td>\n",
       "    </tr>\n",
       "    <tr>\n",
       "      <th>4</th>\n",
       "      <td>Shepperton</td>\n",
       "      <td>UK</td>\n",
       "      <td>2141</td>\n",
       "      <td>Gabriel</td>\n",
       "      <td>7</td>\n",
       "      <td>11307</td>\n",
       "      <td>103</td>\n",
       "      <td>No</td>\n",
       "      <td>18</td>\n",
       "      <td>Retail Park</td>\n",
       "      <td>1398558</td>\n",
       "      <td>1085170</td>\n",
       "      <td>1003137</td>\n",
       "      <td>1002513</td>\n",
       "      <td>7</td>\n",
       "      <td>200</td>\n",
       "      <td>19</td>\n",
       "      <td>13</td>\n",
       "      <td>Bad</td>\n",
       "    </tr>\n",
       "  </tbody>\n",
       "</table>\n",
       "</div>"
      ],
      "text/plain": [
       "                            Town Country  Store ID Manager name  Staff  \\\n",
       "0   Swinton (Greater Manchester)      UK      1437        Roger      9   \n",
       "1                       Stamford      UK      1544         Ella      8   \n",
       "2                        Skipton      UK      2039    Valentina     -2   \n",
       "3                       Stratton      UK      2055      Antonia      7   \n",
       "4                     Shepperton      UK      2141      Gabriel      7   \n",
       "\n",
       "   Floor Space  Window Car park  Demographic score         Location  \\\n",
       "0        18526     121      Yes                 10      Retail Park   \n",
       "1        18569     121      Yes                 11  Shopping Centre   \n",
       "2        12288     105       No                 12      Retail Park   \n",
       "3        17092     117       No                 14      High Street   \n",
       "4        11307     103       No                 18      Retail Park   \n",
       "\n",
       "   40min population  30 min population  20 min population  10 min population  \\\n",
       "0           1288374            1138224            1006986            1002340   \n",
       "1           1086225            1015321            1012182            1008436   \n",
       "2           1595638            1281661            1104490            1011395   \n",
       "3           1179395            1022959            1009496            1002169   \n",
       "4           1398558            1085170            1003137            1002513   \n",
       "\n",
       "   Store age  Clearance space  Competition number  Competition score  \\\n",
       "0          3              238                  16                 16   \n",
       "1          4              384                  15                 19   \n",
       "2         11              219                  13                 18   \n",
       "3          5              261                  15                 12   \n",
       "4          7              200                  19                 13   \n",
       "\n",
       "  Performance  \n",
       "0        Good  \n",
       "1        Good  \n",
       "2         Bad  \n",
       "3         Bad  \n",
       "4         Bad  "
      ]
     },
     "execution_count": 164,
     "metadata": {},
     "output_type": "execute_result"
    }
   ],
   "source": [
    "# Import libraries\n",
    "import pandas as pd\n",
    "import numpy as np\n",
    "\n",
    "# Read data file\n",
    "df=pd.read_csv(\"storedata.csv\")\n",
    "df.head()"
   ]
  },
  {
   "cell_type": "code",
   "execution_count": 165,
   "metadata": {},
   "outputs": [
    {
     "name": "stdout",
     "output_type": "stream",
     "text": [
      "The shape of the data is: (136, 19)\n"
     ]
    },
    {
     "data": {
      "text/html": [
       "<div>\n",
       "<style scoped>\n",
       "    .dataframe tbody tr th:only-of-type {\n",
       "        vertical-align: middle;\n",
       "    }\n",
       "\n",
       "    .dataframe tbody tr th {\n",
       "        vertical-align: top;\n",
       "    }\n",
       "\n",
       "    .dataframe thead th {\n",
       "        text-align: right;\n",
       "    }\n",
       "</style>\n",
       "<table border=\"1\" class=\"dataframe\">\n",
       "  <thead>\n",
       "    <tr style=\"text-align: right;\">\n",
       "      <th></th>\n",
       "      <th>Town</th>\n",
       "      <th>Country</th>\n",
       "      <th>Store ID</th>\n",
       "      <th>Manager name</th>\n",
       "      <th>Staff</th>\n",
       "      <th>Floor Space</th>\n",
       "      <th>Window</th>\n",
       "      <th>Car park</th>\n",
       "      <th>Demographic score</th>\n",
       "      <th>Location</th>\n",
       "      <th>40min population</th>\n",
       "      <th>30 min population</th>\n",
       "      <th>20 min population</th>\n",
       "      <th>10 min population</th>\n",
       "      <th>Store age</th>\n",
       "      <th>Clearance space</th>\n",
       "      <th>Competition number</th>\n",
       "      <th>Competition score</th>\n",
       "      <th>Performance</th>\n",
       "    </tr>\n",
       "  </thead>\n",
       "  <tbody>\n",
       "    <tr>\n",
       "      <th>count</th>\n",
       "      <td>136</td>\n",
       "      <td>136</td>\n",
       "      <td>136.000000</td>\n",
       "      <td>136</td>\n",
       "      <td>136.000000</td>\n",
       "      <td>136.000000</td>\n",
       "      <td>136.000000</td>\n",
       "      <td>136</td>\n",
       "      <td>136.000000</td>\n",
       "      <td>136</td>\n",
       "      <td>1.360000e+02</td>\n",
       "      <td>1.360000e+02</td>\n",
       "      <td>1.360000e+02</td>\n",
       "      <td>1.360000e+02</td>\n",
       "      <td>136.000000</td>\n",
       "      <td>136.000000</td>\n",
       "      <td>136.000000</td>\n",
       "      <td>136.000000</td>\n",
       "      <td>136</td>\n",
       "    </tr>\n",
       "    <tr>\n",
       "      <th>unique</th>\n",
       "      <td>136</td>\n",
       "      <td>2</td>\n",
       "      <td>NaN</td>\n",
       "      <td>118</td>\n",
       "      <td>NaN</td>\n",
       "      <td>NaN</td>\n",
       "      <td>NaN</td>\n",
       "      <td>4</td>\n",
       "      <td>NaN</td>\n",
       "      <td>4</td>\n",
       "      <td>NaN</td>\n",
       "      <td>NaN</td>\n",
       "      <td>NaN</td>\n",
       "      <td>NaN</td>\n",
       "      <td>NaN</td>\n",
       "      <td>NaN</td>\n",
       "      <td>NaN</td>\n",
       "      <td>NaN</td>\n",
       "      <td>2</td>\n",
       "    </tr>\n",
       "    <tr>\n",
       "      <th>top</th>\n",
       "      <td>Seaford</td>\n",
       "      <td>UK</td>\n",
       "      <td>NaN</td>\n",
       "      <td>Hannah</td>\n",
       "      <td>NaN</td>\n",
       "      <td>NaN</td>\n",
       "      <td>NaN</td>\n",
       "      <td>Yes</td>\n",
       "      <td>NaN</td>\n",
       "      <td>Shopping Centre</td>\n",
       "      <td>NaN</td>\n",
       "      <td>NaN</td>\n",
       "      <td>NaN</td>\n",
       "      <td>NaN</td>\n",
       "      <td>NaN</td>\n",
       "      <td>NaN</td>\n",
       "      <td>NaN</td>\n",
       "      <td>NaN</td>\n",
       "      <td>Good</td>\n",
       "    </tr>\n",
       "    <tr>\n",
       "      <th>freq</th>\n",
       "      <td>1</td>\n",
       "      <td>134</td>\n",
       "      <td>NaN</td>\n",
       "      <td>3</td>\n",
       "      <td>NaN</td>\n",
       "      <td>NaN</td>\n",
       "      <td>NaN</td>\n",
       "      <td>94</td>\n",
       "      <td>NaN</td>\n",
       "      <td>52</td>\n",
       "      <td>NaN</td>\n",
       "      <td>NaN</td>\n",
       "      <td>NaN</td>\n",
       "      <td>NaN</td>\n",
       "      <td>NaN</td>\n",
       "      <td>NaN</td>\n",
       "      <td>NaN</td>\n",
       "      <td>NaN</td>\n",
       "      <td>69</td>\n",
       "    </tr>\n",
       "    <tr>\n",
       "      <th>mean</th>\n",
       "      <td>NaN</td>\n",
       "      <td>NaN</td>\n",
       "      <td>52172.580882</td>\n",
       "      <td>NaN</td>\n",
       "      <td>13.352941</td>\n",
       "      <td>15024.095588</td>\n",
       "      <td>112.044118</td>\n",
       "      <td>NaN</td>\n",
       "      <td>14.463235</td>\n",
       "      <td>NaN</td>\n",
       "      <td>1.487374e+06</td>\n",
       "      <td>1.249870e+06</td>\n",
       "      <td>1.134533e+06</td>\n",
       "      <td>1.066118e+06</td>\n",
       "      <td>6.529412</td>\n",
       "      <td>262.426471</td>\n",
       "      <td>14.463235</td>\n",
       "      <td>14.808824</td>\n",
       "      <td>NaN</td>\n",
       "    </tr>\n",
       "    <tr>\n",
       "      <th>std</th>\n",
       "      <td>NaN</td>\n",
       "      <td>NaN</td>\n",
       "      <td>28725.990237</td>\n",
       "      <td>NaN</td>\n",
       "      <td>56.592439</td>\n",
       "      <td>2761.801921</td>\n",
       "      <td>6.884085</td>\n",
       "      <td>NaN</td>\n",
       "      <td>2.874944</td>\n",
       "      <td>NaN</td>\n",
       "      <td>2.804989e+05</td>\n",
       "      <td>2.160875e+05</td>\n",
       "      <td>1.490280e+05</td>\n",
       "      <td>8.884585e+04</td>\n",
       "      <td>2.815147</td>\n",
       "      <td>51.724288</td>\n",
       "      <td>2.895483</td>\n",
       "      <td>2.955258</td>\n",
       "      <td>NaN</td>\n",
       "    </tr>\n",
       "    <tr>\n",
       "      <th>min</th>\n",
       "      <td>NaN</td>\n",
       "      <td>NaN</td>\n",
       "      <td>1437.000000</td>\n",
       "      <td>NaN</td>\n",
       "      <td>-2.000000</td>\n",
       "      <td>10072.000000</td>\n",
       "      <td>100.000000</td>\n",
       "      <td>NaN</td>\n",
       "      <td>10.000000</td>\n",
       "      <td>NaN</td>\n",
       "      <td>1.030405e+06</td>\n",
       "      <td>1.000653e+06</td>\n",
       "      <td>1.000214e+06</td>\n",
       "      <td>1.000002e+06</td>\n",
       "      <td>2.000000</td>\n",
       "      <td>200.000000</td>\n",
       "      <td>10.000000</td>\n",
       "      <td>10.000000</td>\n",
       "      <td>NaN</td>\n",
       "    </tr>\n",
       "    <tr>\n",
       "      <th>25%</th>\n",
       "      <td>NaN</td>\n",
       "      <td>NaN</td>\n",
       "      <td>24707.250000</td>\n",
       "      <td>NaN</td>\n",
       "      <td>6.000000</td>\n",
       "      <td>12793.000000</td>\n",
       "      <td>106.750000</td>\n",
       "      <td>NaN</td>\n",
       "      <td>12.000000</td>\n",
       "      <td>NaN</td>\n",
       "      <td>1.254949e+06</td>\n",
       "      <td>1.057284e+06</td>\n",
       "      <td>1.012573e+06</td>\n",
       "      <td>1.005593e+06</td>\n",
       "      <td>4.000000</td>\n",
       "      <td>220.750000</td>\n",
       "      <td>12.000000</td>\n",
       "      <td>13.000000</td>\n",
       "      <td>NaN</td>\n",
       "    </tr>\n",
       "    <tr>\n",
       "      <th>50%</th>\n",
       "      <td>NaN</td>\n",
       "      <td>NaN</td>\n",
       "      <td>56011.500000</td>\n",
       "      <td>NaN</td>\n",
       "      <td>7.000000</td>\n",
       "      <td>14596.500000</td>\n",
       "      <td>111.000000</td>\n",
       "      <td>NaN</td>\n",
       "      <td>14.500000</td>\n",
       "      <td>NaN</td>\n",
       "      <td>1.516338e+06</td>\n",
       "      <td>1.214459e+06</td>\n",
       "      <td>1.077542e+06</td>\n",
       "      <td>1.033228e+06</td>\n",
       "      <td>6.000000</td>\n",
       "      <td>249.000000</td>\n",
       "      <td>15.000000</td>\n",
       "      <td>15.000000</td>\n",
       "      <td>NaN</td>\n",
       "    </tr>\n",
       "    <tr>\n",
       "      <th>75%</th>\n",
       "      <td>NaN</td>\n",
       "      <td>NaN</td>\n",
       "      <td>76870.500000</td>\n",
       "      <td>NaN</td>\n",
       "      <td>8.000000</td>\n",
       "      <td>17543.750000</td>\n",
       "      <td>118.000000</td>\n",
       "      <td>NaN</td>\n",
       "      <td>17.000000</td>\n",
       "      <td>NaN</td>\n",
       "      <td>1.696352e+06</td>\n",
       "      <td>1.396967e+06</td>\n",
       "      <td>1.203077e+06</td>\n",
       "      <td>1.090349e+06</td>\n",
       "      <td>9.000000</td>\n",
       "      <td>292.250000</td>\n",
       "      <td>17.000000</td>\n",
       "      <td>18.000000</td>\n",
       "      <td>NaN</td>\n",
       "    </tr>\n",
       "    <tr>\n",
       "      <th>max</th>\n",
       "      <td>NaN</td>\n",
       "      <td>NaN</td>\n",
       "      <td>99854.000000</td>\n",
       "      <td>NaN</td>\n",
       "      <td>600.000000</td>\n",
       "      <td>19869.000000</td>\n",
       "      <td>124.000000</td>\n",
       "      <td>NaN</td>\n",
       "      <td>19.000000</td>\n",
       "      <td>NaN</td>\n",
       "      <td>1.997044e+06</td>\n",
       "      <td>1.929089e+06</td>\n",
       "      <td>1.723395e+06</td>\n",
       "      <td>1.426533e+06</td>\n",
       "      <td>11.000000</td>\n",
       "      <td>408.000000</td>\n",
       "      <td>19.000000</td>\n",
       "      <td>19.000000</td>\n",
       "      <td>NaN</td>\n",
       "    </tr>\n",
       "  </tbody>\n",
       "</table>\n",
       "</div>"
      ],
      "text/plain": [
       "            Town Country      Store ID Manager name       Staff   Floor Space  \\\n",
       "count        136     136    136.000000          136  136.000000    136.000000   \n",
       "unique       136       2           NaN          118         NaN           NaN   \n",
       "top      Seaford      UK           NaN       Hannah         NaN           NaN   \n",
       "freq           1     134           NaN            3         NaN           NaN   \n",
       "mean         NaN     NaN  52172.580882          NaN   13.352941  15024.095588   \n",
       "std          NaN     NaN  28725.990237          NaN   56.592439   2761.801921   \n",
       "min          NaN     NaN   1437.000000          NaN   -2.000000  10072.000000   \n",
       "25%          NaN     NaN  24707.250000          NaN    6.000000  12793.000000   \n",
       "50%          NaN     NaN  56011.500000          NaN    7.000000  14596.500000   \n",
       "75%          NaN     NaN  76870.500000          NaN    8.000000  17543.750000   \n",
       "max          NaN     NaN  99854.000000          NaN  600.000000  19869.000000   \n",
       "\n",
       "            Window Car park  Demographic score         Location  \\\n",
       "count   136.000000      136         136.000000              136   \n",
       "unique         NaN        4                NaN                4   \n",
       "top            NaN      Yes                NaN  Shopping Centre   \n",
       "freq           NaN       94                NaN               52   \n",
       "mean    112.044118      NaN          14.463235              NaN   \n",
       "std       6.884085      NaN           2.874944              NaN   \n",
       "min     100.000000      NaN          10.000000              NaN   \n",
       "25%     106.750000      NaN          12.000000              NaN   \n",
       "50%     111.000000      NaN          14.500000              NaN   \n",
       "75%     118.000000      NaN          17.000000              NaN   \n",
       "max     124.000000      NaN          19.000000              NaN   \n",
       "\n",
       "        40min population  30 min population  20 min population  \\\n",
       "count       1.360000e+02       1.360000e+02       1.360000e+02   \n",
       "unique               NaN                NaN                NaN   \n",
       "top                  NaN                NaN                NaN   \n",
       "freq                 NaN                NaN                NaN   \n",
       "mean        1.487374e+06       1.249870e+06       1.134533e+06   \n",
       "std         2.804989e+05       2.160875e+05       1.490280e+05   \n",
       "min         1.030405e+06       1.000653e+06       1.000214e+06   \n",
       "25%         1.254949e+06       1.057284e+06       1.012573e+06   \n",
       "50%         1.516338e+06       1.214459e+06       1.077542e+06   \n",
       "75%         1.696352e+06       1.396967e+06       1.203077e+06   \n",
       "max         1.997044e+06       1.929089e+06       1.723395e+06   \n",
       "\n",
       "        10 min population   Store age  Clearance space  Competition number  \\\n",
       "count        1.360000e+02  136.000000       136.000000          136.000000   \n",
       "unique                NaN         NaN              NaN                 NaN   \n",
       "top                   NaN         NaN              NaN                 NaN   \n",
       "freq                  NaN         NaN              NaN                 NaN   \n",
       "mean         1.066118e+06    6.529412       262.426471           14.463235   \n",
       "std          8.884585e+04    2.815147        51.724288            2.895483   \n",
       "min          1.000002e+06    2.000000       200.000000           10.000000   \n",
       "25%          1.005593e+06    4.000000       220.750000           12.000000   \n",
       "50%          1.033228e+06    6.000000       249.000000           15.000000   \n",
       "75%          1.090349e+06    9.000000       292.250000           17.000000   \n",
       "max          1.426533e+06   11.000000       408.000000           19.000000   \n",
       "\n",
       "        Competition score Performance  \n",
       "count          136.000000         136  \n",
       "unique                NaN           2  \n",
       "top                   NaN        Good  \n",
       "freq                  NaN          69  \n",
       "mean            14.808824         NaN  \n",
       "std              2.955258         NaN  \n",
       "min             10.000000         NaN  \n",
       "25%             13.000000         NaN  \n",
       "50%             15.000000         NaN  \n",
       "75%             18.000000         NaN  \n",
       "max             19.000000         NaN  "
      ]
     },
     "execution_count": 165,
     "metadata": {},
     "output_type": "execute_result"
    }
   ],
   "source": [
    "# Take a look at the data\n",
    "print(\"The shape of the data is:\", df.shape)\n",
    "df.describe(include=\"all\")"
   ]
  },
  {
   "cell_type": "code",
   "execution_count": 166,
   "metadata": {},
   "outputs": [
    {
     "name": "stdout",
     "output_type": "stream",
     "text": [
      "Unique values in Country variable:  ['UK' 'France']\n",
      "Unique values in Staff variable:  [  9   8  -2   7   5   6 300 600]\n",
      "Unique values in Demographic score variable:  [10 11 12 14 18 19 17 15 13 16]\n",
      "Unique values in Location variable:  ['Retail Park' 'Shopping Centre' 'High Street' 'Village']\n",
      "Unique values in Store age variable:  [ 3  4 11  5  7  2  9  6 10  8]\n",
      "Unique values in Competition number variable:  [16 15 13 19 17 11 12 10 18 14]\n",
      "Unique values in Competition score variable:  [16 19 18 12 13 11 14 10 17 15]\n",
      "Unique values in Performance variable:  ['Good' 'Bad']\n"
     ]
    }
   ],
   "source": [
    "# Analyse unique values\n",
    "print(\"Unique values in Country variable: \", df['Country'].unique())\n",
    "print(\"Unique values in Staff variable: \", df['Staff'].unique())\n",
    "print(\"Unique values in Demographic score variable: \", df['Demographic score'].unique())\n",
    "print(\"Unique values in Location variable: \", df['Location'].unique())\n",
    "print(\"Unique values in Store age variable: \", df['Store age'].unique())\n",
    "print(\"Unique values in Competition number variable: \", df['Competition number'].unique())\n",
    "print(\"Unique values in Competition score variable: \", df['Competition score'].unique())\n",
    "print(\"Unique values in Performance variable: \", df['Performance'].unique())\n"
   ]
  },
  {
   "cell_type": "code",
   "execution_count": 167,
   "metadata": {},
   "outputs": [
    {
     "data": {
      "text/plain": [
       "Town                  object\n",
       "Country               object\n",
       "Store ID               int64\n",
       "Manager name          object\n",
       "Staff                  int64\n",
       "Floor Space            int64\n",
       "Window                 int64\n",
       "Car park              object\n",
       "Demographic score      int64\n",
       "Location              object\n",
       "40min population       int64\n",
       "30 min population      int64\n",
       "20 min population      int64\n",
       "10 min population      int64\n",
       "Store age              int64\n",
       "Clearance space        int64\n",
       "Competition number     int64\n",
       "Competition score      int64\n",
       "Performance           object\n",
       "dtype: object"
      ]
     },
     "execution_count": 167,
     "metadata": {},
     "output_type": "execute_result"
    }
   ],
   "source": [
    "# Look at the data types\n",
    "df.dtypes"
   ]
  },
  {
   "cell_type": "code",
   "execution_count": 168,
   "metadata": {},
   "outputs": [],
   "source": [
    "import math\n",
    "\n",
    "# Display population distributions\n",
    "df_pops = df[['40min population', '30 min population', '20 min population', '10 min population']]"
   ]
  },
  {
   "cell_type": "code",
   "execution_count": 169,
   "metadata": {},
   "outputs": [
    {
     "data": {
      "text/plain": [
       "array([[<matplotlib.axes._subplots.AxesSubplot object at 0x00000206FBCECCA0>,\n",
       "        <matplotlib.axes._subplots.AxesSubplot object at 0x00000206FBCE8520>],\n",
       "       [<matplotlib.axes._subplots.AxesSubplot object at 0x00000206FBF89D60>,\n",
       "        <matplotlib.axes._subplots.AxesSubplot object at 0x00000206FBFBC1F0>]],\n",
       "      dtype=object)"
      ]
     },
     "execution_count": 169,
     "metadata": {},
     "output_type": "execute_result"
    },
    {
     "data": {
      "image/png": "[encoded data removed]",
      "text/plain": [
       "<Figure size 576x864 with 4 Axes>"
      ]
     },
     "metadata": {
      "needs_background": "light"
     },
     "output_type": "display_data"
    }
   ],
   "source": [
    "# View the distributions of the numerical data\n",
    "df_pops.hist(figsize = (8, 12))\n"
   ]
  },
  {
   "cell_type": "code",
   "execution_count": 170,
   "metadata": {},
   "outputs": [
    {
     "name": "stdout",
     "output_type": "stream",
     "text": [
      "Town\n"
     ]
    },
    {
     "data": {
      "image/png": "[encoded data removed]",
      "text/plain": [
       "<Figure size 432x288 with 1 Axes>"
      ]
     },
     "metadata": {
      "needs_background": "light"
     },
     "output_type": "display_data"
    },
    {
     "name": "stdout",
     "output_type": "stream",
     "text": [
      "Country\n"
     ]
    },
    {
     "data": {
      "image/png": "[encoded data removed]",
      "text/plain": [
       "<Figure size 432x288 with 1 Axes>"
      ]
     },
     "metadata": {
      "needs_background": "light"
     },
     "output_type": "display_data"
    },
    {
     "name": "stdout",
     "output_type": "stream",
     "text": [
      "Manager name\n"
     ]
    },
    {
     "data": {
      "image/png": "[encoded data removed]",
      "text/plain": [
       "<Figure size 432x288 with 1 Axes>"
      ]
     },
     "metadata": {
      "needs_background": "light"
     },
     "output_type": "display_data"
    },
    {
     "name": "stdout",
     "output_type": "stream",
     "text": [
      "Car park\n"
     ]
    },
    {
     "data": {
      "image/png": "[encoded data removed]",
      "text/plain": [
       "<Figure size 432x288 with 1 Axes>"
      ]
     },
     "metadata": {
      "needs_background": "light"
     },
     "output_type": "display_data"
    },
    {
     "name": "stdout",
     "output_type": "stream",
     "text": [
      "Location\n"
     ]
    },
    {
     "data": {
      "image/png": "[encoded data removed]",
      "text/plain": [
       "<Figure size 432x288 with 1 Axes>"
      ]
     },
     "metadata": {
      "needs_background": "light"
     },
     "output_type": "display_data"
    },
    {
     "name": "stdout",
     "output_type": "stream",
     "text": [
      "Performance\n"
     ]
    },
    {
     "data": {
      "image/png": "[encoded data removed]",
      "text/plain": [
       "<Figure size 432x288 with 1 Axes>"
      ]
     },
     "metadata": {
      "needs_background": "light"
     },
     "output_type": "display_data"
    }
   ],
   "source": [
    "# List the non-numeric columns...\n",
    "df.select_dtypes(include=object)\n",
    "\n",
    "# Loop and count each unique value, and plot...\n",
    "import matplotlib.pyplot as plt\n",
    "for col in df.select_dtypes(include=object).columns: \n",
    "    print(col)\n",
    "    df[col].value_counts().plot(kind='bar')\n",
    "    plt.title('Car Parking Available?')\n",
    "    plt.show()"
   ]
  },
  {
   "cell_type": "markdown",
   "metadata": {},
   "source": [
    "## Data Preparation"
   ]
  },
  {
   "cell_type": "code",
   "execution_count": 171,
   "metadata": {},
   "outputs": [],
   "source": [
    "# Define random seed\n",
    "seed = 42"
   ]
  },
  {
   "cell_type": "code",
   "execution_count": 172,
   "metadata": {},
   "outputs": [
    {
     "name": "stdout",
     "output_type": "stream",
     "text": [
      "Performance\n",
      "Bad     67\n",
      "Good    69\n",
      "Name: Performance, dtype: int64\n",
      "Performance\n",
      "Bad     53\n",
      "Good    55\n",
      "Name: Performance, dtype: int64\n",
      "Performance\n",
      "Bad     14\n",
      "Good    14\n",
      "Name: Performance, dtype: int64\n"
     ]
    }
   ],
   "source": [
    "# Split the data into 80% training and 20% testing. Setting the random_state will ensure replicability.\n",
    "from sklearn.model_selection import StratifiedShuffleSplit\n",
    "split = StratifiedShuffleSplit(n_splits=1, test_size=0.2, random_state=seed)\n",
    "for train_index, test_index in split.split(df, df['Performance']):\n",
    "    train_set = df.loc[train_index]\n",
    "    test_set = df.loc[test_index]\n",
    "\n",
    "# Reset indexes in train and test set\n",
    "train_set.reset_index(drop=True)\n",
    "test_set.reset_index(drop=True)\n",
    "\n",
    "# Check split\n",
    "print(df.groupby('Performance')['Performance'].count())\n",
    "print(train_set.groupby('Performance')['Performance'].count())\n",
    "print(test_set.groupby('Performance')['Performance'].count())"
   ]
  },
  {
   "cell_type": "code",
   "execution_count": 181,
   "metadata": {},
   "outputs": [],
   "source": [
    "# Remove previously identified staff number errors\n",
    "badStaff = [-2, 300, 600]\n",
    "train_set = train_set[~train_set.Staff.isin(badStaff)]\n",
    "\n",
    "# Map Car park values to 0 and 1\n",
    "train_set['Car park'] = train_set['Car park'].replace({'No':0, 'N':0, 'Yes':1, 'Y':1})\n",
    "# Map Performance values to 0 and 1\n",
    "train_set['Performance'] = train_set['Performance'].replace({'Bad':0, 'Good':1})\n",
    "\n",
    "# One-hot encode Location - Correlation anaylsis shows Location_Retail park is the least correlated\n",
    "train_set = pd.get_dummies(train_set, prefix_sep='_', columns=['Location'], drop_first=False)\n",
    "\n",
    "# Re-sequence index\n",
    "train_set = train_set.reset_index(drop=True)\n",
    "\n",
    "# define the list of features to keep (excluding Location_Retail park)\n",
    "selected_features = ['Staff', 'Floor Space', 'Window', 'Car park', 'Demographic score', 'Location_High Street', 'Location_Shopping Centre', 'Location_Village', '40min population',\n",
    "                        '30 min population', '20 min population', '10 min population', 'Store age', 'Clearance space', 'Competition number', 'Competition score', 'Performance']\n",
    "\n",
    "# update the data frame\n",
    "train_set = train_set[selected_features]"
   ]
  },
  {
   "cell_type": "code",
   "execution_count": 11,
   "metadata": {},
   "outputs": [
    {
     "data": {
      "image/png": "[encoded data removed]",
      "text/plain": [
       "<Figure size 432x288 with 1 Axes>"
      ]
     },
     "metadata": {
      "needs_background": "light"
     },
     "output_type": "display_data"
    }
   ],
   "source": [
    "# Get car park graph for document\n",
    "# List the non-numeric columns...\n",
    "df.select_dtypes(include=object)\n",
    "\n",
    "# Loop and count each unique value, and plot...\n",
    "import matplotlib.pyplot as plt\n",
    "train_set['Car park'].value_counts().plot(kind='bar')\n",
    "plt.title('Car Parking Available?')\n",
    "plt.show()"
   ]
  },
  {
   "cell_type": "code",
   "execution_count": 12,
   "metadata": {},
   "outputs": [
    {
     "name": "stdout",
     "output_type": "stream",
     "text": [
      "Performance                 1.000000\n",
      "Staff                       0.437251\n",
      "Competition score           0.304780\n",
      "Location_Shopping Centre    0.293374\n",
      "Window                      0.256824\n",
      "Floor Space                 0.248471\n",
      "Clearance space             0.231688\n",
      "Competition number          0.222617\n",
      "Car park                    0.119313\n",
      "Location_Village            0.095766\n",
      "10 min population           0.056754\n",
      "20 min population           0.032664\n",
      "30 min population          -0.034539\n",
      "40min population           -0.064165\n",
      "Store age                  -0.086755\n",
      "Demographic score          -0.113099\n",
      "Location_High Street       -0.335875\n",
      "Name: Performance, dtype: float64\n"
     ]
    }
   ],
   "source": [
    "# Check correlations\n",
    "corr = train_set.corr()\n",
    "corr = corr['Performance'].sort_values(ascending=False)\n",
    "\n",
    "print(corr)"
   ]
  },
  {
   "cell_type": "code",
   "execution_count": 13,
   "metadata": {},
   "outputs": [],
   "source": [
    "# Define target and split data for modelling\n",
    "targetName = 'Performance'\n",
    "featureNames = train_set.columns[train_set.columns != targetName]\n",
    "train_X = train_set[featureNames].values\n",
    "train_y = train_set[targetName].values"
   ]
  },
  {
   "cell_type": "code",
   "execution_count": 14,
   "metadata": {},
   "outputs": [
    {
     "data": {
      "text/plain": [
       "Performance                 1.000000\n",
       "Staff                       0.437251\n",
       "Competition score           0.304780\n",
       "Location_Shopping Centre    0.293374\n",
       "Window                      0.256824\n",
       "Floor Space                 0.248471\n",
       "Clearance space             0.231688\n",
       "Competition number          0.222617\n",
       "Car park                    0.119313\n",
       "Location_Village            0.095766\n",
       "10 min population           0.056754\n",
       "20 min population           0.032664\n",
       "30 min population          -0.034539\n",
       "40min population           -0.064165\n",
       "Store age                  -0.086755\n",
       "Demographic score          -0.113099\n",
       "Location_High Street       -0.335875\n",
       "Name: Performance, dtype: float64"
      ]
     },
     "execution_count": 14,
     "metadata": {},
     "output_type": "execute_result"
    }
   ],
   "source": [
    "# Check for correlations against performance\n",
    "corr = train_set.corr()\n",
    "corr['Performance'].sort_values(ascending=False)"
   ]
  },
  {
   "cell_type": "code",
   "execution_count": 15,
   "metadata": {},
   "outputs": [
    {
     "name": "stdout",
     "output_type": "stream",
     "text": [
      "(array([], dtype=int64),)\n",
      "(array([], dtype=int64),)\n",
      "(array([], dtype=int64),)\n",
      "(array([], dtype=int64),)\n",
      "(array([], dtype=int64),)\n",
      "(array([], dtype=int64),)\n",
      "(array([], dtype=int64),)\n",
      "(array([], dtype=int64),)\n",
      "(array([], dtype=int64),)\n",
      "(array([], dtype=int64),)\n",
      "(array([57, 90], dtype=int64),)\n",
      "(array([ 7, 15, 26, 27, 42, 65, 85, 90], dtype=int64),)\n"
     ]
    }
   ],
   "source": [
    "# Check for outliers\n",
    "def indices_outliers(x, val):\n",
    "    q1, q3 = np.percentile(x, [25,75])\n",
    "    iqr = q3-q1\n",
    "    lb = q1 - (iqr*val)\n",
    "    ub = q3 + (iqr*val)\n",
    "    return np.where((x>ub) | (x<lb))\n",
    "\n",
    "val = 1.5\n",
    "#train_set.columns\n",
    "print(indices_outliers(train_set['Staff'], val))\n",
    "print(indices_outliers(train_set['Competition score'], val))\n",
    "print(indices_outliers(train_set['Window'], val))\n",
    "print(indices_outliers(train_set['Floor Space'], val))\n",
    "print(indices_outliers(train_set['Clearance space'], val))\n",
    "print(indices_outliers(train_set['Competition number'], val))\n",
    "print(indices_outliers(train_set['Store age'], val))\n",
    "print(indices_outliers(train_set['Demographic score'], val))\n",
    "print(indices_outliers(train_set['40min population'], val))\n",
    "print(indices_outliers(train_set['30 min population'], val))\n",
    "print(indices_outliers(train_set['20 min population'], val))\n",
    "print(indices_outliers(train_set['10 min population'], val))\n",
    "\n",
    "# Both possess mild outliers\n",
    "# 10 min population possesses extreme outliers\n"
   ]
  },
  {
   "cell_type": "code",
   "execution_count": 16,
   "metadata": {},
   "outputs": [],
   "source": [
    "# Scale the data\n",
    "#from sklearn.preprocessing import MinMaxScaler\n",
    "\n",
    "#mm_scaler = MinMaxScaler()\n",
    "#train_X = mm_scaler.fit_transform(train_X)\n"
   ]
  },
  {
   "cell_type": "markdown",
   "metadata": {},
   "source": [
    "## Model Creation"
   ]
  },
  {
   "cell_type": "markdown",
   "metadata": {},
   "source": [
    "You must use three different techniques and build models with each:\n",
    "one tree-based model, one based on logistic regression, and one based on neural networks.\n",
    "Try to make each model perform as well as it can:\n",
    "if you varied the parameters of a model\n",
    "Describe how you split the data for training, validation and testing\n",
    "show how you verified its robustness.\n",
    "8 each for trying three techniques and reporting the results for each\n",
    "4 marks for clear description of validation method (training,test and validation data or CV)\n",
    "8 for a systematic exploration of hyperparameters; \n",
    "4 marks for picking a final solution, training on all the data and reporting the results\n"
   ]
  },
  {
   "cell_type": "markdown",
   "metadata": {},
   "source": [
    "### Decision Tree Model\n",
    "Check for the need to scale on this one"
   ]
  },
  {
   "cell_type": "code",
   "execution_count": 16,
   "metadata": {},
   "outputs": [],
   "source": [
    "# Duplicate training data \n",
    "rf1_X, rf1_y = train_X, train_y\n",
    "rf2_X, rf2_y = train_X, train_y\n",
    "rf3_X, rf3_y = train_X, train_y"
   ]
  },
  {
   "cell_type": "code",
   "execution_count": 17,
   "metadata": {},
   "outputs": [],
   "source": [
    "# Leave 1, Scale 2, Standardise 3\n",
    "from sklearn.preprocessing import MinMaxScaler, StandardScaler\n",
    "mm_scaler = MinMaxScaler()\n",
    "stan_scaler = StandardScaler()\n",
    "rf2_X = mm_scaler.fit_transform(rf2_X)\n",
    "rf3_X = stan_scaler.fit_transform(rf3_X)"
   ]
  },
  {
   "cell_type": "code",
   "execution_count": 18,
   "metadata": {},
   "outputs": [
    {
     "name": "stdout",
     "output_type": "stream",
     "text": [
      "Accuracy: 0.648 (0.088)\n",
      "Accuracy: 0.657 (0.109)\n",
      "Accuracy: 0.651 (0.091)\n"
     ]
    }
   ],
   "source": [
    "# Create RandomForest baseline\n",
    "from numpy import mean\n",
    "from numpy import std\n",
    "from sklearn.datasets import make_classification\n",
    "from sklearn.model_selection import cross_val_score\n",
    "from sklearn.model_selection import RepeatedStratifiedKFold\n",
    "from sklearn.ensemble import RandomForestClassifier\n",
    "\n",
    "# define the model\n",
    "model = RandomForestClassifier()\n",
    "# evaluate the model\n",
    "cv = RepeatedStratifiedKFold(n_splits=5, n_repeats=3, random_state=seed)\n",
    "n_scores1 = cross_val_score(model, rf1_X, rf1_y, scoring='accuracy', cv=cv, n_jobs=-1, error_score='raise')\n",
    "n_scores2 = cross_val_score(model, rf2_X, rf2_y, scoring='accuracy', cv=cv, n_jobs=-1, error_score='raise')\n",
    "n_scores3 = cross_val_score(model, rf3_X, rf3_y, scoring='accuracy', cv=cv, n_jobs=-1, error_score='raise')\n",
    "# report performance\n",
    "print('Accuracy: %.3f (%.3f)' % (mean(n_scores1), std(n_scores3)))\n",
    "print('Accuracy: %.3f (%.3f)' % (mean(n_scores2), std(n_scores2)))\n",
    "print('Accuracy: %.3f (%.3f)' % (mean(n_scores3), std(n_scores1)))"
   ]
  },
  {
   "cell_type": "code",
   "execution_count": 19,
   "metadata": {},
   "outputs": [
    {
     "name": "stdout",
     "output_type": "stream",
     "text": [
      "F1: 0.652 (0.128)\n",
      "F1: 0.660 (0.081)\n",
      "F1: 0.667 (0.110)\n"
     ]
    }
   ],
   "source": [
    "n_scores1 = cross_val_score(model, rf1_X, rf1_y, scoring='f1', cv=cv, n_jobs=-1, error_score='raise')\n",
    "n_scores2 = cross_val_score(model, rf2_X, rf2_y, scoring='f1', cv=cv, n_jobs=-1, error_score='raise')\n",
    "n_scores3 = cross_val_score(model, rf3_X, rf3_y, scoring='f1', cv=cv, n_jobs=-1, error_score='raise')\n",
    "# report performance\n",
    "print('F1: %.3f (%.3f)' % (mean(n_scores1), std(n_scores3)))\n",
    "print('F1: %.3f (%.3f)' % (mean(n_scores2), std(n_scores2)))\n",
    "print('F1: %.3f (%.3f)' % (mean(n_scores3), std(n_scores1)))"
   ]
  },
  {
   "cell_type": "code",
   "execution_count": 20,
   "metadata": {},
   "outputs": [
    {
     "name": "stdout",
     "output_type": "stream",
     "text": [
      "precision: 0.695 (0.082)\n",
      "precision: 0.696 (0.123)\n",
      "precision: 0.685 (0.084)\n"
     ]
    }
   ],
   "source": [
    "n_scores1 = cross_val_score(model, rf1_X, rf1_y, scoring='precision', cv=cv, n_jobs=-1, error_score='raise')\n",
    "n_scores2 = cross_val_score(model, rf2_X, rf2_y, scoring='precision', cv=cv, n_jobs=-1, error_score='raise')\n",
    "n_scores3 = cross_val_score(model, rf3_X, rf3_y, scoring='precision', cv=cv, n_jobs=-1, error_score='raise')\n",
    "# report performance\n",
    "print('precision: %.3f (%.3f)' % (mean(n_scores1), std(n_scores3)))\n",
    "print('precision: %.3f (%.3f)' % (mean(n_scores2), std(n_scores2)))\n",
    "print('precision: %.3f (%.3f)' % (mean(n_scores3), std(n_scores1)))"
   ]
  },
  {
   "cell_type": "code",
   "execution_count": 21,
   "metadata": {},
   "outputs": [
    {
     "name": "stdout",
     "output_type": "stream",
     "text": [
      "recall: 0.678 (0.174)\n",
      "recall: 0.673 (0.175)\n",
      "recall: 0.684 (0.180)\n"
     ]
    }
   ],
   "source": [
    "n_scores1 = cross_val_score(model, rf1_X, rf1_y, scoring='recall', cv=cv, n_jobs=-1, error_score='raise')\n",
    "n_scores2 = cross_val_score(model, rf2_X, rf2_y, scoring='recall', cv=cv, n_jobs=-1, error_score='raise')\n",
    "n_scores3 = cross_val_score(model, rf3_X, rf3_y, scoring='recall', cv=cv, n_jobs=-1, error_score='raise')\n",
    "# report performance\n",
    "print('recall: %.3f (%.3f)' % (mean(n_scores1), std(n_scores3)))\n",
    "print('recall: %.3f (%.3f)' % (mean(n_scores2), std(n_scores2)))\n",
    "print('recall: %.3f (%.3f)' % (mean(n_scores3), std(n_scores1)))"
   ]
  },
  {
   "cell_type": "code",
   "execution_count": null,
   "metadata": {},
   "outputs": [],
   "source": []
  },
  {
   "cell_type": "code",
   "execution_count": 22,
   "metadata": {},
   "outputs": [],
   "source": [
    "from sklearn.model_selection import GridSearchCV\n",
    "# Define the Param Grid\n",
    "n_estimators = [10, 100, 250, 500, 1000]\n",
    "max_features = ['sqrt', 'log2']\n",
    "criterion = ['gini', 'entropy']\n",
    "             \n",
    "params = dict(n_estimators=n_estimators,max_features=max_features, criterion=criterion)\n",
    "\n",
    "# Determine the splits and perform the grid search\n",
    "grid = GridSearchCV(model, params, cv=cv, n_jobs=-1, scoring=['accuracy', 'precision'], refit=False).fit(rf2_X, rf2_y)"
   ]
  },
  {
   "cell_type": "code",
   "execution_count": 23,
   "metadata": {},
   "outputs": [
    {
     "data": {
      "text/plain": [
       "GridSearchCV(cv=RepeatedStratifiedKFold(n_repeats=3, n_splits=5, random_state=42),\n",
       "             estimator=RandomForestClassifier(), n_jobs=-1,\n",
       "             param_grid={'criterion': ['gini', 'entropy'],\n",
       "                         'max_features': ['sqrt', 'log2'],\n",
       "                         'n_estimators': [10, 100, 250, 500, 1000]},\n",
       "             refit=False, scoring=['accuracy', 'precision'])"
      ]
     },
     "execution_count": 23,
     "metadata": {},
     "output_type": "execute_result"
    }
   ],
   "source": [
    "# Select the best estimators\n",
    "grid"
   ]
  },
  {
   "cell_type": "code",
   "execution_count": 24,
   "metadata": {},
   "outputs": [
    {
     "ename": "NameError",
     "evalue": "name 'rf_model_tuned' is not defined",
     "output_type": "error",
     "traceback": [
      "\u001b[1;31m---------------------------------------------------------------------------\u001b[0m",
      "\u001b[1;31mNameError\u001b[0m                                 Traceback (most recent call last)",
      "\u001b[1;32m<ipython-input-24-f71b4356fa9d>\u001b[0m in \u001b[0;36m<module>\u001b[1;34m\u001b[0m\n\u001b[0;32m      1\u001b[0m \u001b[1;31m# Output the results\u001b[0m\u001b[1;33m\u001b[0m\u001b[1;33m\u001b[0m\u001b[1;33m\u001b[0m\u001b[0m\n\u001b[0;32m      2\u001b[0m \u001b[1;31m#print(\"Best Hyperparameters found: \" + str(grid.best_params_))\u001b[0m\u001b[1;33m\u001b[0m\u001b[1;33m\u001b[0m\u001b[1;33m\u001b[0m\u001b[0m\n\u001b[1;32m----> 3\u001b[1;33m \u001b[0mprint\u001b[0m\u001b[1;33m(\u001b[0m\u001b[1;34m\"Cross Validation accuracy: \"\u001b[0m \u001b[1;33m+\u001b[0m \u001b[0mstr\u001b[0m\u001b[1;33m(\u001b[0m\u001b[0mrf_model_tuned\u001b[0m\u001b[1;33m.\u001b[0m\u001b[0mscore\u001b[0m\u001b[1;33m(\u001b[0m\u001b[0mrf2_X\u001b[0m\u001b[1;33m,\u001b[0m\u001b[0mrf2_y\u001b[0m\u001b[1;33m)\u001b[0m\u001b[1;33m)\u001b[0m\u001b[1;33m)\u001b[0m\u001b[1;33m\u001b[0m\u001b[1;33m\u001b[0m\u001b[0m\n\u001b[0m",
      "\u001b[1;31mNameError\u001b[0m: name 'rf_model_tuned' is not defined"
     ]
    }
   ],
   "source": [
    "# Output the results\n",
    "#print(\"Best Hyperparameters found: \" + str(grid.best_params_))\n",
    "print(\"Cross Validation accuracy: \" + str(rf_model_tuned.score(rf2_X,rf2_y)))"
   ]
  },
  {
   "cell_type": "code",
   "execution_count": 25,
   "metadata": {},
   "outputs": [
    {
     "name": "stdout",
     "output_type": "stream",
     "text": [
      "0.6252525252525252\n",
      "0.6572871572871574\n",
      "0.6665223665223665\n",
      "0.6949494949494949\n",
      "0.6636363636363637\n",
      "0.6165945165945165\n",
      "0.6731601731601732\n",
      "0.6606060606060605\n",
      "0.6665223665223665\n",
      "0.6763347763347763\n",
      "0.6443001443001445\n",
      "0.6538239538239539\n",
      "0.6763347763347763\n",
      "0.6761904761904761\n",
      "0.6854256854256853\n",
      "0.6389610389610388\n",
      "0.6789321789321789\n",
      "0.6852813852813853\n",
      "0.676046176046176\n",
      "0.6761904761904761\n"
     ]
    }
   ],
   "source": [
    "#print accuracy\n",
    "print((grid.cv_results_['split0_test_accuracy'][0]+grid.cv_results_['split1_test_accuracy'][0]+ grid.cv_results_['split2_test_accuracy'][0]+grid.cv_results_['split3_test_accuracy'][0]+grid.cv_results_['split4_test_accuracy'][0]+ grid.cv_results_['split5_test_accuracy'][0]+grid.cv_results_['split6_test_accuracy'][0]+grid.cv_results_['split7_test_accuracy'][0]+ grid.cv_results_['split8_test_accuracy'][0]+grid.cv_results_['split9_test_accuracy'][0]+grid.cv_results_['split10_test_accuracy'][0]+ grid.cv_results_['split11_test_accuracy'][0]+grid.cv_results_['split12_test_accuracy'][0]+grid.cv_results_['split13_test_accuracy'][0]+ grid.cv_results_['split14_test_accuracy'][0])/15)\n",
    "print((grid.cv_results_['split0_test_accuracy'][1]+grid.cv_results_['split1_test_accuracy'][1]+ grid.cv_results_['split2_test_accuracy'][1]+grid.cv_results_['split3_test_accuracy'][1]+grid.cv_results_['split4_test_accuracy'][1]+ grid.cv_results_['split5_test_accuracy'][1]+grid.cv_results_['split6_test_accuracy'][1]+grid.cv_results_['split7_test_accuracy'][1]+ grid.cv_results_['split8_test_accuracy'][1]+grid.cv_results_['split9_test_accuracy'][1]+grid.cv_results_['split10_test_accuracy'][1]+ grid.cv_results_['split11_test_accuracy'][1]+grid.cv_results_['split12_test_accuracy'][1]+grid.cv_results_['split13_test_accuracy'][1]+ grid.cv_results_['split14_test_accuracy'][1])/15)\n",
    "print((grid.cv_results_['split0_test_accuracy'][2]+grid.cv_results_['split1_test_accuracy'][2]+ grid.cv_results_['split2_test_accuracy'][2]+grid.cv_results_['split3_test_accuracy'][2]+grid.cv_results_['split4_test_accuracy'][2]+ grid.cv_results_['split5_test_accuracy'][2]+grid.cv_results_['split6_test_accuracy'][2]+grid.cv_results_['split7_test_accuracy'][2]+ grid.cv_results_['split8_test_accuracy'][2]+grid.cv_results_['split9_test_accuracy'][2]+grid.cv_results_['split10_test_accuracy'][2]+ grid.cv_results_['split11_test_accuracy'][2]+grid.cv_results_['split12_test_accuracy'][2]+grid.cv_results_['split13_test_accuracy'][2]+ grid.cv_results_['split14_test_accuracy'][2])/15)\n",
    "print((grid.cv_results_['split0_test_accuracy'][3]+grid.cv_results_['split1_test_accuracy'][3]+ grid.cv_results_['split2_test_accuracy'][3]+grid.cv_results_['split3_test_accuracy'][3]+grid.cv_results_['split4_test_accuracy'][3]+ grid.cv_results_['split5_test_accuracy'][3]+grid.cv_results_['split6_test_accuracy'][3]+grid.cv_results_['split7_test_accuracy'][3]+ grid.cv_results_['split8_test_accuracy'][3]+grid.cv_results_['split9_test_accuracy'][3]+grid.cv_results_['split10_test_accuracy'][3]+ grid.cv_results_['split11_test_accuracy'][3]+grid.cv_results_['split12_test_accuracy'][3]+grid.cv_results_['split13_test_accuracy'][3]+ grid.cv_results_['split14_test_accuracy'][3])/15)\n",
    "print((grid.cv_results_['split0_test_accuracy'][4]+grid.cv_results_['split1_test_accuracy'][4]+ grid.cv_results_['split2_test_accuracy'][4]+grid.cv_results_['split3_test_accuracy'][4]+grid.cv_results_['split4_test_accuracy'][4]+ grid.cv_results_['split5_test_accuracy'][4]+grid.cv_results_['split6_test_accuracy'][4]+grid.cv_results_['split7_test_accuracy'][4]+ grid.cv_results_['split8_test_accuracy'][4]+grid.cv_results_['split9_test_accuracy'][4]+grid.cv_results_['split10_test_accuracy'][4]+ grid.cv_results_['split11_test_accuracy'][4]+grid.cv_results_['split12_test_accuracy'][4]+grid.cv_results_['split13_test_accuracy'][4]+ grid.cv_results_['split14_test_accuracy'][4])/15)\n",
    "print((grid.cv_results_['split0_test_accuracy'][5]+grid.cv_results_['split1_test_accuracy'][5]+ grid.cv_results_['split2_test_accuracy'][5]+grid.cv_results_['split3_test_accuracy'][5]+grid.cv_results_['split4_test_accuracy'][5]+ grid.cv_results_['split5_test_accuracy'][5]+grid.cv_results_['split6_test_accuracy'][5]+grid.cv_results_['split7_test_accuracy'][5]+ grid.cv_results_['split8_test_accuracy'][5]+grid.cv_results_['split9_test_accuracy'][5]+grid.cv_results_['split10_test_accuracy'][5]+ grid.cv_results_['split11_test_accuracy'][5]+grid.cv_results_['split12_test_accuracy'][5]+grid.cv_results_['split13_test_accuracy'][5]+ grid.cv_results_['split14_test_accuracy'][5])/15)\n",
    "print((grid.cv_results_['split0_test_accuracy'][6]+grid.cv_results_['split1_test_accuracy'][6]+ grid.cv_results_['split2_test_accuracy'][6]+grid.cv_results_['split3_test_accuracy'][6]+grid.cv_results_['split4_test_accuracy'][6]+ grid.cv_results_['split5_test_accuracy'][6]+grid.cv_results_['split6_test_accuracy'][6]+grid.cv_results_['split7_test_accuracy'][6]+ grid.cv_results_['split8_test_accuracy'][6]+grid.cv_results_['split9_test_accuracy'][6]+grid.cv_results_['split10_test_accuracy'][6]+ grid.cv_results_['split11_test_accuracy'][6]+grid.cv_results_['split12_test_accuracy'][6]+grid.cv_results_['split13_test_accuracy'][6]+ grid.cv_results_['split14_test_accuracy'][6])/15)\n",
    "print((grid.cv_results_['split0_test_accuracy'][7]+grid.cv_results_['split1_test_accuracy'][7]+ grid.cv_results_['split2_test_accuracy'][7]+grid.cv_results_['split3_test_accuracy'][7]+grid.cv_results_['split4_test_accuracy'][7]+ grid.cv_results_['split5_test_accuracy'][7]+grid.cv_results_['split6_test_accuracy'][7]+grid.cv_results_['split7_test_accuracy'][7]+ grid.cv_results_['split8_test_accuracy'][7]+grid.cv_results_['split9_test_accuracy'][7]+grid.cv_results_['split10_test_accuracy'][7]+ grid.cv_results_['split11_test_accuracy'][7]+grid.cv_results_['split12_test_accuracy'][7]+grid.cv_results_['split13_test_accuracy'][7]+ grid.cv_results_['split14_test_accuracy'][7])/15)\n",
    "print((grid.cv_results_['split0_test_accuracy'][8]+grid.cv_results_['split1_test_accuracy'][8]+ grid.cv_results_['split2_test_accuracy'][8]+grid.cv_results_['split3_test_accuracy'][8]+grid.cv_results_['split4_test_accuracy'][8]+ grid.cv_results_['split5_test_accuracy'][8]+grid.cv_results_['split6_test_accuracy'][8]+grid.cv_results_['split7_test_accuracy'][8]+ grid.cv_results_['split8_test_accuracy'][8]+grid.cv_results_['split9_test_accuracy'][8]+grid.cv_results_['split10_test_accuracy'][8]+ grid.cv_results_['split11_test_accuracy'][8]+grid.cv_results_['split12_test_accuracy'][8]+grid.cv_results_['split13_test_accuracy'][8]+ grid.cv_results_['split14_test_accuracy'][8])/15)\n",
    "print((grid.cv_results_['split0_test_accuracy'][9]+grid.cv_results_['split1_test_accuracy'][9]+ grid.cv_results_['split2_test_accuracy'][9]+grid.cv_results_['split3_test_accuracy'][9]+grid.cv_results_['split4_test_accuracy'][9]+ grid.cv_results_['split5_test_accuracy'][9]+grid.cv_results_['split6_test_accuracy'][9]+grid.cv_results_['split7_test_accuracy'][9]+ grid.cv_results_['split8_test_accuracy'][9]+grid.cv_results_['split9_test_accuracy'][9]+grid.cv_results_['split10_test_accuracy'][9]+ grid.cv_results_['split11_test_accuracy'][9]+grid.cv_results_['split12_test_accuracy'][9]+grid.cv_results_['split13_test_accuracy'][9]+ grid.cv_results_['split14_test_accuracy'][9])/15)\n",
    "print((grid.cv_results_['split0_test_accuracy'][10]+grid.cv_results_['split1_test_accuracy'][10]+ grid.cv_results_['split2_test_accuracy'][10]+grid.cv_results_['split3_test_accuracy'][10]+grid.cv_results_['split4_test_accuracy'][10]+ grid.cv_results_['split5_test_accuracy'][10]+grid.cv_results_['split6_test_accuracy'][10]+grid.cv_results_['split7_test_accuracy'][10]+ grid.cv_results_['split8_test_accuracy'][10]+grid.cv_results_['split9_test_accuracy'][10]+grid.cv_results_['split10_test_accuracy'][10]+ grid.cv_results_['split11_test_accuracy'][10]+grid.cv_results_['split12_test_accuracy'][10]+grid.cv_results_['split13_test_accuracy'][10]+ grid.cv_results_['split14_test_accuracy'][10])/15)\n",
    "print((grid.cv_results_['split0_test_accuracy'][11]+grid.cv_results_['split1_test_accuracy'][11]+ grid.cv_results_['split2_test_accuracy'][11]+grid.cv_results_['split3_test_accuracy'][11]+grid.cv_results_['split4_test_accuracy'][11]+ grid.cv_results_['split5_test_accuracy'][11]+grid.cv_results_['split6_test_accuracy'][11]+grid.cv_results_['split7_test_accuracy'][11]+ grid.cv_results_['split8_test_accuracy'][11]+grid.cv_results_['split9_test_accuracy'][11]+grid.cv_results_['split10_test_accuracy'][11]+ grid.cv_results_['split11_test_accuracy'][11]+grid.cv_results_['split12_test_accuracy'][11]+grid.cv_results_['split13_test_accuracy'][11]+ grid.cv_results_['split14_test_accuracy'][11])/15)\n",
    "print((grid.cv_results_['split0_test_accuracy'][12]+grid.cv_results_['split1_test_accuracy'][12]+ grid.cv_results_['split2_test_accuracy'][12]+grid.cv_results_['split3_test_accuracy'][12]+grid.cv_results_['split4_test_accuracy'][12]+ grid.cv_results_['split5_test_accuracy'][12]+grid.cv_results_['split6_test_accuracy'][12]+grid.cv_results_['split7_test_accuracy'][12]+ grid.cv_results_['split8_test_accuracy'][12]+grid.cv_results_['split9_test_accuracy'][12]+grid.cv_results_['split10_test_accuracy'][12]+ grid.cv_results_['split11_test_accuracy'][12]+grid.cv_results_['split12_test_accuracy'][12]+grid.cv_results_['split13_test_accuracy'][12]+ grid.cv_results_['split14_test_accuracy'][12])/15)\n",
    "print((grid.cv_results_['split0_test_accuracy'][13]+grid.cv_results_['split1_test_accuracy'][13]+ grid.cv_results_['split2_test_accuracy'][13]+grid.cv_results_['split3_test_accuracy'][13]+grid.cv_results_['split4_test_accuracy'][13]+ grid.cv_results_['split5_test_accuracy'][13]+grid.cv_results_['split6_test_accuracy'][13]+grid.cv_results_['split7_test_accuracy'][13]+ grid.cv_results_['split8_test_accuracy'][13]+grid.cv_results_['split9_test_accuracy'][13]+grid.cv_results_['split10_test_accuracy'][13]+ grid.cv_results_['split11_test_accuracy'][13]+grid.cv_results_['split12_test_accuracy'][13]+grid.cv_results_['split13_test_accuracy'][13]+ grid.cv_results_['split14_test_accuracy'][13])/15)\n",
    "print((grid.cv_results_['split0_test_accuracy'][14]+grid.cv_results_['split1_test_accuracy'][14]+ grid.cv_results_['split2_test_accuracy'][14]+grid.cv_results_['split3_test_accuracy'][14]+grid.cv_results_['split4_test_accuracy'][14]+ grid.cv_results_['split5_test_accuracy'][14]+grid.cv_results_['split6_test_accuracy'][14]+grid.cv_results_['split7_test_accuracy'][14]+ grid.cv_results_['split8_test_accuracy'][14]+grid.cv_results_['split9_test_accuracy'][14]+grid.cv_results_['split10_test_accuracy'][14]+ grid.cv_results_['split11_test_accuracy'][14]+grid.cv_results_['split12_test_accuracy'][14]+grid.cv_results_['split13_test_accuracy'][14]+ grid.cv_results_['split14_test_accuracy'][14])/15)\n",
    "print((grid.cv_results_['split0_test_accuracy'][15]+grid.cv_results_['split1_test_accuracy'][15]+ grid.cv_results_['split2_test_accuracy'][15]+grid.cv_results_['split3_test_accuracy'][15]+grid.cv_results_['split4_test_accuracy'][15]+ grid.cv_results_['split5_test_accuracy'][15]+grid.cv_results_['split6_test_accuracy'][15]+grid.cv_results_['split7_test_accuracy'][15]+ grid.cv_results_['split8_test_accuracy'][15]+grid.cv_results_['split9_test_accuracy'][15]+grid.cv_results_['split10_test_accuracy'][15]+ grid.cv_results_['split11_test_accuracy'][15]+grid.cv_results_['split12_test_accuracy'][15]+grid.cv_results_['split13_test_accuracy'][15]+ grid.cv_results_['split14_test_accuracy'][15])/15)\n",
    "print((grid.cv_results_['split0_test_accuracy'][16]+grid.cv_results_['split1_test_accuracy'][16]+ grid.cv_results_['split2_test_accuracy'][16]+grid.cv_results_['split3_test_accuracy'][16]+grid.cv_results_['split4_test_accuracy'][16]+ grid.cv_results_['split5_test_accuracy'][16]+grid.cv_results_['split6_test_accuracy'][16]+grid.cv_results_['split7_test_accuracy'][16]+ grid.cv_results_['split8_test_accuracy'][16]+grid.cv_results_['split9_test_accuracy'][16]+grid.cv_results_['split10_test_accuracy'][16]+ grid.cv_results_['split11_test_accuracy'][16]+grid.cv_results_['split12_test_accuracy'][16]+grid.cv_results_['split13_test_accuracy'][16]+ grid.cv_results_['split14_test_accuracy'][16])/15)\n",
    "print((grid.cv_results_['split0_test_accuracy'][17]+grid.cv_results_['split1_test_accuracy'][17]+ grid.cv_results_['split2_test_accuracy'][17]+grid.cv_results_['split3_test_accuracy'][17]+grid.cv_results_['split4_test_accuracy'][17]+ grid.cv_results_['split5_test_accuracy'][17]+grid.cv_results_['split6_test_accuracy'][17]+grid.cv_results_['split7_test_accuracy'][17]+ grid.cv_results_['split8_test_accuracy'][17]+grid.cv_results_['split9_test_accuracy'][17]+grid.cv_results_['split10_test_accuracy'][17]+ grid.cv_results_['split11_test_accuracy'][17]+grid.cv_results_['split12_test_accuracy'][17]+grid.cv_results_['split13_test_accuracy'][17]+ grid.cv_results_['split14_test_accuracy'][17])/15)\n",
    "print((grid.cv_results_['split0_test_accuracy'][18]+grid.cv_results_['split1_test_accuracy'][18]+ grid.cv_results_['split2_test_accuracy'][18]+grid.cv_results_['split3_test_accuracy'][18]+grid.cv_results_['split4_test_accuracy'][18]+ grid.cv_results_['split5_test_accuracy'][18]+grid.cv_results_['split6_test_accuracy'][18]+grid.cv_results_['split7_test_accuracy'][18]+ grid.cv_results_['split8_test_accuracy'][18]+grid.cv_results_['split9_test_accuracy'][18]+grid.cv_results_['split10_test_accuracy'][18]+ grid.cv_results_['split11_test_accuracy'][18]+grid.cv_results_['split12_test_accuracy'][18]+grid.cv_results_['split13_test_accuracy'][18]+ grid.cv_results_['split14_test_accuracy'][18])/15)\n",
    "print((grid.cv_results_['split0_test_accuracy'][19]+grid.cv_results_['split1_test_accuracy'][19]+ grid.cv_results_['split2_test_accuracy'][19]+grid.cv_results_['split3_test_accuracy'][19]+grid.cv_results_['split4_test_accuracy'][19]+ grid.cv_results_['split5_test_accuracy'][19]+grid.cv_results_['split6_test_accuracy'][19]+grid.cv_results_['split7_test_accuracy'][19]+ grid.cv_results_['split8_test_accuracy'][19]+grid.cv_results_['split9_test_accuracy'][19]+grid.cv_results_['split10_test_accuracy'][19]+ grid.cv_results_['split11_test_accuracy'][19]+grid.cv_results_['split12_test_accuracy'][19]+grid.cv_results_['split13_test_accuracy'][19]+ grid.cv_results_['split14_test_accuracy'][19])/15)\n"
   ]
  },
  {
   "cell_type": "code",
   "execution_count": 26,
   "metadata": {},
   "outputs": [
    {
     "name": "stdout",
     "output_type": "stream",
     "text": [
      "0.6607146557146557\n",
      "0.6704771154771154\n",
      "0.6774758574758575\n",
      "0.7199023199023199\n",
      "0.6684992784992784\n",
      "0.6661265586265587\n",
      "0.6953616753616754\n",
      "0.6775977725977727\n",
      "0.6748340548340548\n",
      "0.6822242572242572\n",
      "0.6886987086987089\n",
      "0.6677953527953527\n",
      "0.6978536278536277\n",
      "0.6902615902615902\n",
      "0.6924612424612424\n",
      "0.6728216228216228\n",
      "0.6848155548155549\n",
      "0.7050849150849151\n",
      "0.6971210271210271\n",
      "0.683984163984164\n"
     ]
    }
   ],
   "source": [
    "#print accuracy\n",
    "print((grid.cv_results_['split0_test_precision'][0]+grid.cv_results_['split1_test_precision'][0]+ grid.cv_results_['split2_test_precision'][0]+grid.cv_results_['split3_test_precision'][0]+grid.cv_results_['split4_test_precision'][0]+ grid.cv_results_['split5_test_precision'][0]+grid.cv_results_['split6_test_precision'][0]+grid.cv_results_['split7_test_precision'][0]+ grid.cv_results_['split8_test_precision'][0]+grid.cv_results_['split9_test_precision'][0]+grid.cv_results_['split10_test_precision'][0]+ grid.cv_results_['split11_test_precision'][0]+grid.cv_results_['split12_test_precision'][0]+grid.cv_results_['split13_test_precision'][0]+ grid.cv_results_['split14_test_precision'][0])/15)\n",
    "print((grid.cv_results_['split0_test_precision'][1]+grid.cv_results_['split1_test_precision'][1]+ grid.cv_results_['split2_test_precision'][1]+grid.cv_results_['split3_test_precision'][1]+grid.cv_results_['split4_test_precision'][1]+ grid.cv_results_['split5_test_precision'][1]+grid.cv_results_['split6_test_precision'][1]+grid.cv_results_['split7_test_precision'][1]+ grid.cv_results_['split8_test_precision'][1]+grid.cv_results_['split9_test_precision'][1]+grid.cv_results_['split10_test_precision'][1]+ grid.cv_results_['split11_test_precision'][1]+grid.cv_results_['split12_test_precision'][1]+grid.cv_results_['split13_test_precision'][1]+ grid.cv_results_['split14_test_precision'][1])/15)\n",
    "print((grid.cv_results_['split0_test_precision'][2]+grid.cv_results_['split1_test_precision'][2]+ grid.cv_results_['split2_test_precision'][2]+grid.cv_results_['split3_test_precision'][2]+grid.cv_results_['split4_test_precision'][2]+ grid.cv_results_['split5_test_precision'][2]+grid.cv_results_['split6_test_precision'][2]+grid.cv_results_['split7_test_precision'][2]+ grid.cv_results_['split8_test_precision'][2]+grid.cv_results_['split9_test_precision'][2]+grid.cv_results_['split10_test_precision'][2]+ grid.cv_results_['split11_test_precision'][2]+grid.cv_results_['split12_test_precision'][2]+grid.cv_results_['split13_test_precision'][2]+ grid.cv_results_['split14_test_precision'][2])/15)\n",
    "print((grid.cv_results_['split0_test_precision'][3]+grid.cv_results_['split1_test_precision'][3]+ grid.cv_results_['split2_test_precision'][3]+grid.cv_results_['split3_test_precision'][3]+grid.cv_results_['split4_test_precision'][3]+ grid.cv_results_['split5_test_precision'][3]+grid.cv_results_['split6_test_precision'][3]+grid.cv_results_['split7_test_precision'][3]+ grid.cv_results_['split8_test_precision'][3]+grid.cv_results_['split9_test_precision'][3]+grid.cv_results_['split10_test_precision'][3]+ grid.cv_results_['split11_test_precision'][3]+grid.cv_results_['split12_test_precision'][3]+grid.cv_results_['split13_test_precision'][3]+ grid.cv_results_['split14_test_precision'][3])/15)\n",
    "print((grid.cv_results_['split0_test_precision'][4]+grid.cv_results_['split1_test_precision'][4]+ grid.cv_results_['split2_test_precision'][4]+grid.cv_results_['split3_test_precision'][4]+grid.cv_results_['split4_test_precision'][4]+ grid.cv_results_['split5_test_precision'][4]+grid.cv_results_['split6_test_precision'][4]+grid.cv_results_['split7_test_precision'][4]+ grid.cv_results_['split8_test_precision'][4]+grid.cv_results_['split9_test_precision'][4]+grid.cv_results_['split10_test_precision'][4]+ grid.cv_results_['split11_test_precision'][4]+grid.cv_results_['split12_test_precision'][4]+grid.cv_results_['split13_test_precision'][4]+ grid.cv_results_['split14_test_precision'][4])/15)\n",
    "print((grid.cv_results_['split0_test_precision'][5]+grid.cv_results_['split1_test_precision'][5]+ grid.cv_results_['split2_test_precision'][5]+grid.cv_results_['split3_test_precision'][5]+grid.cv_results_['split4_test_precision'][5]+ grid.cv_results_['split5_test_precision'][5]+grid.cv_results_['split6_test_precision'][5]+grid.cv_results_['split7_test_precision'][5]+ grid.cv_results_['split8_test_precision'][5]+grid.cv_results_['split9_test_precision'][5]+grid.cv_results_['split10_test_precision'][5]+ grid.cv_results_['split11_test_precision'][5]+grid.cv_results_['split12_test_precision'][5]+grid.cv_results_['split13_test_precision'][5]+ grid.cv_results_['split14_test_precision'][5])/15)\n",
    "print((grid.cv_results_['split0_test_precision'][6]+grid.cv_results_['split1_test_precision'][6]+ grid.cv_results_['split2_test_precision'][6]+grid.cv_results_['split3_test_precision'][6]+grid.cv_results_['split4_test_precision'][6]+ grid.cv_results_['split5_test_precision'][6]+grid.cv_results_['split6_test_precision'][6]+grid.cv_results_['split7_test_precision'][6]+ grid.cv_results_['split8_test_precision'][6]+grid.cv_results_['split9_test_precision'][6]+grid.cv_results_['split10_test_precision'][6]+ grid.cv_results_['split11_test_precision'][6]+grid.cv_results_['split12_test_precision'][6]+grid.cv_results_['split13_test_precision'][6]+ grid.cv_results_['split14_test_precision'][6])/15)\n",
    "print((grid.cv_results_['split0_test_precision'][7]+grid.cv_results_['split1_test_precision'][7]+ grid.cv_results_['split2_test_precision'][7]+grid.cv_results_['split3_test_precision'][7]+grid.cv_results_['split4_test_precision'][7]+ grid.cv_results_['split5_test_precision'][7]+grid.cv_results_['split6_test_precision'][7]+grid.cv_results_['split7_test_precision'][7]+ grid.cv_results_['split8_test_precision'][7]+grid.cv_results_['split9_test_precision'][7]+grid.cv_results_['split10_test_precision'][7]+ grid.cv_results_['split11_test_precision'][7]+grid.cv_results_['split12_test_precision'][7]+grid.cv_results_['split13_test_precision'][7]+ grid.cv_results_['split14_test_precision'][7])/15)\n",
    "print((grid.cv_results_['split0_test_precision'][8]+grid.cv_results_['split1_test_precision'][8]+ grid.cv_results_['split2_test_precision'][8]+grid.cv_results_['split3_test_precision'][8]+grid.cv_results_['split4_test_precision'][8]+ grid.cv_results_['split5_test_precision'][8]+grid.cv_results_['split6_test_precision'][8]+grid.cv_results_['split7_test_precision'][8]+ grid.cv_results_['split8_test_precision'][8]+grid.cv_results_['split9_test_precision'][8]+grid.cv_results_['split10_test_precision'][8]+ grid.cv_results_['split11_test_precision'][8]+grid.cv_results_['split12_test_precision'][8]+grid.cv_results_['split13_test_precision'][8]+ grid.cv_results_['split14_test_precision'][8])/15)\n",
    "print((grid.cv_results_['split0_test_precision'][9]+grid.cv_results_['split1_test_precision'][9]+ grid.cv_results_['split2_test_precision'][9]+grid.cv_results_['split3_test_precision'][9]+grid.cv_results_['split4_test_precision'][9]+ grid.cv_results_['split5_test_precision'][9]+grid.cv_results_['split6_test_precision'][9]+grid.cv_results_['split7_test_precision'][9]+ grid.cv_results_['split8_test_precision'][9]+grid.cv_results_['split9_test_precision'][9]+grid.cv_results_['split10_test_precision'][9]+ grid.cv_results_['split11_test_precision'][9]+grid.cv_results_['split12_test_precision'][9]+grid.cv_results_['split13_test_precision'][9]+ grid.cv_results_['split14_test_precision'][9])/15)\n",
    "print((grid.cv_results_['split0_test_precision'][10]+grid.cv_results_['split1_test_precision'][10]+ grid.cv_results_['split2_test_precision'][10]+grid.cv_results_['split3_test_precision'][10]+grid.cv_results_['split4_test_precision'][10]+ grid.cv_results_['split5_test_precision'][10]+grid.cv_results_['split6_test_precision'][10]+grid.cv_results_['split7_test_precision'][10]+ grid.cv_results_['split8_test_precision'][10]+grid.cv_results_['split9_test_precision'][10]+grid.cv_results_['split10_test_precision'][10]+ grid.cv_results_['split11_test_precision'][10]+grid.cv_results_['split12_test_precision'][10]+grid.cv_results_['split13_test_precision'][10]+ grid.cv_results_['split14_test_precision'][10])/15)\n",
    "print((grid.cv_results_['split0_test_precision'][11]+grid.cv_results_['split1_test_precision'][11]+ grid.cv_results_['split2_test_precision'][11]+grid.cv_results_['split3_test_precision'][11]+grid.cv_results_['split4_test_precision'][11]+ grid.cv_results_['split5_test_precision'][11]+grid.cv_results_['split6_test_precision'][11]+grid.cv_results_['split7_test_precision'][11]+ grid.cv_results_['split8_test_precision'][11]+grid.cv_results_['split9_test_precision'][11]+grid.cv_results_['split10_test_precision'][11]+ grid.cv_results_['split11_test_precision'][11]+grid.cv_results_['split12_test_precision'][11]+grid.cv_results_['split13_test_precision'][11]+ grid.cv_results_['split14_test_precision'][11])/15)\n",
    "print((grid.cv_results_['split0_test_precision'][12]+grid.cv_results_['split1_test_precision'][12]+ grid.cv_results_['split2_test_precision'][12]+grid.cv_results_['split3_test_precision'][12]+grid.cv_results_['split4_test_precision'][12]+ grid.cv_results_['split5_test_precision'][12]+grid.cv_results_['split6_test_precision'][12]+grid.cv_results_['split7_test_precision'][12]+ grid.cv_results_['split8_test_precision'][12]+grid.cv_results_['split9_test_precision'][12]+grid.cv_results_['split10_test_precision'][12]+ grid.cv_results_['split11_test_precision'][12]+grid.cv_results_['split12_test_precision'][12]+grid.cv_results_['split13_test_precision'][12]+ grid.cv_results_['split14_test_precision'][12])/15)\n",
    "print((grid.cv_results_['split0_test_precision'][13]+grid.cv_results_['split1_test_precision'][13]+ grid.cv_results_['split2_test_precision'][13]+grid.cv_results_['split3_test_precision'][13]+grid.cv_results_['split4_test_precision'][13]+ grid.cv_results_['split5_test_precision'][13]+grid.cv_results_['split6_test_precision'][13]+grid.cv_results_['split7_test_precision'][13]+ grid.cv_results_['split8_test_precision'][13]+grid.cv_results_['split9_test_precision'][13]+grid.cv_results_['split10_test_precision'][13]+ grid.cv_results_['split11_test_precision'][13]+grid.cv_results_['split12_test_precision'][13]+grid.cv_results_['split13_test_precision'][13]+ grid.cv_results_['split14_test_precision'][13])/15)\n",
    "print((grid.cv_results_['split0_test_precision'][14]+grid.cv_results_['split1_test_precision'][14]+ grid.cv_results_['split2_test_precision'][14]+grid.cv_results_['split3_test_precision'][14]+grid.cv_results_['split4_test_precision'][14]+ grid.cv_results_['split5_test_precision'][14]+grid.cv_results_['split6_test_precision'][14]+grid.cv_results_['split7_test_precision'][14]+ grid.cv_results_['split8_test_precision'][14]+grid.cv_results_['split9_test_precision'][14]+grid.cv_results_['split10_test_precision'][14]+ grid.cv_results_['split11_test_precision'][14]+grid.cv_results_['split12_test_precision'][14]+grid.cv_results_['split13_test_precision'][14]+ grid.cv_results_['split14_test_precision'][14])/15)\n",
    "print((grid.cv_results_['split0_test_precision'][15]+grid.cv_results_['split1_test_precision'][15]+ grid.cv_results_['split2_test_precision'][15]+grid.cv_results_['split3_test_precision'][15]+grid.cv_results_['split4_test_precision'][15]+ grid.cv_results_['split5_test_precision'][15]+grid.cv_results_['split6_test_precision'][15]+grid.cv_results_['split7_test_precision'][15]+ grid.cv_results_['split8_test_precision'][15]+grid.cv_results_['split9_test_precision'][15]+grid.cv_results_['split10_test_precision'][15]+ grid.cv_results_['split11_test_precision'][15]+grid.cv_results_['split12_test_precision'][15]+grid.cv_results_['split13_test_precision'][15]+ grid.cv_results_['split14_test_precision'][15])/15)\n",
    "print((grid.cv_results_['split0_test_precision'][16]+grid.cv_results_['split1_test_precision'][16]+ grid.cv_results_['split2_test_precision'][16]+grid.cv_results_['split3_test_precision'][16]+grid.cv_results_['split4_test_precision'][16]+ grid.cv_results_['split5_test_precision'][16]+grid.cv_results_['split6_test_precision'][16]+grid.cv_results_['split7_test_precision'][16]+ grid.cv_results_['split8_test_precision'][16]+grid.cv_results_['split9_test_precision'][16]+grid.cv_results_['split10_test_precision'][16]+ grid.cv_results_['split11_test_precision'][16]+grid.cv_results_['split12_test_precision'][16]+grid.cv_results_['split13_test_precision'][16]+ grid.cv_results_['split14_test_precision'][16])/15)\n",
    "print((grid.cv_results_['split0_test_precision'][17]+grid.cv_results_['split1_test_precision'][17]+ grid.cv_results_['split2_test_precision'][17]+grid.cv_results_['split3_test_precision'][17]+grid.cv_results_['split4_test_precision'][17]+ grid.cv_results_['split5_test_precision'][17]+grid.cv_results_['split6_test_precision'][17]+grid.cv_results_['split7_test_precision'][17]+ grid.cv_results_['split8_test_precision'][17]+grid.cv_results_['split9_test_precision'][17]+grid.cv_results_['split10_test_precision'][17]+ grid.cv_results_['split11_test_precision'][17]+grid.cv_results_['split12_test_precision'][17]+grid.cv_results_['split13_test_precision'][17]+ grid.cv_results_['split14_test_precision'][17])/15)\n",
    "print((grid.cv_results_['split0_test_precision'][18]+grid.cv_results_['split1_test_precision'][18]+ grid.cv_results_['split2_test_precision'][18]+grid.cv_results_['split3_test_precision'][18]+grid.cv_results_['split4_test_precision'][18]+ grid.cv_results_['split5_test_precision'][18]+grid.cv_results_['split6_test_precision'][18]+grid.cv_results_['split7_test_precision'][18]+ grid.cv_results_['split8_test_precision'][18]+grid.cv_results_['split9_test_precision'][18]+grid.cv_results_['split10_test_precision'][18]+ grid.cv_results_['split11_test_precision'][18]+grid.cv_results_['split12_test_precision'][18]+grid.cv_results_['split13_test_precision'][18]+ grid.cv_results_['split14_test_precision'][18])/15)\n",
    "print((grid.cv_results_['split0_test_precision'][19]+grid.cv_results_['split1_test_precision'][19]+ grid.cv_results_['split2_test_precision'][19]+grid.cv_results_['split3_test_precision'][19]+grid.cv_results_['split4_test_precision'][19]+ grid.cv_results_['split5_test_precision'][19]+grid.cv_results_['split6_test_precision'][19]+grid.cv_results_['split7_test_precision'][19]+ grid.cv_results_['split8_test_precision'][19]+grid.cv_results_['split9_test_precision'][19]+grid.cv_results_['split10_test_precision'][19]+ grid.cv_results_['split11_test_precision'][19]+grid.cv_results_['split12_test_precision'][19]+grid.cv_results_['split13_test_precision'][19]+ grid.cv_results_['split14_test_precision'][19])/15)\n"
   ]
  },
  {
   "cell_type": "code",
   "execution_count": null,
   "metadata": {},
   "outputs": [],
   "source": [
    "grid.cv_results_"
   ]
  },
  {
   "cell_type": "code",
   "execution_count": null,
   "metadata": {},
   "outputs": [],
   "source": []
  },
  {
   "cell_type": "code",
   "execution_count": 27,
   "metadata": {},
   "outputs": [
    {
     "name": "stdout",
     "output_type": "stream",
     "text": [
      "Feature: 0, Score: 0.12625\n",
      "Feature: 1, Score: 0.09625\n",
      "Feature: 2, Score: 0.06395\n",
      "Feature: 3, Score: 0.00977\n",
      "Feature: 4, Score: 0.05926\n",
      "Feature: 5, Score: 0.05630\n",
      "Feature: 6, Score: 0.03901\n",
      "Feature: 7, Score: 0.00043\n",
      "Feature: 8, Score: 0.06145\n",
      "Feature: 9, Score: 0.05708\n",
      "Feature: 10, Score: 0.05822\n",
      "Feature: 11, Score: 0.06411\n",
      "Feature: 12, Score: 0.04907\n",
      "Feature: 13, Score: 0.10674\n",
      "Feature: 14, Score: 0.06346\n",
      "Feature: 15, Score: 0.08863\n"
     ]
    },
    {
     "data": {
      "image/png": "[encoded data removed]",
      "text/plain": [
       "<Figure size 432x288 with 1 Axes>"
      ]
     },
     "metadata": {
      "needs_background": "light"
     },
     "output_type": "display_data"
    }
   ],
   "source": [
    "model = RandomForestClassifier(criterion='gini', max_features='sqrt', n_estimators=500)\n",
    "\n",
    "# fit the model on the whole dataset\n",
    "rfmodel = model.fit(rf2_X, rf2_y)\n",
    "# get feature importance\n",
    "importance = rfmodel.feature_importances_\n",
    "# summarize feature importance\n",
    "for i,v in enumerate(importance):\n",
    "\tprint('Feature: %0d, Score: %.5f' % (i,v))\n",
    "# plot feature importance\n",
    "plt.bar([x for x in range(len(importance))], importance)\n",
    "plt.show()"
   ]
  },
  {
   "cell_type": "code",
   "execution_count": 28,
   "metadata": {},
   "outputs": [],
   "source": [
    "# define the list of features to keep (excluding Location_Retail park)\n",
    "rf_selected_features = ['Staff', 'Floor Space', 'Clearance space', 'Competition score']\n",
    "\n",
    "# update the data frame\n",
    "rf_finalX = rf2_X[:, [0, 1, 13, 15]]"
   ]
  },
  {
   "cell_type": "code",
   "execution_count": 35,
   "metadata": {},
   "outputs": [
    {
     "name": "stdout",
     "output_type": "stream",
     "text": [
      "Accuracy: 0.618 (0.139)\n"
     ]
    }
   ],
   "source": [
    "# define the model\n",
    "n_scores2 = cross_val_score(model, rf_finalX, rf2_y, scoring='recall', cv=cv, n_jobs=-1, error_score='raise')\n",
    "# report performance\n",
    "print('Accuracy: %.3f (%.3f)' % (mean(n_scores2), std(n_scores2)))\n"
   ]
  },
  {
   "cell_type": "code",
   "execution_count": null,
   "metadata": {},
   "outputs": [],
   "source": []
  },
  {
   "cell_type": "code",
   "execution_count": null,
   "metadata": {},
   "outputs": [],
   "source": []
  },
  {
   "cell_type": "markdown",
   "metadata": {},
   "source": [
    "### Logistic Regression"
   ]
  },
  {
   "cell_type": "code",
   "execution_count": 37,
   "metadata": {},
   "outputs": [],
   "source": [
    "# Duplicate training data \n",
    "lr1_X, lr1_y = train_X, train_y\n",
    "lr2_X, lr2_y = train_X, train_y\n",
    "lr3_X, lr3_y = train_X, train_y"
   ]
  },
  {
   "cell_type": "code",
   "execution_count": 150,
   "metadata": {},
   "outputs": [],
   "source": [
    "# Leave 1, Scale 2, Standardise 3\n",
    "from sklearn.preprocessing import MinMaxScaler, StandardScaler\n",
    "mm_scaler = MinMaxScaler()\n",
    "stan_scaler = StandardScaler()\n",
    "lr2_X = mm_scaler.fit_transform(lr2_X)\n",
    "lr3_X = stan_scaler.fit_transform(lr3_X)"
   ]
  },
  {
   "cell_type": "code",
   "execution_count": 42,
   "metadata": {},
   "outputs": [
    {
     "name": "stdout",
     "output_type": "stream",
     "text": [
      "Accuracy: 0.516 (0.103)\n",
      "Accuracy: 0.799 (0.088)\n",
      "Accuracy: 0.773 (0.104)\n"
     ]
    }
   ],
   "source": [
    "from sklearn.linear_model import LogisticRegression\n",
    "model = LogisticRegression(solver='lbfgs', penalty='l2', C=1, random_state=seed)\n",
    "\n",
    "# evaluate the model\n",
    "cv = RepeatedStratifiedKFold(n_splits=5, n_repeats=3, random_state=seed)\n",
    "n_scores1 = cross_val_score(model, lr1_X, lr1_y, scoring='accuracy', cv=cv, n_jobs=-1, error_score='raise')\n",
    "n_scores2 = cross_val_score(model, lr2_X, lr2_y, scoring='accuracy', cv=cv, n_jobs=-1, error_score='raise')\n",
    "n_scores3 = cross_val_score(model, lr3_X, lr3_y, scoring='accuracy', cv=cv, n_jobs=-1, error_score='raise')\n",
    "# report performance\n",
    "print('Accuracy: %.3f (%.3f)' % (mean(n_scores1), std(n_scores3)))\n",
    "print('Accuracy: %.3f (%.3f)' % (mean(n_scores2), std(n_scores2)))\n",
    "print('Accuracy: %.3f (%.3f)' % (mean(n_scores3), std(n_scores1)))"
   ]
  },
  {
   "cell_type": "code",
   "execution_count": 43,
   "metadata": {},
   "outputs": [
    {
     "name": "stdout",
     "output_type": "stream",
     "text": [
      "F1: 0.549 (0.094)\n",
      "F1: 0.801 (0.085)\n",
      "F1: 0.783 (0.106)\n"
     ]
    }
   ],
   "source": [
    "n_scores1 = cross_val_score(model, lr1_X, lr1_y, scoring='f1', cv=cv, n_jobs=-1, error_score='raise')\n",
    "n_scores2 = cross_val_score(model, lr2_X, lr2_y, scoring='f1', cv=cv, n_jobs=-1, error_score='raise')\n",
    "n_scores3 = cross_val_score(model, lr3_X, lr3_y, scoring='f1', cv=cv, n_jobs=-1, error_score='raise')\n",
    "# report performance\n",
    "print('F1: %.3f (%.3f)' % (mean(n_scores1), std(n_scores3)))\n",
    "print('F1: %.3f (%.3f)' % (mean(n_scores2), std(n_scores2)))\n",
    "print('F1: %.3f (%.3f)' % (mean(n_scores3), std(n_scores1)))"
   ]
  },
  {
   "cell_type": "code",
   "execution_count": 44,
   "metadata": {},
   "outputs": [
    {
     "name": "stdout",
     "output_type": "stream",
     "text": [
      "F1: 0.519 (0.115)\n",
      "F1: 0.821 (0.109)\n",
      "F1: 0.780 (0.082)\n"
     ]
    }
   ],
   "source": [
    "n_scores1 = cross_val_score(model, lr1_X, lr1_y, scoring='precision', cv=cv, n_jobs=-1, error_score='raise')\n",
    "n_scores2 = cross_val_score(model, lr2_X, lr2_y, scoring='precision', cv=cv, n_jobs=-1, error_score='raise')\n",
    "n_scores3 = cross_val_score(model, lr3_X, lr3_y, scoring='precision', cv=cv, n_jobs=-1, error_score='raise')\n",
    "# report performance\n",
    "print('F1: %.3f (%.3f)' % (mean(n_scores1), std(n_scores3)))\n",
    "print('F1: %.3f (%.3f)' % (mean(n_scores2), std(n_scores2)))\n",
    "print('F1: %.3f (%.3f)' % (mean(n_scores3), std(n_scores1)))"
   ]
  },
  {
   "cell_type": "code",
   "execution_count": 45,
   "metadata": {},
   "outputs": [
    {
     "name": "stdout",
     "output_type": "stream",
     "text": [
      "F1: 0.588 (0.091)\n",
      "F1: 0.789 (0.096)\n",
      "F1: 0.790 (0.146)\n"
     ]
    }
   ],
   "source": [
    "n_scores1 = cross_val_score(model, lr1_X, lr1_y, scoring='recall', cv=cv, n_jobs=-1, error_score='raise')\n",
    "n_scores2 = cross_val_score(model, lr2_X, lr2_y, scoring='recall', cv=cv, n_jobs=-1, error_score='raise')\n",
    "n_scores3 = cross_val_score(model, lr3_X, lr3_y, scoring='recall', cv=cv, n_jobs=-1, error_score='raise')\n",
    "# report performance\n",
    "print('F1: %.3f (%.3f)' % (mean(n_scores1), std(n_scores3)))\n",
    "print('F1: %.3f (%.3f)' % (mean(n_scores2), std(n_scores2)))\n",
    "print('F1: %.3f (%.3f)' % (mean(n_scores3), std(n_scores1)))"
   ]
  },
  {
   "cell_type": "code",
   "execution_count": 52,
   "metadata": {},
   "outputs": [],
   "source": [
    "from sklearn.model_selection import GridSearchCV\n",
    "model2 = LogisticRegression(random_state=seed)\n",
    "# Define the Param Grid\n",
    "#solver = ['liblinear']\n",
    "#penalty = ['l1']\n",
    "solver = ['newton-cg', 'lbfgs', 'saga']\n",
    "penalty = ['l2']\n",
    "C = [100, 10, 1.0, 0.1, 0.01]\n",
    "params = dict(solver=solver, penalty=penalty, C=C)\n",
    "\n",
    "# Determine the splits and perform the grid search\n",
    "grid = GridSearchCV(model2, params, cv=cv, n_jobs=-1, scoring=['accuracy', 'precision'], refit=False).fit(lr2_X, lr2_y)"
   ]
  },
  {
   "cell_type": "code",
   "execution_count": 47,
   "metadata": {},
   "outputs": [
    {
     "data": {
      "text/plain": [
       "{'mean_fit_time': array([0.05106635, 0.0980648 , 0.01586143, 0.02333293, 0.03060021,\n",
       "        0.0120649 , 0.02139807, 0.01833359, 0.01152964, 0.01573331,\n",
       "        0.0136003 , 0.00673019, 0.01486684, 0.01326529, 0.00599726]),\n",
       " 'std_fit_time': array([0.01190385, 0.02972122, 0.01255469, 0.00243981, 0.00537614,\n",
       "        0.0042966 , 0.00670204, 0.00259797, 0.00674222, 0.00248987,\n",
       "        0.00407915, 0.00373434, 0.00241865, 0.00204971, 0.00379458]),\n",
       " 'mean_score_time': array([0.00513442, 0.00453318, 0.00386998, 0.00413342, 0.00459878,\n",
       "        0.00373438, 0.00373363, 0.0035989 , 0.00373659, 0.00373362,\n",
       "        0.00366575, 0.00493609, 0.00420028, 0.00479984, 0.00466704]),\n",
       " 'std_score_time': array([0.00349835, 0.00080782, 0.00095765, 0.00140792, 0.00189088,\n",
       "        0.00044242, 0.00057288, 0.00049176, 0.00044231, 0.00044116,\n",
       "        0.00047206, 0.00246157, 0.00054173, 0.00155824, 0.00218103]),\n",
       " 'param_C': masked_array(data=[100, 100, 100, 10, 10, 10, 1.0, 1.0, 1.0, 0.1, 0.1,\n",
       "                    0.1, 0.01, 0.01, 0.01],\n",
       "              mask=[False, False, False, False, False, False, False, False,\n",
       "                    False, False, False, False, False, False, False],\n",
       "        fill_value='?',\n",
       "             dtype=object),\n",
       " 'param_penalty': masked_array(data=['l2', 'l2', 'l2', 'l2', 'l2', 'l2', 'l2', 'l2', 'l2',\n",
       "                    'l2', 'l2', 'l2', 'l2', 'l2', 'l2'],\n",
       "              mask=[False, False, False, False, False, False, False, False,\n",
       "                    False, False, False, False, False, False, False],\n",
       "        fill_value='?',\n",
       "             dtype=object),\n",
       " 'param_solver': masked_array(data=['newton-cg', 'lbfgs', 'saga', 'newton-cg', 'lbfgs',\n",
       "                    'saga', 'newton-cg', 'lbfgs', 'saga', 'newton-cg',\n",
       "                    'lbfgs', 'saga', 'newton-cg', 'lbfgs', 'saga'],\n",
       "              mask=[False, False, False, False, False, False, False, False,\n",
       "                    False, False, False, False, False, False, False],\n",
       "        fill_value='?',\n",
       "             dtype=object),\n",
       " 'params': [{'C': 100, 'penalty': 'l2', 'solver': 'newton-cg'},\n",
       "  {'C': 100, 'penalty': 'l2', 'solver': 'lbfgs'},\n",
       "  {'C': 100, 'penalty': 'l2', 'solver': 'saga'},\n",
       "  {'C': 10, 'penalty': 'l2', 'solver': 'newton-cg'},\n",
       "  {'C': 10, 'penalty': 'l2', 'solver': 'lbfgs'},\n",
       "  {'C': 10, 'penalty': 'l2', 'solver': 'saga'},\n",
       "  {'C': 1.0, 'penalty': 'l2', 'solver': 'newton-cg'},\n",
       "  {'C': 1.0, 'penalty': 'l2', 'solver': 'lbfgs'},\n",
       "  {'C': 1.0, 'penalty': 'l2', 'solver': 'saga'},\n",
       "  {'C': 0.1, 'penalty': 'l2', 'solver': 'newton-cg'},\n",
       "  {'C': 0.1, 'penalty': 'l2', 'solver': 'lbfgs'},\n",
       "  {'C': 0.1, 'penalty': 'l2', 'solver': 'saga'},\n",
       "  {'C': 0.01, 'penalty': 'l2', 'solver': 'newton-cg'},\n",
       "  {'C': 0.01, 'penalty': 'l2', 'solver': 'lbfgs'},\n",
       "  {'C': 0.01, 'penalty': 'l2', 'solver': 'saga'}],\n",
       " 'split0_test_accuracy': array([0.72727273, 0.72727273, 0.72727273, 0.68181818, 0.68181818,\n",
       "        0.68181818, 0.68181818, 0.68181818, 0.68181818, 0.68181818,\n",
       "        0.68181818, 0.68181818, 0.68181818, 0.68181818, 0.68181818]),\n",
       " 'split1_test_accuracy': array([0.95238095, 0.95238095, 0.95238095, 0.95238095, 0.95238095,\n",
       "        0.95238095, 0.95238095, 0.95238095, 0.95238095, 0.95238095,\n",
       "        0.95238095, 0.95238095, 0.57142857, 0.57142857, 0.57142857]),\n",
       " 'split2_test_accuracy': array([0.57142857, 0.57142857, 0.57142857, 0.66666667, 0.66666667,\n",
       "        0.66666667, 0.66666667, 0.66666667, 0.66666667, 0.66666667,\n",
       "        0.66666667, 0.66666667, 0.66666667, 0.66666667, 0.66666667]),\n",
       " 'split3_test_accuracy': array([0.80952381, 0.80952381, 0.80952381, 0.80952381, 0.80952381,\n",
       "        0.80952381, 0.85714286, 0.85714286, 0.85714286, 0.9047619 ,\n",
       "        0.9047619 , 0.9047619 , 0.9047619 , 0.9047619 , 0.9047619 ]),\n",
       " 'split4_test_accuracy': array([0.76190476, 0.76190476, 0.76190476, 0.76190476, 0.76190476,\n",
       "        0.76190476, 0.80952381, 0.80952381, 0.80952381, 0.71428571,\n",
       "        0.71428571, 0.71428571, 0.61904762, 0.61904762, 0.61904762]),\n",
       " 'split5_test_accuracy': array([0.81818182, 0.81818182, 0.86363636, 0.86363636, 0.86363636,\n",
       "        0.86363636, 0.81818182, 0.81818182, 0.81818182, 0.68181818,\n",
       "        0.68181818, 0.68181818, 0.72727273, 0.72727273, 0.72727273]),\n",
       " 'split6_test_accuracy': array([0.66666667, 0.66666667, 0.66666667, 0.66666667, 0.66666667,\n",
       "        0.66666667, 0.71428571, 0.71428571, 0.71428571, 0.80952381,\n",
       "        0.80952381, 0.80952381, 0.57142857, 0.57142857, 0.57142857]),\n",
       " 'split7_test_accuracy': array([0.85714286, 0.85714286, 0.85714286, 0.85714286, 0.85714286,\n",
       "        0.85714286, 0.9047619 , 0.9047619 , 0.9047619 , 0.9047619 ,\n",
       "        0.9047619 , 0.9047619 , 0.85714286, 0.85714286, 0.85714286]),\n",
       " 'split8_test_accuracy': array([0.66666667, 0.66666667, 0.71428571, 0.80952381, 0.80952381,\n",
       "        0.80952381, 0.76190476, 0.76190476, 0.76190476, 0.71428571,\n",
       "        0.71428571, 0.71428571, 0.71428571, 0.71428571, 0.71428571]),\n",
       " 'split9_test_accuracy': array([0.71428571, 0.71428571, 0.71428571, 0.71428571, 0.71428571,\n",
       "        0.71428571, 0.71428571, 0.71428571, 0.71428571, 0.71428571,\n",
       "        0.71428571, 0.71428571, 0.61904762, 0.61904762, 0.61904762]),\n",
       " 'split10_test_accuracy': array([0.86363636, 0.86363636, 0.86363636, 0.90909091, 0.90909091,\n",
       "        0.90909091, 0.95454545, 0.95454545, 0.95454545, 0.90909091,\n",
       "        0.90909091, 0.90909091, 0.72727273, 0.72727273, 0.72727273]),\n",
       " 'split11_test_accuracy': array([0.85714286, 0.85714286, 0.85714286, 0.80952381, 0.80952381,\n",
       "        0.80952381, 0.80952381, 0.80952381, 0.80952381, 0.71428571,\n",
       "        0.71428571, 0.71428571, 0.52380952, 0.52380952, 0.52380952]),\n",
       " 'split12_test_accuracy': array([0.57142857, 0.57142857, 0.57142857, 0.57142857, 0.57142857,\n",
       "        0.57142857, 0.71428571, 0.71428571, 0.71428571, 0.71428571,\n",
       "        0.71428571, 0.71428571, 0.66666667, 0.66666667, 0.66666667]),\n",
       " 'split13_test_accuracy': array([0.71428571, 0.71428571, 0.71428571, 0.71428571, 0.71428571,\n",
       "        0.71428571, 0.80952381, 0.80952381, 0.80952381, 0.71428571,\n",
       "        0.71428571, 0.71428571, 0.76190476, 0.76190476, 0.76190476]),\n",
       " 'split14_test_accuracy': array([0.80952381, 0.80952381, 0.80952381, 0.85714286, 0.85714286,\n",
       "        0.85714286, 0.80952381, 0.80952381, 0.80952381, 0.80952381,\n",
       "        0.80952381, 0.80952381, 0.76190476, 0.76190476, 0.76190476]),\n",
       " 'mean_test_accuracy': array([0.75743146, 0.75743146, 0.76363636, 0.77633478, 0.77633478,\n",
       "        0.77633478, 0.798557  , 0.798557  , 0.798557  , 0.77373737,\n",
       "        0.77373737, 0.77373737, 0.69163059, 0.69163059, 0.69163059]),\n",
       " 'std_test_accuracy': array([0.10602222, 0.10602222, 0.10622157, 0.10181191, 0.10181191,\n",
       "        0.10181191, 0.08840948, 0.08840948, 0.08840948, 0.09546368,\n",
       "        0.09546368, 0.09546368, 0.10155143, 0.10155143, 0.10155143]),\n",
       " 'rank_test_accuracy': array([11, 11, 10,  4,  4,  4,  1,  1,  1,  7,  7,  7, 13, 13, 13]),\n",
       " 'split0_test_precision': array([0.69230769, 0.69230769, 0.69230769, 0.66666667, 0.66666667,\n",
       "        0.66666667, 0.66666667, 0.66666667, 0.66666667, 0.66666667,\n",
       "        0.66666667, 0.66666667, 0.64285714, 0.64285714, 0.64285714]),\n",
       " 'split1_test_precision': array([1.        , 1.        , 1.        , 1.        , 1.        ,\n",
       "        1.        , 1.        , 1.        , 1.        , 1.        ,\n",
       "        1.        , 1.        , 0.52631579, 0.52631579, 0.52631579]),\n",
       " 'split2_test_precision': array([0.57142857, 0.57142857, 0.57142857, 0.66666667, 0.66666667,\n",
       "        0.66666667, 0.66666667, 0.66666667, 0.66666667, 0.64285714,\n",
       "        0.64285714, 0.64285714, 0.64285714, 0.64285714, 0.64285714]),\n",
       " 'split3_test_precision': array([0.81818182, 0.81818182, 0.81818182, 0.81818182, 0.81818182,\n",
       "        0.81818182, 0.9       , 0.9       , 0.9       , 0.90909091,\n",
       "        0.90909091, 0.90909091, 0.84615385, 0.84615385, 0.84615385]),\n",
       " 'split4_test_precision': array([0.875     , 0.875     , 0.875     , 0.875     , 0.875     ,\n",
       "        0.875     , 0.81818182, 0.81818182, 0.81818182, 0.69230769,\n",
       "        0.69230769, 0.69230769, 0.57894737, 0.57894737, 0.57894737]),\n",
       " 'split5_test_precision': array([0.81818182, 0.81818182, 0.9       , 0.9       , 0.9       ,\n",
       "        0.9       , 0.88888889, 0.88888889, 0.88888889, 0.7       ,\n",
       "        0.7       , 0.7       , 0.66666667, 0.66666667, 0.66666667]),\n",
       " 'split6_test_precision': array([0.63636364, 0.63636364, 0.63636364, 0.63636364, 0.63636364,\n",
       "        0.63636364, 0.75      , 0.75      , 0.75      , 0.75      ,\n",
       "        0.75      , 0.75      , 0.52631579, 0.52631579, 0.52631579]),\n",
       " 'split7_test_precision': array([0.9       , 0.9       , 0.9       , 0.9       , 0.9       ,\n",
       "        0.9       , 1.        , 1.        , 1.        , 1.        ,\n",
       "        1.        , 1.        , 0.78571429, 0.78571429, 0.78571429]),\n",
       " 'split8_test_precision': array([0.625     , 0.625     , 0.66666667, 0.76923077, 0.76923077,\n",
       "        0.76923077, 0.75      , 0.75      , 0.75      , 0.72727273,\n",
       "        0.72727273, 0.72727273, 0.69230769, 0.69230769, 0.69230769]),\n",
       " 'split9_test_precision': array([0.72727273, 0.72727273, 0.72727273, 0.72727273, 0.72727273,\n",
       "        0.72727273, 0.72727273, 0.72727273, 0.72727273, 0.69230769,\n",
       "        0.69230769, 0.69230769, 0.6       , 0.6       , 0.6       ]),\n",
       " 'split10_test_precision': array([0.83333333, 0.83333333, 0.83333333, 0.90909091, 0.90909091,\n",
       "        0.90909091, 0.91666667, 0.91666667, 0.91666667, 0.84615385,\n",
       "        0.84615385, 0.84615385, 0.64705882, 0.64705882, 0.64705882]),\n",
       " 'split11_test_precision': array([0.88888889, 0.88888889, 0.88888889, 0.875     , 0.875     ,\n",
       "        0.875     , 0.875     , 0.875     , 0.875     , 0.7       ,\n",
       "        0.7       , 0.7       , 0.5       , 0.5       , 0.5       ]),\n",
       " 'split12_test_precision': array([0.58333333, 0.58333333, 0.58333333, 0.58333333, 0.58333333,\n",
       "        0.58333333, 0.69230769, 0.69230769, 0.69230769, 0.66666667,\n",
       "        0.66666667, 0.66666667, 0.61111111, 0.61111111, 0.61111111]),\n",
       " 'split13_test_precision': array([0.77777778, 0.77777778, 0.77777778, 0.77777778, 0.77777778,\n",
       "        0.77777778, 0.88888889, 0.88888889, 0.88888889, 0.85714286,\n",
       "        0.85714286, 0.85714286, 0.75      , 0.75      , 0.75      ]),\n",
       " 'split14_test_precision': array([0.76923077, 0.76923077, 0.76923077, 0.83333333, 0.83333333,\n",
       "        0.83333333, 0.76923077, 0.76923077, 0.76923077, 0.76923077,\n",
       "        0.76923077, 0.76923077, 0.71428571, 0.71428571, 0.71428571]),\n",
       " 'mean_test_precision': array([0.76775336, 0.76775336, 0.77598568, 0.79586118, 0.79586118,\n",
       "        0.79586118, 0.82065139, 0.82065139, 0.82065139, 0.77464646,\n",
       "        0.77464646, 0.77464646, 0.64870609, 0.64870609, 0.64870609]),\n",
       " 'std_test_precision': array([0.12237088, 0.12237088, 0.12339342, 0.11556881, 0.11556881,\n",
       "        0.11556881, 0.10873857, 0.10873857, 0.10873857, 0.11542241,\n",
       "        0.11542241, 0.11542241, 0.09498668, 0.09498668, 0.09498668]),\n",
       " 'rank_test_precision': array([11, 11,  7,  4,  4,  4,  1,  1,  1,  8,  8,  8, 13, 13, 13])}"
      ]
     },
     "execution_count": 47,
     "metadata": {},
     "output_type": "execute_result"
    }
   ],
   "source": [
    "grid.cv_results_"
   ]
  },
  {
   "cell_type": "code",
   "execution_count": 55,
   "metadata": {},
   "outputs": [
    {
     "name": "stdout",
     "output_type": "stream",
     "text": [
      "[0.76775336 0.76775336 0.77598568 0.79586118 0.79586118 0.79586118\n",
      " 0.82065139 0.82065139 0.82065139 0.77464646 0.77464646 0.77464646\n",
      " 0.64870609 0.64870609 0.64870609]\n"
     ]
    }
   ],
   "source": [
    "print(grid.cv_results_['mean_test_precision'])"
   ]
  },
  {
   "cell_type": "code",
   "execution_count": 56,
   "metadata": {},
   "outputs": [],
   "source": [
    "from sklearn.linear_model import LogisticRegression\n",
    "model = LogisticRegression(solver='lbfgs', penalty='l2', C=1, random_state=seed)\n",
    "model = model.fit(lr2_X, lr2_y)\n",
    "# evaluate the model\n",
    "#n_scores1 = cross_val_score(model, lr1_X, lr1_y, scoring='accuracy', cv=cv, n_jobs=-1, error_score='raise')\n",
    "#n_scores2 = cross_val_score(model, lr2_X, lr2_y, scoring='accuracy', cv=cv, n_jobs=-1, error_score='raise')\n",
    "#n_scores3 = cross_val_score(model, lr3_X, lr3_y, scoring='accuracy', cv=cv, n_jobs=-1, error_score='raise')\n",
    "# report performance\n",
    "#print('Accuracy: %.3f (%.3f)' % (mean(n_scores1), std(n_scores3)))\n",
    "#print('Accuracy: %.3f (%.3f)' % (mean(n_scores2), std(n_scores2)))\n",
    "#print('Accuracy: %.3f (%.3f)' % (mean(n_scores3), std(n_scores1)))"
   ]
  },
  {
   "cell_type": "code",
   "execution_count": 58,
   "metadata": {},
   "outputs": [
    {
     "name": "stdout",
     "output_type": "stream",
     "text": [
      "Feature: 0, Score: 2.44794\n",
      "Feature: 1, Score: 0.62001\n",
      "Feature: 2, Score: 0.66828\n",
      "Feature: 3, Score: 0.48137\n",
      "Feature: 4, Score: -0.32162\n",
      "Feature: 5, Score: -0.90063\n",
      "Feature: 6, Score: 1.09815\n",
      "Feature: 7, Score: 0.15046\n",
      "Feature: 8, Score: -0.80792\n",
      "Feature: 9, Score: -0.53602\n",
      "Feature: 10, Score: 0.30609\n",
      "Feature: 11, Score: 0.25218\n",
      "Feature: 12, Score: -0.36013\n",
      "Feature: 13, Score: 0.42317\n",
      "Feature: 14, Score: 1.16845\n",
      "Feature: 15, Score: 1.52767\n"
     ]
    },
    {
     "data": {
      "image/png": "[encoded data removed]",
      "text/plain": [
       "<Figure size 432x288 with 1 Axes>"
      ]
     },
     "metadata": {
      "needs_background": "light"
     },
     "output_type": "display_data"
    }
   ],
   "source": [
    "importance = model.coef_[0]\n",
    "# summarize feature importance\n",
    "for i,v in enumerate(importance):\n",
    "\tprint('Feature: %0d, Score: %.5f' % (i,v))\n",
    "# plot feature importance\n",
    "plt.bar([x for x in range(len(importance))], importance)\n",
    "plt.title('Logistic Regression Feature Importance')\n",
    "plt.show()"
   ]
  },
  {
   "cell_type": "code",
   "execution_count": 59,
   "metadata": {},
   "outputs": [],
   "source": [
    "# define the list of features to keep (excluding Location_Retail park)\n",
    "# update the data frame\n",
    "lr_finalX = lr2_X[:, [0, 5, 6, 14, 15]]"
   ]
  },
  {
   "cell_type": "code",
   "execution_count": 63,
   "metadata": {},
   "outputs": [
    {
     "name": "stdout",
     "output_type": "stream",
     "text": [
      "Accuracy: 0.839 (0.086)\n"
     ]
    }
   ],
   "source": [
    "# define the model\n",
    "n_scores2 = cross_val_score(model, lr_finalX, lr2_y, scoring='recall', cv=cv, n_jobs=-1, error_score='raise')\n",
    "# report performance\n",
    "print('Accuracy: %.3f (%.3f)' % (mean(n_scores2), std(n_scores2)))\n"
   ]
  },
  {
   "cell_type": "code",
   "execution_count": null,
   "metadata": {},
   "outputs": [],
   "source": [
    "selected_features = ['Staff', 'Floor Space', 'Window', 'Car park', 'Demographic score', 'Location_High Street', 'Location_Shopping Centre', 'Location_Village', '40min population',\n",
    "                        '30 min population', '20 min population', '10 min population', 'Store age', 'Clearance space', 'Competition number', 'Competition score', 'Performance']\n"
   ]
  },
  {
   "cell_type": "code",
   "execution_count": null,
   "metadata": {},
   "outputs": [],
   "source": []
  },
  {
   "cell_type": "code",
   "execution_count": null,
   "metadata": {},
   "outputs": [],
   "source": []
  },
  {
   "cell_type": "code",
   "execution_count": null,
   "metadata": {},
   "outputs": [],
   "source": []
  },
  {
   "cell_type": "code",
   "execution_count": null,
   "metadata": {},
   "outputs": [],
   "source": []
  },
  {
   "cell_type": "markdown",
   "metadata": {},
   "source": [
    "### Neural Network"
   ]
  },
  {
   "cell_type": "code",
   "execution_count": 64,
   "metadata": {},
   "outputs": [],
   "source": [
    "# Duplicate training data \n",
    "nn1_X, nn1_y = train_X, train_y\n",
    "nn2_X, nn2_y = train_X, train_y\n",
    "nn3_X, nn3_y = train_X, train_y"
   ]
  },
  {
   "cell_type": "code",
   "execution_count": 65,
   "metadata": {},
   "outputs": [],
   "source": [
    "# Leave 1, Scale 2, Standardise 3\n",
    "from sklearn.preprocessing import MinMaxScaler, StandardScaler\n",
    "mm_scaler = MinMaxScaler()\n",
    "stan_scaler = StandardScaler()\n",
    "nn2_X = mm_scaler.fit_transform(nn2_X)\n",
    "nn3_X = stan_scaler.fit_transform(nn3_X)"
   ]
  },
  {
   "cell_type": "code",
   "execution_count": 70,
   "metadata": {},
   "outputs": [
    {
     "name": "stdout",
     "output_type": "stream",
     "text": [
      "Accuracy: 0.516 (0.103)\n",
      "Accuracy: 0.799 (0.088)\n",
      "Accuracy: 0.773 (0.104)\n"
     ]
    }
   ],
   "source": [
    "# make a new model - MLPRegressor is an artificial neural network\n",
    "from sklearn.neural_network import MLPClassifier\n",
    "mlp_model = MLPClassifier(hidden_layer_sizes=(10), alpha=0.001, batch_size='auto',\n",
    "    learning_rate='constant', learning_rate_init=0.01, max_iter=1000, random_state=seed)\n",
    "\n",
    "# train the model on our training data\n",
    "#mlp_model.fit(X_train, y_train)\n",
    "\n",
    "# evaluate the model\n",
    "cv = RepeatedStratifiedKFold(n_splits=5, n_repeats=3, random_state=seed)\n",
    "n_scores1 = cross_val_score(model, nn1_X, nn1_y, scoring='accuracy', cv=cv, n_jobs=-1, error_score='raise')\n",
    "n_scores2 = cross_val_score(model, nn2_X, nn2_y, scoring='accuracy', cv=cv, n_jobs=-1, error_score='raise')\n",
    "n_scores3 = cross_val_score(model, nn3_X, nn3_y, scoring='accuracy', cv=cv, n_jobs=-1, error_score='raise')\n",
    "# report performance\n",
    "print('Accuracy: %.3f (%.3f)' % (mean(n_scores1), std(n_scores3)))\n",
    "print('Accuracy: %.3f (%.3f)' % (mean(n_scores2), std(n_scores2)))\n",
    "print('Accuracy: %.3f (%.3f)' % (mean(n_scores3), std(n_scores1)))"
   ]
  },
  {
   "cell_type": "code",
   "execution_count": 71,
   "metadata": {},
   "outputs": [],
   "source": [
    "from sklearn.model_selection import GridSearchCV\n",
    "model2 = MLPClassifier(alpha=0.001, batch_size='auto', learning_rate='constant', learning_rate_init=0.01, max_iter=1000, random_state=seed)\n",
    "# Define the Param Grid\n",
    "hidden_layer_sizes = [25, 50, 100]\n",
    "activation = ['relu', 'tanh']\n",
    "solver = ['lbfgs', 'adam']\n",
    "params = dict(hidden_layer_sizes=hidden_layer_sizes, activation=activation, solver=solver)\n",
    "\n",
    "# Determine the splits and perform the grid search\n",
    "grid = GridSearchCV(model2, params, cv=cv, n_jobs=-1, scoring=['accuracy', 'precision'], refit=False).fit(nn2_X, nn2_y)"
   ]
  },
  {
   "cell_type": "code",
   "execution_count": 73,
   "metadata": {},
   "outputs": [
    {
     "name": "stdout",
     "output_type": "stream",
     "text": [
      "[0.73535354 0.72568543 0.75468975 0.74819625 0.76406926 0.74487734\n",
      " 0.75454545 0.73564214 0.74458874 0.74502165 0.75772006 0.73217893]\n"
     ]
    }
   ],
   "source": [
    "print(grid.cv_results_['mean_test_accuracy'])\n",
    "#grid.cv_results_"
   ]
  },
  {
   "cell_type": "code",
   "execution_count": null,
   "metadata": {},
   "outputs": [],
   "source": [
    "#from sklearn.linear_model import LogisticRegression\n",
    "#model = MLPClassifier(hidden_layer_sizes= , solver= , activation= , alpha=0.001, batch_size='auto', learning_rate='constant', learning_rate_init=0.01, max_iter=1000, random_state=seed)\n",
    "#model = model.fit(nn3_X, nn3_y)\n",
    "# evaluate the model\n",
    "#n_scores1 = cross_val_score(model, lr1_X, lr1_y, scoring='accuracy', cv=cv, n_jobs=-1, error_score='raise')\n",
    "#n_scores2 = cross_val_score(model, lr2_X, lr2_y, scoring='accuracy', cv=cv, n_jobs=-1, error_score='raise')\n",
    "#n_scores3 = cross_val_score(model, lr3_X, lr3_y, scoring='accuracy', cv=cv, n_jobs=-1, error_score='raise')\n",
    "# report performance\n",
    "#print('Accuracy: %.3f (%.3f)' % (mean(n_scores1), std(n_scores3)))\n",
    "#print('Accuracy: %.3f (%.3f)' % (mean(n_scores2), std(n_scores2)))\n",
    "#print('Accuracy: %.3f (%.3f)' % (mean(n_scores3), std(n_scores1)))"
   ]
  },
  {
   "cell_type": "code",
   "execution_count": 74,
   "metadata": {},
   "outputs": [],
   "source": [
    "import random\n",
    "\n",
    "def mutationOperator(features):\n",
    "    feat_to_flip = random.choice(range(0,len(features))) \n",
    "    \n",
    "    if(features[feat_to_flip] ==True):\n",
    "        features[feat_to_flip] = False\n",
    "    else:\n",
    "        features[feat_to_flip] = True\n",
    "    \n",
    "    return features"
   ]
  },
  {
   "cell_type": "code",
   "execution_count": 76,
   "metadata": {},
   "outputs": [],
   "source": [
    "def objective(x_train, y_train, model, features_to_include):\n",
    "    # Test Model\n",
    "    score = np.mean(cross_val_score(model, nn2_X[:, features_to_include], nn2_y, cv=cv, scoring='precision'))\n",
    "    return score"
   ]
  },
  {
   "cell_type": "code",
   "execution_count": 77,
   "metadata": {},
   "outputs": [],
   "source": [
    "def localSearchFeatureSelection(x_train, y_train, model, current_x, number_of_iterations):\n",
    "    current_fitness = objective(x_train, y_train, model, current_x)\n",
    "\n",
    "    for i in range(0,number_of_iterations):\n",
    "        # mutate the current solution\n",
    "        new_x = mutationOperator(current_x.copy())\n",
    "        # evaluate it\n",
    "        new_fitness = objective(x_train, y_train, model, new_x)\n",
    "        \n",
    "        if(new_fitness > current_fitness):\n",
    "            current_x = new_x\n",
    "            current_fitness = new_fitness\n",
    "\n",
    "        print(\"Iteration\",i, \": Selected Features:\", str(sum(current_x)),\"/\",str(x_train.shape[1]),\"Fitness:\", current_fitness)\n",
    "    return current_x"
   ]
  },
  {
   "cell_type": "code",
   "execution_count": 78,
   "metadata": {},
   "outputs": [
    {
     "name": "stderr",
     "output_type": "stream",
     "text": [
      "C:\\Users\\admin\\anaconda3\\lib\\site-packages\\sklearn\\neural_network\\_multilayer_perceptron.py:582: ConvergenceWarning: Stochastic Optimizer: Maximum iterations (1000) reached and the optimization hasn't converged yet.\n",
      "  warnings.warn(\n"
     ]
    },
    {
     "name": "stdout",
     "output_type": "stream",
     "text": [
      "The cross validation accuracy on the full training data is 0.7437932437932437\n"
     ]
    }
   ],
   "source": [
    "mlp_model = MLPClassifier(hidden_layer_sizes=(10), alpha=0.001, batch_size='auto',\n",
    "    learning_rate='constant', learning_rate_init=0.01, max_iter=1000, random_state=seed)\n",
    "# every feature is set to True in that it should be included\n",
    "all_features = [True] * (nn3_X.shape[1])\n",
    "# We can test the full feature subset like this\n",
    "print(\"The cross validation accuracy on the full training data is\", objective(nn2_X, nn2_y, mlp_model, all_features))"
   ]
  },
  {
   "cell_type": "code",
   "execution_count": 79,
   "metadata": {},
   "outputs": [
    {
     "name": "stdout",
     "output_type": "stream",
     "text": [
      "Iteration 0 : Selected Features: 16 / 16 Fitness: 0.8206513856513856\n",
      "Iteration 1 : Selected Features: 16 / 16 Fitness: 0.8206513856513856\n",
      "Iteration 2 : Selected Features: 16 / 16 Fitness: 0.8206513856513856\n",
      "Iteration 3 : Selected Features: 16 / 16 Fitness: 0.8206513856513856\n",
      "Iteration 4 : Selected Features: 16 / 16 Fitness: 0.8206513856513856\n",
      "Iteration 5 : Selected Features: 15 / 16 Fitness: 0.8317075517075518\n",
      "Iteration 6 : Selected Features: 14 / 16 Fitness: 0.832989602989603\n",
      "Iteration 7 : Selected Features: 14 / 16 Fitness: 0.832989602989603\n",
      "Iteration 8 : Selected Features: 13 / 16 Fitness: 0.8334946534946536\n",
      "Iteration 9 : Selected Features: 13 / 16 Fitness: 0.8334946534946536\n",
      "Iteration 10 : Selected Features: 12 / 16 Fitness: 0.8426514226514228\n",
      "Iteration 11 : Selected Features: 11 / 16 Fitness: 0.8448899248899249\n",
      "Iteration 12 : Selected Features: 11 / 16 Fitness: 0.8448899248899249\n",
      "Iteration 13 : Selected Features: 11 / 16 Fitness: 0.8448899248899249\n",
      "Iteration 14 : Selected Features: 10 / 16 Fitness: 0.8485936285936286\n",
      "Iteration 15 : Selected Features: 10 / 16 Fitness: 0.8485936285936286\n",
      "Iteration 16 : Selected Features: 9 / 16 Fitness: 0.8493680393680394\n",
      "Iteration 17 : Selected Features: 9 / 16 Fitness: 0.8493680393680394\n",
      "Iteration 18 : Selected Features: 9 / 16 Fitness: 0.8493680393680394\n",
      "Iteration 19 : Selected Features: 9 / 16 Fitness: 0.8493680393680394\n",
      "Iteration 20 : Selected Features: 9 / 16 Fitness: 0.8493680393680394\n",
      "Iteration 21 : Selected Features: 9 / 16 Fitness: 0.8493680393680394\n",
      "Iteration 22 : Selected Features: 9 / 16 Fitness: 0.8493680393680394\n",
      "Iteration 23 : Selected Features: 9 / 16 Fitness: 0.8493680393680394\n",
      "Iteration 24 : Selected Features: 9 / 16 Fitness: 0.8493680393680394\n",
      "Iteration 25 : Selected Features: 9 / 16 Fitness: 0.8493680393680394\n",
      "Iteration 26 : Selected Features: 9 / 16 Fitness: 0.8493680393680394\n",
      "Iteration 27 : Selected Features: 9 / 16 Fitness: 0.8493680393680394\n",
      "Iteration 28 : Selected Features: 9 / 16 Fitness: 0.8493680393680394\n",
      "Iteration 29 : Selected Features: 9 / 16 Fitness: 0.8493680393680394\n",
      "Iteration 30 : Selected Features: 9 / 16 Fitness: 0.8493680393680394\n",
      "Iteration 31 : Selected Features: 9 / 16 Fitness: 0.8493680393680394\n",
      "Iteration 32 : Selected Features: 9 / 16 Fitness: 0.8493680393680394\n",
      "Iteration 33 : Selected Features: 9 / 16 Fitness: 0.8493680393680394\n",
      "Iteration 34 : Selected Features: 9 / 16 Fitness: 0.8493680393680394\n",
      "Iteration 35 : Selected Features: 9 / 16 Fitness: 0.8493680393680394\n",
      "Iteration 36 : Selected Features: 9 / 16 Fitness: 0.8493680393680394\n",
      "Iteration 37 : Selected Features: 9 / 16 Fitness: 0.8493680393680394\n",
      "Iteration 38 : Selected Features: 9 / 16 Fitness: 0.8493680393680394\n",
      "Iteration 39 : Selected Features: 9 / 16 Fitness: 0.8493680393680394\n",
      "Iteration 40 : Selected Features: 9 / 16 Fitness: 0.8493680393680394\n",
      "Iteration 41 : Selected Features: 9 / 16 Fitness: 0.8493680393680394\n",
      "Iteration 42 : Selected Features: 9 / 16 Fitness: 0.8493680393680394\n",
      "Iteration 43 : Selected Features: 9 / 16 Fitness: 0.8493680393680394\n",
      "Iteration 44 : Selected Features: 9 / 16 Fitness: 0.8493680393680394\n",
      "Iteration 45 : Selected Features: 9 / 16 Fitness: 0.8493680393680394\n",
      "Iteration 46 : Selected Features: 9 / 16 Fitness: 0.8493680393680394\n",
      "Iteration 47 : Selected Features: 9 / 16 Fitness: 0.8493680393680394\n",
      "Iteration 48 : Selected Features: 9 / 16 Fitness: 0.8493680393680394\n",
      "Iteration 49 : Selected Features: 9 / 16 Fitness: 0.8493680393680394\n",
      "Iteration 50 : Selected Features: 9 / 16 Fitness: 0.8493680393680394\n",
      "Iteration 51 : Selected Features: 9 / 16 Fitness: 0.8493680393680394\n",
      "Iteration 52 : Selected Features: 9 / 16 Fitness: 0.8493680393680394\n",
      "Iteration 53 : Selected Features: 9 / 16 Fitness: 0.8493680393680394\n",
      "Iteration 54 : Selected Features: 9 / 16 Fitness: 0.8493680393680394\n",
      "Iteration 55 : Selected Features: 9 / 16 Fitness: 0.8493680393680394\n",
      "Iteration 56 : Selected Features: 9 / 16 Fitness: 0.8493680393680394\n",
      "Iteration 57 : Selected Features: 9 / 16 Fitness: 0.8493680393680394\n",
      "Iteration 58 : Selected Features: 9 / 16 Fitness: 0.8493680393680394\n",
      "Iteration 59 : Selected Features: 9 / 16 Fitness: 0.8493680393680394\n",
      "Iteration 60 : Selected Features: 9 / 16 Fitness: 0.8493680393680394\n",
      "Iteration 61 : Selected Features: 9 / 16 Fitness: 0.8493680393680394\n",
      "Iteration 62 : Selected Features: 9 / 16 Fitness: 0.8493680393680394\n",
      "Iteration 63 : Selected Features: 9 / 16 Fitness: 0.8493680393680394\n",
      "Iteration 64 : Selected Features: 9 / 16 Fitness: 0.8493680393680394\n",
      "Iteration 65 : Selected Features: 9 / 16 Fitness: 0.8493680393680394\n",
      "Iteration 66 : Selected Features: 9 / 16 Fitness: 0.8493680393680394\n",
      "Iteration 67 : Selected Features: 9 / 16 Fitness: 0.8493680393680394\n",
      "Iteration 68 : Selected Features: 9 / 16 Fitness: 0.8493680393680394\n",
      "Iteration 69 : Selected Features: 9 / 16 Fitness: 0.8493680393680394\n",
      "Iteration 70 : Selected Features: 9 / 16 Fitness: 0.8493680393680394\n",
      "Iteration 71 : Selected Features: 9 / 16 Fitness: 0.8493680393680394\n",
      "Iteration 72 : Selected Features: 9 / 16 Fitness: 0.8493680393680394\n",
      "Iteration 73 : Selected Features: 9 / 16 Fitness: 0.8493680393680394\n",
      "Iteration 74 : Selected Features: 9 / 16 Fitness: 0.8493680393680394\n",
      "Iteration 75 : Selected Features: 9 / 16 Fitness: 0.8493680393680394\n",
      "Iteration 76 : Selected Features: 9 / 16 Fitness: 0.8493680393680394\n",
      "Iteration 77 : Selected Features: 9 / 16 Fitness: 0.8493680393680394\n",
      "Iteration 78 : Selected Features: 9 / 16 Fitness: 0.8493680393680394\n",
      "Iteration 79 : Selected Features: 9 / 16 Fitness: 0.8493680393680394\n",
      "Iteration 80 : Selected Features: 9 / 16 Fitness: 0.8493680393680394\n",
      "Iteration 81 : Selected Features: 9 / 16 Fitness: 0.8493680393680394\n",
      "Iteration 82 : Selected Features: 9 / 16 Fitness: 0.8493680393680394\n",
      "Iteration 83 : Selected Features: 9 / 16 Fitness: 0.8493680393680394\n",
      "Iteration 84 : Selected Features: 9 / 16 Fitness: 0.8493680393680394\n",
      "Iteration 85 : Selected Features: 9 / 16 Fitness: 0.8493680393680394\n",
      "Iteration 86 : Selected Features: 9 / 16 Fitness: 0.8493680393680394\n",
      "Iteration 87 : Selected Features: 9 / 16 Fitness: 0.8493680393680394\n",
      "Iteration 88 : Selected Features: 9 / 16 Fitness: 0.8493680393680394\n",
      "Iteration 89 : Selected Features: 9 / 16 Fitness: 0.8493680393680394\n",
      "Iteration 90 : Selected Features: 9 / 16 Fitness: 0.8493680393680394\n",
      "Iteration 91 : Selected Features: 9 / 16 Fitness: 0.8493680393680394\n",
      "Iteration 92 : Selected Features: 9 / 16 Fitness: 0.8493680393680394\n",
      "Iteration 93 : Selected Features: 9 / 16 Fitness: 0.8493680393680394\n",
      "Iteration 94 : Selected Features: 9 / 16 Fitness: 0.8493680393680394\n",
      "Iteration 95 : Selected Features: 9 / 16 Fitness: 0.8493680393680394\n",
      "Iteration 96 : Selected Features: 9 / 16 Fitness: 0.8493680393680394\n",
      "Iteration 97 : Selected Features: 9 / 16 Fitness: 0.8493680393680394\n",
      "Iteration 98 : Selected Features: 9 / 16 Fitness: 0.8493680393680394\n",
      "Iteration 99 : Selected Features: 9 / 16 Fitness: 0.8493680393680394\n",
      "Iteration 100 : Selected Features: 9 / 16 Fitness: 0.8493680393680394\n",
      "Iteration 101 : Selected Features: 9 / 16 Fitness: 0.8493680393680394\n",
      "Iteration 102 : Selected Features: 9 / 16 Fitness: 0.8493680393680394\n",
      "Iteration 103 : Selected Features: 9 / 16 Fitness: 0.8493680393680394\n",
      "Iteration 104 : Selected Features: 9 / 16 Fitness: 0.8493680393680394\n",
      "Iteration 105 : Selected Features: 9 / 16 Fitness: 0.8493680393680394\n",
      "Iteration 106 : Selected Features: 9 / 16 Fitness: 0.8493680393680394\n",
      "Iteration 107 : Selected Features: 9 / 16 Fitness: 0.8493680393680394\n",
      "Iteration 108 : Selected Features: 9 / 16 Fitness: 0.8493680393680394\n",
      "Iteration 109 : Selected Features: 9 / 16 Fitness: 0.8493680393680394\n",
      "Iteration 110 : Selected Features: 9 / 16 Fitness: 0.8493680393680394\n",
      "Iteration 111 : Selected Features: 9 / 16 Fitness: 0.8493680393680394\n",
      "Iteration 112 : Selected Features: 9 / 16 Fitness: 0.8493680393680394\n",
      "Iteration 113 : Selected Features: 9 / 16 Fitness: 0.8493680393680394\n",
      "Iteration 114 : Selected Features: 9 / 16 Fitness: 0.8493680393680394\n",
      "Iteration 115 : Selected Features: 9 / 16 Fitness: 0.8493680393680394\n",
      "Iteration 116 : Selected Features: 9 / 16 Fitness: 0.8493680393680394\n",
      "Iteration 117 : Selected Features: 9 / 16 Fitness: 0.8493680393680394\n",
      "Iteration 118 : Selected Features: 9 / 16 Fitness: 0.8493680393680394\n"
     ]
    },
    {
     "name": "stdout",
     "output_type": "stream",
     "text": [
      "Iteration 119 : Selected Features: 9 / 16 Fitness: 0.8493680393680394\n",
      "Iteration 120 : Selected Features: 9 / 16 Fitness: 0.8493680393680394\n",
      "Iteration 121 : Selected Features: 9 / 16 Fitness: 0.8493680393680394\n",
      "Iteration 122 : Selected Features: 9 / 16 Fitness: 0.8493680393680394\n",
      "Iteration 123 : Selected Features: 9 / 16 Fitness: 0.8493680393680394\n",
      "Iteration 124 : Selected Features: 9 / 16 Fitness: 0.8493680393680394\n",
      "Iteration 125 : Selected Features: 9 / 16 Fitness: 0.8493680393680394\n",
      "Iteration 126 : Selected Features: 9 / 16 Fitness: 0.8493680393680394\n",
      "Iteration 127 : Selected Features: 9 / 16 Fitness: 0.8493680393680394\n",
      "Iteration 128 : Selected Features: 9 / 16 Fitness: 0.8493680393680394\n",
      "Iteration 129 : Selected Features: 9 / 16 Fitness: 0.8493680393680394\n",
      "Iteration 130 : Selected Features: 9 / 16 Fitness: 0.8493680393680394\n",
      "Iteration 131 : Selected Features: 9 / 16 Fitness: 0.8493680393680394\n",
      "Iteration 132 : Selected Features: 9 / 16 Fitness: 0.8493680393680394\n",
      "Iteration 133 : Selected Features: 9 / 16 Fitness: 0.8493680393680394\n",
      "Iteration 134 : Selected Features: 9 / 16 Fitness: 0.8493680393680394\n",
      "Iteration 135 : Selected Features: 9 / 16 Fitness: 0.8493680393680394\n",
      "Iteration 136 : Selected Features: 9 / 16 Fitness: 0.8493680393680394\n",
      "Iteration 137 : Selected Features: 9 / 16 Fitness: 0.8493680393680394\n",
      "Iteration 138 : Selected Features: 9 / 16 Fitness: 0.8493680393680394\n",
      "Iteration 139 : Selected Features: 9 / 16 Fitness: 0.8493680393680394\n",
      "Iteration 140 : Selected Features: 9 / 16 Fitness: 0.8493680393680394\n",
      "Iteration 141 : Selected Features: 9 / 16 Fitness: 0.8493680393680394\n",
      "Iteration 142 : Selected Features: 9 / 16 Fitness: 0.8493680393680394\n",
      "Iteration 143 : Selected Features: 9 / 16 Fitness: 0.8493680393680394\n",
      "Iteration 144 : Selected Features: 9 / 16 Fitness: 0.8493680393680394\n",
      "Iteration 145 : Selected Features: 9 / 16 Fitness: 0.8493680393680394\n",
      "Iteration 146 : Selected Features: 9 / 16 Fitness: 0.8493680393680394\n",
      "Iteration 147 : Selected Features: 9 / 16 Fitness: 0.8493680393680394\n",
      "Iteration 148 : Selected Features: 9 / 16 Fitness: 0.8493680393680394\n",
      "Iteration 149 : Selected Features: 9 / 16 Fitness: 0.8493680393680394\n"
     ]
    }
   ],
   "source": [
    "number_of_iterations = 150\n",
    "best_subset = localSearchFeatureSelection(nn2_X, nn2_y, model, all_features, number_of_iterations)"
   ]
  },
  {
   "cell_type": "code",
   "execution_count": 80,
   "metadata": {},
   "outputs": [
    {
     "name": "stdout",
     "output_type": "stream",
     "text": [
      "[True, False, True, False, False, True, True, True, False, False, True, False, True, False, True, True]\n"
     ]
    }
   ],
   "source": [
    "print(best_subset)"
   ]
  },
  {
   "cell_type": "code",
   "execution_count": 81,
   "metadata": {},
   "outputs": [],
   "source": [
    "# define the list of features to keep (excluding Location_Retail park)\n",
    "# update the data frame\n",
    "nn_finalX = nn3_X[:, [0, 2, 5, 6, 7, 10, 12, 14, 15]]"
   ]
  },
  {
   "cell_type": "code",
   "execution_count": 85,
   "metadata": {},
   "outputs": [
    {
     "name": "stdout",
     "output_type": "stream",
     "text": [
      "Accuracy: 0.666 (0.122)\n"
     ]
    }
   ],
   "source": [
    "# define the model\n",
    "n_scores2 = cross_val_score(mlp_model, nn_finalX, nn2_y, scoring='recall', cv=cv, n_jobs=-1, error_score='raise')\n",
    "# report performance\n",
    "print('Accuracy: %.3f (%.3f)' % (mean(n_scores2), std(n_scores2)))\n"
   ]
  },
  {
   "cell_type": "code",
   "execution_count": null,
   "metadata": {},
   "outputs": [],
   "source": [
    "selected_features = ['Staff', 'Floor Space', 'Window', 'Car park', 'Demographic score', 'Location_High Street', 'Location_Shopping Centre', 'Location_Village', '40min population',\n",
    "                        '30 min population', '20 min population', '10 min population', 'Store age', 'Clearance space', 'Competition number', 'Competition score', 'Performance']\n"
   ]
  },
  {
   "cell_type": "markdown",
   "metadata": {},
   "source": [
    "## Final Model"
   ]
  },
  {
   "cell_type": "code",
   "execution_count": 108,
   "metadata": {},
   "outputs": [],
   "source": [
    "# Define model with hyperparameters tuned\n",
    "model = LogisticRegression(solver='lbfgs', penalty='l2', C=1, random_state=seed)\n",
    "# Create subset of features\n",
    "train_X_final2 = train_X[:, [0, 5, 6, 14, 15]]\n",
    "# Normalise data\n",
    "train_X_final2 = mm_scaler.fit_transform(train_X_final2)"
   ]
  },
  {
   "cell_type": "code",
   "execution_count": 125,
   "metadata": {},
   "outputs": [
    {
     "name": "stdout",
     "output_type": "stream",
     "text": [
      "0.8207547169811321\n",
      "[[41 11]\n",
      " [ 8 46]]\n",
      "0.8207547169811321\n",
      "classification error 0.1792452830188679\n",
      "Recall 0.8518518518518519\n",
      "Specificity 0.7884615384615384\n",
      "False Postive Rate 0.21153846153846154\n",
      "Precision 0.8070175438596491\n",
      "f1 0.8288288288288288\n"
     ]
    }
   ],
   "source": [
    "# Test model\n",
    "model_final = model.fit(train_X_final2, train_y)\n",
    "\n",
    "# report performance\n",
    "y_train_pred = model.predict(train_X_final2)\n",
    "\n",
    "# Accuracy\n",
    "from sklearn import metrics\n",
    "print(metrics.accuracy_score(train_y, y_train_pred))\n",
    "\n",
    "# Confusion Matrix\n",
    "confusion = metrics.confusion_matrix(train_y, y_train_pred)\n",
    "print(confusion)\n",
    "TP = confusion[1, 1]\n",
    "TN = confusion[0, 0]\n",
    "FP = confusion[0, 1]\n",
    "FN = confusion[1, 0]\n",
    "print((TP + TN) / float(TP + TN + FP + FN))\n",
    "classification_error = (FP + FN) / float(TP + TN + FP + FN)\n",
    "print(\"classification error\", classification_error)\n",
    "sensitivity = TP / float(FN + TP)\n",
    "print(\"Recall\", sensitivity)\n",
    "specificity = TN / (TN + FP)\n",
    "print(\"Specificity\", specificity)\n",
    "false_positive_rate = FP / float(TN + FP)\n",
    "print(\"False Postive Rate\", false_positive_rate)\n",
    "precision = TP / float(TP + FP)\n",
    "print(\"Precision\", precision)\n",
    "f1 = 2*((precision*sensitivity)/(precision+sensitivity))\n",
    "print(\"f1\", f1)"
   ]
  },
  {
   "cell_type": "code",
   "execution_count": null,
   "metadata": {},
   "outputs": [],
   "source": []
  },
  {
   "cell_type": "markdown",
   "metadata": {},
   "source": [
    "## Performance Against Test Data"
   ]
  },
  {
   "cell_type": "code",
   "execution_count": 173,
   "metadata": {},
   "outputs": [],
   "source": [
    "# Perform pipeline steps to synchronise data\n",
    "# Remove previously identified staff number errors\n",
    "badStaff = [-2, 300, 600]\n",
    "test_set = test_set[~test_set.Staff.isin(badStaff)]\n",
    "\n",
    "# Map Car park values to 0 and 1\n",
    "test_set['Car park'] = test_set['Car park'].replace({'No':0, 'N':0, 'Yes':1, 'Y':1})\n",
    "# Map Performance values to 0 and 1\n",
    "test_set['Performance'] = test_set['Performance'].replace({'Bad':0, 'Good':1})\n",
    "\n",
    "# One-hot encode Location - Correlation anaylsis shows Location_Retail park is the least correlated\n",
    "test_set = pd.get_dummies(test_set, prefix_sep='_', columns=['Location'], drop_first=False)\n",
    "\n",
    "# Re-sequence index\n",
    "test_set = test_set.reset_index(drop=True)\n",
    "\n",
    "# define the list of features to keep (excluding Location_Retail park)\n",
    "#selected_features = ['Staff', 'Location_High Street', 'Location_Shopping Centre', 'Competition number', 'Competition score', 'Performance']\n",
    "\n",
    "# update the data frame\n",
    "#test_set = test_set[selected_features]"
   ]
  },
  {
   "cell_type": "code",
   "execution_count": 190,
   "metadata": {},
   "outputs": [],
   "source": [
    "# Define model with hyperparameters tuned\n",
    "#model = LogisticRegression(solver='lbfgs', penalty='l2', C=1, random_state=seed)\n",
    "# Create subset of features\n",
    "#selected_features = ['Staff', 'Floor Space', 'Window', 'Car park', 'Demographic score', 'Location_High Street', 'Location_Shopping Centre', 'Location_Retail Park', '40min population',\n",
    "#                        '30 min population', '20 min population', '10 min population', 'Store age', 'Clearance space', 'Competition number', 'Competition score']\n",
    "#test_X = test_set[selected_features]\n",
    "# Final prep\n",
    "# Normalise data using scaler transform\n",
    "#train_X2 = mm_scaler.fit_transform(train_X)\n",
    "#test_X_final = mm_scaler.transform(test_X)\n",
    "test_X_final = test_set[['Staff', 'Location_High Street', 'Location_Shopping Centre', 'Competition number', 'Competition score']]\n",
    "#test_y = test_set[['Performance']]\n"
   ]
  },
  {
   "cell_type": "code",
   "execution_count": 191,
   "metadata": {},
   "outputs": [
    {
     "data": {
      "text/html": [
       "<div>\n",
       "<style scoped>\n",
       "    .dataframe tbody tr th:only-of-type {\n",
       "        vertical-align: middle;\n",
       "    }\n",
       "\n",
       "    .dataframe tbody tr th {\n",
       "        vertical-align: top;\n",
       "    }\n",
       "\n",
       "    .dataframe thead th {\n",
       "        text-align: right;\n",
       "    }\n",
       "</style>\n",
       "<table border=\"1\" class=\"dataframe\">\n",
       "  <thead>\n",
       "    <tr style=\"text-align: right;\">\n",
       "      <th></th>\n",
       "      <th>Staff</th>\n",
       "      <th>Location_High Street</th>\n",
       "      <th>Location_Shopping Centre</th>\n",
       "      <th>Competition number</th>\n",
       "      <th>Competition score</th>\n",
       "    </tr>\n",
       "  </thead>\n",
       "  <tbody>\n",
       "    <tr>\n",
       "      <th>0</th>\n",
       "      <td>5</td>\n",
       "      <td>0</td>\n",
       "      <td>0</td>\n",
       "      <td>12</td>\n",
       "      <td>18</td>\n",
       "    </tr>\n",
       "    <tr>\n",
       "      <th>1</th>\n",
       "      <td>9</td>\n",
       "      <td>1</td>\n",
       "      <td>0</td>\n",
       "      <td>18</td>\n",
       "      <td>13</td>\n",
       "    </tr>\n",
       "    <tr>\n",
       "      <th>2</th>\n",
       "      <td>9</td>\n",
       "      <td>0</td>\n",
       "      <td>1</td>\n",
       "      <td>17</td>\n",
       "      <td>19</td>\n",
       "    </tr>\n",
       "    <tr>\n",
       "      <th>3</th>\n",
       "      <td>5</td>\n",
       "      <td>1</td>\n",
       "      <td>0</td>\n",
       "      <td>12</td>\n",
       "      <td>11</td>\n",
       "    </tr>\n",
       "    <tr>\n",
       "      <th>4</th>\n",
       "      <td>9</td>\n",
       "      <td>0</td>\n",
       "      <td>1</td>\n",
       "      <td>11</td>\n",
       "      <td>10</td>\n",
       "    </tr>\n",
       "    <tr>\n",
       "      <th>5</th>\n",
       "      <td>8</td>\n",
       "      <td>1</td>\n",
       "      <td>0</td>\n",
       "      <td>10</td>\n",
       "      <td>11</td>\n",
       "    </tr>\n",
       "    <tr>\n",
       "      <th>6</th>\n",
       "      <td>9</td>\n",
       "      <td>1</td>\n",
       "      <td>0</td>\n",
       "      <td>11</td>\n",
       "      <td>13</td>\n",
       "    </tr>\n",
       "    <tr>\n",
       "      <th>7</th>\n",
       "      <td>5</td>\n",
       "      <td>0</td>\n",
       "      <td>1</td>\n",
       "      <td>15</td>\n",
       "      <td>16</td>\n",
       "    </tr>\n",
       "    <tr>\n",
       "      <th>8</th>\n",
       "      <td>7</td>\n",
       "      <td>0</td>\n",
       "      <td>0</td>\n",
       "      <td>14</td>\n",
       "      <td>12</td>\n",
       "    </tr>\n",
       "    <tr>\n",
       "      <th>9</th>\n",
       "      <td>7</td>\n",
       "      <td>1</td>\n",
       "      <td>0</td>\n",
       "      <td>10</td>\n",
       "      <td>17</td>\n",
       "    </tr>\n",
       "    <tr>\n",
       "      <th>10</th>\n",
       "      <td>7</td>\n",
       "      <td>0</td>\n",
       "      <td>0</td>\n",
       "      <td>19</td>\n",
       "      <td>16</td>\n",
       "    </tr>\n",
       "    <tr>\n",
       "      <th>11</th>\n",
       "      <td>5</td>\n",
       "      <td>0</td>\n",
       "      <td>1</td>\n",
       "      <td>13</td>\n",
       "      <td>14</td>\n",
       "    </tr>\n",
       "    <tr>\n",
       "      <th>12</th>\n",
       "      <td>6</td>\n",
       "      <td>0</td>\n",
       "      <td>1</td>\n",
       "      <td>15</td>\n",
       "      <td>15</td>\n",
       "    </tr>\n",
       "    <tr>\n",
       "      <th>13</th>\n",
       "      <td>7</td>\n",
       "      <td>1</td>\n",
       "      <td>0</td>\n",
       "      <td>11</td>\n",
       "      <td>18</td>\n",
       "    </tr>\n",
       "    <tr>\n",
       "      <th>14</th>\n",
       "      <td>5</td>\n",
       "      <td>1</td>\n",
       "      <td>0</td>\n",
       "      <td>16</td>\n",
       "      <td>13</td>\n",
       "    </tr>\n",
       "    <tr>\n",
       "      <th>15</th>\n",
       "      <td>6</td>\n",
       "      <td>0</td>\n",
       "      <td>1</td>\n",
       "      <td>12</td>\n",
       "      <td>11</td>\n",
       "    </tr>\n",
       "    <tr>\n",
       "      <th>16</th>\n",
       "      <td>5</td>\n",
       "      <td>0</td>\n",
       "      <td>0</td>\n",
       "      <td>10</td>\n",
       "      <td>13</td>\n",
       "    </tr>\n",
       "    <tr>\n",
       "      <th>17</th>\n",
       "      <td>5</td>\n",
       "      <td>1</td>\n",
       "      <td>0</td>\n",
       "      <td>17</td>\n",
       "      <td>14</td>\n",
       "    </tr>\n",
       "    <tr>\n",
       "      <th>18</th>\n",
       "      <td>5</td>\n",
       "      <td>0</td>\n",
       "      <td>0</td>\n",
       "      <td>15</td>\n",
       "      <td>15</td>\n",
       "    </tr>\n",
       "    <tr>\n",
       "      <th>19</th>\n",
       "      <td>7</td>\n",
       "      <td>0</td>\n",
       "      <td>0</td>\n",
       "      <td>15</td>\n",
       "      <td>10</td>\n",
       "    </tr>\n",
       "    <tr>\n",
       "      <th>20</th>\n",
       "      <td>7</td>\n",
       "      <td>1</td>\n",
       "      <td>0</td>\n",
       "      <td>13</td>\n",
       "      <td>17</td>\n",
       "    </tr>\n",
       "    <tr>\n",
       "      <th>21</th>\n",
       "      <td>8</td>\n",
       "      <td>1</td>\n",
       "      <td>0</td>\n",
       "      <td>12</td>\n",
       "      <td>14</td>\n",
       "    </tr>\n",
       "    <tr>\n",
       "      <th>22</th>\n",
       "      <td>8</td>\n",
       "      <td>0</td>\n",
       "      <td>1</td>\n",
       "      <td>10</td>\n",
       "      <td>17</td>\n",
       "    </tr>\n",
       "    <tr>\n",
       "      <th>23</th>\n",
       "      <td>9</td>\n",
       "      <td>0</td>\n",
       "      <td>1</td>\n",
       "      <td>13</td>\n",
       "      <td>10</td>\n",
       "    </tr>\n",
       "    <tr>\n",
       "      <th>24</th>\n",
       "      <td>5</td>\n",
       "      <td>1</td>\n",
       "      <td>0</td>\n",
       "      <td>14</td>\n",
       "      <td>17</td>\n",
       "    </tr>\n",
       "    <tr>\n",
       "      <th>25</th>\n",
       "      <td>6</td>\n",
       "      <td>1</td>\n",
       "      <td>0</td>\n",
       "      <td>15</td>\n",
       "      <td>17</td>\n",
       "    </tr>\n",
       "    <tr>\n",
       "      <th>26</th>\n",
       "      <td>5</td>\n",
       "      <td>1</td>\n",
       "      <td>0</td>\n",
       "      <td>13</td>\n",
       "      <td>17</td>\n",
       "    </tr>\n",
       "  </tbody>\n",
       "</table>\n",
       "</div>"
      ],
      "text/plain": [
       "    Staff  Location_High Street  Location_Shopping Centre  Competition number  \\\n",
       "0       5                     0                         0                  12   \n",
       "1       9                     1                         0                  18   \n",
       "2       9                     0                         1                  17   \n",
       "3       5                     1                         0                  12   \n",
       "4       9                     0                         1                  11   \n",
       "5       8                     1                         0                  10   \n",
       "6       9                     1                         0                  11   \n",
       "7       5                     0                         1                  15   \n",
       "8       7                     0                         0                  14   \n",
       "9       7                     1                         0                  10   \n",
       "10      7                     0                         0                  19   \n",
       "11      5                     0                         1                  13   \n",
       "12      6                     0                         1                  15   \n",
       "13      7                     1                         0                  11   \n",
       "14      5                     1                         0                  16   \n",
       "15      6                     0                         1                  12   \n",
       "16      5                     0                         0                  10   \n",
       "17      5                     1                         0                  17   \n",
       "18      5                     0                         0                  15   \n",
       "19      7                     0                         0                  15   \n",
       "20      7                     1                         0                  13   \n",
       "21      8                     1                         0                  12   \n",
       "22      8                     0                         1                  10   \n",
       "23      9                     0                         1                  13   \n",
       "24      5                     1                         0                  14   \n",
       "25      6                     1                         0                  15   \n",
       "26      5                     1                         0                  13   \n",
       "\n",
       "    Competition score  \n",
       "0                  18  \n",
       "1                  13  \n",
       "2                  19  \n",
       "3                  11  \n",
       "4                  10  \n",
       "5                  11  \n",
       "6                  13  \n",
       "7                  16  \n",
       "8                  12  \n",
       "9                  17  \n",
       "10                 16  \n",
       "11                 14  \n",
       "12                 15  \n",
       "13                 18  \n",
       "14                 13  \n",
       "15                 11  \n",
       "16                 13  \n",
       "17                 14  \n",
       "18                 15  \n",
       "19                 10  \n",
       "20                 17  \n",
       "21                 14  \n",
       "22                 17  \n",
       "23                 10  \n",
       "24                 17  \n",
       "25                 17  \n",
       "26                 17  "
      ]
     },
     "execution_count": 191,
     "metadata": {},
     "output_type": "execute_result"
    }
   ],
   "source": [
    "test_X_final"
   ]
  },
  {
   "cell_type": "code",
   "execution_count": 195,
   "metadata": {},
   "outputs": [
    {
     "name": "stdout",
     "output_type": "stream",
     "text": [
      "0.7777777777777778\n",
      "[[11  3]\n",
      " [ 3 10]]\n",
      "0.7777777777777778\n",
      "classification error 0.2222222222222222\n",
      "Recall 0.7692307692307693\n",
      "Specificity 0.7857142857142857\n",
      "False Postive Rate 0.21428571428571427\n",
      "Precision 0.7692307692307693\n",
      "f1 0.7692307692307693\n",
      "AUC score 0.7774725274725275\n"
     ]
    },
    {
     "name": "stderr",
     "output_type": "stream",
     "text": [
      "C:\\Users\\admin\\anaconda3\\lib\\site-packages\\sklearn\\utils\\validation.py:73: DataConversionWarning: A column-vector y was passed when a 1d array was expected. Please change the shape of y to (n_samples, ), for example using ravel().\n",
      "  return f(**kwargs)\n"
     ]
    }
   ],
   "source": [
    "# Test model\n",
    "model_final = model.fit(test_X_final, test_y)\n",
    "\n",
    "# report performance\n",
    "y_test_pred = model.predict(test_X_final)\n",
    "\n",
    "# Accuracy\n",
    "from sklearn import metrics\n",
    "print(metrics.accuracy_score(test_y, y_test_pred))\n",
    "\n",
    "# Confusion Matrix\n",
    "confusion = metrics.confusion_matrix(test_y, y_test_pred)\n",
    "print(confusion)\n",
    "TP = confusion[1, 1]\n",
    "TN = confusion[0, 0]\n",
    "FP = confusion[0, 1]\n",
    "FN = confusion[1, 0]\n",
    "print((TP + TN) / float(TP + TN + FP + FN))\n",
    "classification_error = (FP + FN) / float(TP + TN + FP + FN)\n",
    "print(\"classification error\", classification_error)\n",
    "sensitivity = TP / float(FN + TP)\n",
    "print(\"Recall\", sensitivity)\n",
    "specificity = TN / (TN + FP)\n",
    "print(\"Specificity\", specificity)\n",
    "false_positive_rate = FP / float(TN + FP)\n",
    "print(\"False Postive Rate\", false_positive_rate)\n",
    "precision = TP / float(TP + FP)\n",
    "print(\"Precision\", precision)\n",
    "f1 = 2*((precision*sensitivity)/(precision+sensitivity))\n",
    "print(\"f1\", f1)\n",
    "print(\"AUC score\", metrics.roc_auc_score(test_y, y_test_pred))"
   ]
  },
  {
   "cell_type": "code",
   "execution_count": 209,
   "metadata": {},
   "outputs": [
    {
     "data": {
      "image/png": "[encoded data removed]",
      "text/plain": [
       "<Figure size 432x288 with 1 Axes>"
      ]
     },
     "metadata": {
      "needs_background": "light"
     },
     "output_type": "display_data"
    }
   ],
   "source": [
    "# we pass y_test and y_pred_prob\n",
    "# we do not use y_pred_class, because it will give incorrect results without generating an error\n",
    "# roc_curve returns 3 objects fpr, tpr, thresholds\n",
    "# fpr: false positive rate\n",
    "# tpr: true positive rate\n",
    "fpr, tpr, thresholds = metrics.roc_curve(test_y, y_test_pred)\n",
    "\n",
    "plt.plot(fpr, tpr)\n",
    "plt.xlim([0.0, 1.0])\n",
    "plt.ylim([0.0, 1.0])\n",
    "plt.plot([0, 0.2, 0.4, 0.6, 0.8, 1.0], [0, 0.2, 0.4, 0.6, 0.8, 1.0], linestyle=\"dashed\")\n",
    "plt.rcParams['font.size'] = 12\n",
    "plt.title('ROC curve for store performance classifier')\n",
    "plt.xlabel('False Positive Rate (1 - Specificity)')\n",
    "plt.ylabel('True Positive Rate (Sensitivity)')\n",
    "plt.grid(True)"
   ]
  },
  {
   "cell_type": "code",
   "execution_count": 235,
   "metadata": {},
   "outputs": [
    {
     "data": {
      "text/html": [
       "<div>\n",
       "<style scoped>\n",
       "    .dataframe tbody tr th:only-of-type {\n",
       "        vertical-align: middle;\n",
       "    }\n",
       "\n",
       "    .dataframe tbody tr th {\n",
       "        vertical-align: top;\n",
       "    }\n",
       "\n",
       "    .dataframe thead th {\n",
       "        text-align: right;\n",
       "    }\n",
       "</style>\n",
       "<table border=\"1\" class=\"dataframe\">\n",
       "  <thead>\n",
       "    <tr style=\"text-align: right;\">\n",
       "      <th></th>\n",
       "      <th>Staff</th>\n",
       "      <th>Location_High Street</th>\n",
       "      <th>Location_Shopping Centre</th>\n",
       "      <th>Competition number</th>\n",
       "      <th>Competition score</th>\n",
       "    </tr>\n",
       "  </thead>\n",
       "  <tbody>\n",
       "    <tr>\n",
       "      <th>15</th>\n",
       "      <td>6</td>\n",
       "      <td>0</td>\n",
       "      <td>1</td>\n",
       "      <td>12</td>\n",
       "      <td>11</td>\n",
       "    </tr>\n",
       "    <tr>\n",
       "      <th>18</th>\n",
       "      <td>5</td>\n",
       "      <td>0</td>\n",
       "      <td>0</td>\n",
       "      <td>15</td>\n",
       "      <td>15</td>\n",
       "    </tr>\n",
       "    <tr>\n",
       "      <th>21</th>\n",
       "      <td>8</td>\n",
       "      <td>1</td>\n",
       "      <td>0</td>\n",
       "      <td>12</td>\n",
       "      <td>14</td>\n",
       "    </tr>\n",
       "    <tr>\n",
       "      <th>24</th>\n",
       "      <td>5</td>\n",
       "      <td>1</td>\n",
       "      <td>0</td>\n",
       "      <td>14</td>\n",
       "      <td>17</td>\n",
       "    </tr>\n",
       "    <tr>\n",
       "      <th>25</th>\n",
       "      <td>6</td>\n",
       "      <td>1</td>\n",
       "      <td>0</td>\n",
       "      <td>15</td>\n",
       "      <td>17</td>\n",
       "    </tr>\n",
       "    <tr>\n",
       "      <th>26</th>\n",
       "      <td>5</td>\n",
       "      <td>1</td>\n",
       "      <td>0</td>\n",
       "      <td>13</td>\n",
       "      <td>17</td>\n",
       "    </tr>\n",
       "  </tbody>\n",
       "</table>\n",
       "</div>"
      ],
      "text/plain": [
       "    Staff  Location_High Street  Location_Shopping Centre  Competition number  \\\n",
       "15      6                     0                         1                  12   \n",
       "18      5                     0                         0                  15   \n",
       "21      8                     1                         0                  12   \n",
       "24      5                     1                         0                  14   \n",
       "25      6                     1                         0                  15   \n",
       "26      5                     1                         0                  13   \n",
       "\n",
       "    Competition score  \n",
       "15                 11  \n",
       "18                 15  \n",
       "21                 14  \n",
       "24                 17  \n",
       "25                 17  \n",
       "26                 17  "
      ]
     },
     "metadata": {},
     "output_type": "display_data"
    }
   ],
   "source": [
    "# Find errors\n",
    "#print(test_y)\n",
    "#print(y_test_pred)\n",
    "# 15 (1 pred zero), 18 (1 pred zero), 21 (1 pred zero), 24 (zero pred 1), 25 (zero pred 1), 26 (zero pred 1)\n",
    "display(test_X_final.iloc[[15, 18, 21, 24, 25, 26]])"
   ]
  },
  {
   "cell_type": "code",
   "execution_count": null,
   "metadata": {},
   "outputs": [],
   "source": []
  },
  {
   "cell_type": "code",
   "execution_count": null,
   "metadata": {},
   "outputs": [],
   "source": []
  }
 ],
 "metadata": {
  "kernelspec": {
   "display_name": "Python 3",
   "language": "python",
   "name": "python3"
  },
  "language_info": {
   "codemirror_mode": {
    "name": "ipython",
    "version": 3
   },
   "file_extension": ".py",
   "mimetype": "text/x-python",
   "name": "python",
   "nbconvert_exporter": "python",
   "pygments_lexer": "ipython3",
   "version": "3.8.3"
  }
 },
 "nbformat": 4,
 "nbformat_minor": 4
}
